{
 "cells": [
  {
   "cell_type": "markdown",
   "metadata": {},
   "source": [
    "# Crawling\n",
    "- 링크를 전부 가져와서 또 다시 링크로 들어가서 확인해 보는 것\n",
    "- __링크를 저장__\n",
    "- q: query"
   ]
  },
  {
   "cell_type": "code",
   "execution_count": 1,
   "metadata": {},
   "outputs": [],
   "source": [
    "import requests\n",
    "from bs4 import BeautifulSoup"
   ]
  },
  {
   "cell_type": "code",
   "execution_count": 2,
   "metadata": {},
   "outputs": [],
   "source": [
    "headers = {\n",
    "    \"user-agent\":\"Mozilla/5.0 (Macintosh; Intel Mac OS X 10_13_5) AppleWebKit/537.36 (KHTML, like Gecko) Chrome/67.0.3396.99 Safari/537.36\"\n",
    "}\n",
    "params = {\n",
    "    \"q\" :\"한글\"\n",
    "}\n",
    "url = \"http://www.google.com/search\""
   ]
  },
  {
   "cell_type": "code",
   "execution_count": 3,
   "metadata": {},
   "outputs": [],
   "source": [
    "html = requests.get(url, params=params, headers=headers)"
   ]
  },
  {
   "cell_type": "code",
   "execution_count": 4,
   "metadata": {},
   "outputs": [
    {
     "data": {
      "text/plain": [
       "requests.models.Response"
      ]
     },
     "execution_count": 4,
     "metadata": {},
     "output_type": "execute_result"
    }
   ],
   "source": [
    "type(html)"
   ]
  },
  {
   "cell_type": "code",
   "execution_count": 5,
   "metadata": {},
   "outputs": [
    {
     "data": {
      "text/plain": [
       "'UTF-8'"
      ]
     },
     "execution_count": 5,
     "metadata": {},
     "output_type": "execute_result"
    }
   ],
   "source": [
    "html.encoding"
   ]
  },
  {
   "cell_type": "code",
   "execution_count": 6,
   "metadata": {},
   "outputs": [
    {
     "data": {
      "text/plain": [
       "str"
      ]
     },
     "execution_count": 6,
     "metadata": {},
     "output_type": "execute_result"
    }
   ],
   "source": [
    "type(html.text)"
   ]
  },
  {
   "cell_type": "code",
   "execution_count": 7,
   "metadata": {},
   "outputs": [],
   "source": [
    "dom = BeautifulSoup(html.text, \"lxml\")"
   ]
  },
  {
   "cell_type": "code",
   "execution_count": 8,
   "metadata": {},
   "outputs": [
    {
     "data": {
      "text/plain": [
       "bs4.BeautifulSoup"
      ]
     },
     "execution_count": 8,
     "metadata": {},
     "output_type": "execute_result"
    }
   ],
   "source": [
    "type(dom) #최상위 노드 "
   ]
  },
  {
   "cell_type": "code",
   "execution_count": 9,
   "metadata": {
    "scrolled": true
   },
   "outputs": [],
   "source": [
    "aList = dom.select('div.rc > h3.r > a')"
   ]
  },
  {
   "cell_type": "code",
   "execution_count": 10,
   "metadata": {},
   "outputs": [
    {
     "data": {
      "text/plain": [
       "8"
      ]
     },
     "execution_count": 10,
     "metadata": {},
     "output_type": "execute_result"
    }
   ],
   "source": [
    "len(aList)"
   ]
  },
  {
   "cell_type": "code",
   "execution_count": 11,
   "metadata": {},
   "outputs": [
    {
     "name": "stdout",
     "output_type": "stream",
     "text": [
      "다운로드 : 한글과컴퓨터 - Hancom\n",
      "Windows : 한글과컴퓨터 - Hancom\n",
      "한글 - 나무위키\n",
      "한컴오피스 한글 - 나무위키\n",
      "한글 - 위키백과, 우리 모두의 백과사전\n",
      "한국어 입문/한글 자모 - 위키책\n",
      "한글의 구성 - 알고 싶은 한글\n",
      "제3회 한글 창의 아이디어 공모전(2017) 공모 < 공지사항<알림마당 ...\n"
     ]
    }
   ],
   "source": [
    "for row in aList:\n",
    "    print(row.text)"
   ]
  },
  {
   "cell_type": "code",
   "execution_count": 12,
   "metadata": {},
   "outputs": [
    {
     "name": "stdout",
     "output_type": "stream",
     "text": [
      "http://www.hancom.com/downLoad.downPU.do\n",
      "https://www.hancom.com/product/productWindowsMain.do\n",
      "https://namu.wiki/w/%ED%95%9C%EA%B8%80\n",
      "https://namu.wiki/w/%ED%95%9C%EC%BB%B4%EC%98%A4%ED%94%BC%EC%8A%A4%20%ED%95%9C%EA%B8%80\n",
      "https://ko.wikipedia.org/wiki/%ED%95%9C%EA%B8%80\n",
      "https://ko.wikibooks.org/wiki/%ED%95%9C%EA%B5%AD%EC%96%B4_%EC%9E%85%EB%AC%B8/%ED%95%9C%EA%B8%80_%EC%9E%90%EB%AA%A8\n",
      "https://www.korean.go.kr/hangeul/principle/001.html\n",
      "http://www.kocca.kr/cop/bbs/view/B0000137/1833364.do?menuNo=200827&noticevent=Y\n"
     ]
    }
   ],
   "source": [
    "for row in aList:\n",
    "    print(row[\"href\"])"
   ]
  },
  {
   "cell_type": "code",
   "execution_count": 13,
   "metadata": {},
   "outputs": [],
   "source": [
    "def getURL(url, params=None, num_retries=2):\n",
    "    html = requests.get(url, params=params, headers=headers)\n",
    "    if 500 <= html.status_code < 600 and nun_retries > 0 :\n",
    "        print(html.status_code, html.reason)\n",
    "        return getURL(url, num_retries - 1)\n",
    "    \n",
    "    dom = BeautifulSoup(html.text,\"lxml\")\n",
    "    links = dom.select(\"div.rc > h3.r > a\") #css selector는 구글에서만 실행\n",
    "    \n",
    "    return [link[\"href\"] for link in links]"
   ]
  },
  {
   "cell_type": "code",
   "execution_count": 14,
   "metadata": {},
   "outputs": [],
   "source": [
    "links = getURL(url, params=params)"
   ]
  },
  {
   "cell_type": "code",
   "execution_count": 15,
   "metadata": {},
   "outputs": [
    {
     "data": {
      "text/plain": [
       "['http://www.hancom.com/downLoad.downPU.do',\n",
       " 'https://www.hancom.com/product/productWindowsMain.do',\n",
       " 'https://namu.wiki/w/%ED%95%9C%EA%B8%80',\n",
       " 'https://namu.wiki/w/%ED%95%9C%EC%BB%B4%EC%98%A4%ED%94%BC%EC%8A%A4%20%ED%95%9C%EA%B8%80',\n",
       " 'https://ko.wikipedia.org/wiki/%ED%95%9C%EA%B8%80',\n",
       " 'https://ko.wikibooks.org/wiki/%ED%95%9C%EA%B5%AD%EC%96%B4_%EC%9E%85%EB%AC%B8/%ED%95%9C%EA%B8%80_%EC%9E%90%EB%AA%A8',\n",
       " 'https://www.korean.go.kr/hangeul/principle/001.html',\n",
       " 'http://www.kocca.kr/cop/bbs/view/B0000137/1833364.do?menuNo=200827&noticevent=Y']"
      ]
     },
     "execution_count": 15,
     "metadata": {},
     "output_type": "execute_result"
    }
   ],
   "source": [
    "links"
   ]
  },
  {
   "cell_type": "code",
   "execution_count": 16,
   "metadata": {},
   "outputs": [],
   "source": [
    "def getURL(url, params=None, select=\"a\", num_retries=2):\n",
    "    html = requests.get(url, params=params, headers=headers)\n",
    "    \n",
    "    if 500 <= html.status_code < 600 and nun_retries > 0 :\n",
    "        print(html.status_code, html.reason)\n",
    "        return getURL(url, params, select, num_retries - 1)\n",
    "    \n",
    "    dom = BeautifulSoup(html.text,\"lxml\")\n",
    "    links = dom.select(select) #css selector는 구글에서만 실행\n",
    "    \n",
    "    return [link[\"href\"] for link in links if link.has_attr(\"href\")==True]"
   ]
  },
  {
   "cell_type": "code",
   "execution_count": 17,
   "metadata": {},
   "outputs": [
    {
     "name": "stdout",
     "output_type": "stream",
     "text": [
      "['http://www.google.com/search']\n"
     ]
    }
   ],
   "source": [
    "seed = \"http://www.google.com/search\"\n",
    "select = \"div.rc > h3.r > a\"\n",
    "\n",
    "queue = getURL(seed, params, select)\n",
    "queue = [seed]\n",
    "print(queue)"
   ]
  },
  {
   "cell_type": "markdown",
   "metadata": {},
   "source": [
    "### 링크 안으로 들어가서 계속 crawling 하는 방법\n",
    "- queue안에는 들어갔을 때 그 안에 존재하는 링크 태그를 전부 저장한 것이다. "
   ]
  },
  {
   "cell_type": "code",
   "execution_count": 18,
   "metadata": {},
   "outputs": [
    {
     "name": "stdout",
     "output_type": "stream",
     "text": [
      "http://www.google.com/search 8\n",
      "http://www.kocca.kr/cop/bbs/view/B0000137/1833364.do?menuNo=200827&noticevent=Y 271\n"
     ]
    },
    {
     "ename": "MissingSchema",
     "evalue": "Invalid URL '#': No schema supplied. Perhaps you meant http://#?",
     "output_type": "error",
     "traceback": [
      "\u001b[0;31m---------------------------------------------------------------------------\u001b[0m",
      "\u001b[0;31mMissingSchema\u001b[0m                             Traceback (most recent call last)",
      "\u001b[0;32m<ipython-input-18-b1c96e0c2023>\u001b[0m in \u001b[0;36m<module>\u001b[0;34m()\u001b[0m\n\u001b[1;32m      1\u001b[0m \u001b[0;32mwhile\u001b[0m \u001b[0mqueue\u001b[0m\u001b[0;34m:\u001b[0m \u001b[0;31m#queue 안에 url 있어야 실행\u001b[0m\u001b[0;34m\u001b[0m\u001b[0m\n\u001b[1;32m      2\u001b[0m     \u001b[0murl\u001b[0m \u001b[0;34m=\u001b[0m \u001b[0mqueue\u001b[0m\u001b[0;34m.\u001b[0m\u001b[0mpop\u001b[0m\u001b[0;34m(\u001b[0m\u001b[0;34m)\u001b[0m\u001b[0;34m\u001b[0m\u001b[0m\n\u001b[0;32m----> 3\u001b[0;31m     \u001b[0mqueue\u001b[0m\u001b[0;34m.\u001b[0m\u001b[0mextend\u001b[0m\u001b[0;34m(\u001b[0m\u001b[0mgetURL\u001b[0m\u001b[0;34m(\u001b[0m\u001b[0murl\u001b[0m\u001b[0;34m,\u001b[0m \u001b[0mparams\u001b[0m\u001b[0;34m=\u001b[0m\u001b[0mparams\u001b[0m\u001b[0;34m,\u001b[0m \u001b[0mselect\u001b[0m\u001b[0;34m=\u001b[0m\u001b[0mselect\u001b[0m\u001b[0;34m)\u001b[0m\u001b[0;34m)\u001b[0m\u001b[0;34m\u001b[0m\u001b[0m\n\u001b[0m\u001b[1;32m      4\u001b[0m     \u001b[0mprint\u001b[0m\u001b[0;34m(\u001b[0m\u001b[0murl\u001b[0m\u001b[0;34m,\u001b[0m \u001b[0mlen\u001b[0m\u001b[0;34m(\u001b[0m\u001b[0mqueue\u001b[0m\u001b[0;34m)\u001b[0m\u001b[0;34m)\u001b[0m\u001b[0;34m\u001b[0m\u001b[0m\n\u001b[1;32m      5\u001b[0m     \u001b[0mselect\u001b[0m \u001b[0;34m=\u001b[0m \u001b[0;34m\"a\"\u001b[0m\u001b[0;34m\u001b[0m\u001b[0m\n",
      "\u001b[0;32m<ipython-input-16-b3e6c9e99dac>\u001b[0m in \u001b[0;36mgetURL\u001b[0;34m(url, params, select, num_retries)\u001b[0m\n\u001b[1;32m      1\u001b[0m \u001b[0;32mdef\u001b[0m \u001b[0mgetURL\u001b[0m\u001b[0;34m(\u001b[0m\u001b[0murl\u001b[0m\u001b[0;34m,\u001b[0m \u001b[0mparams\u001b[0m\u001b[0;34m=\u001b[0m\u001b[0;32mNone\u001b[0m\u001b[0;34m,\u001b[0m \u001b[0mselect\u001b[0m\u001b[0;34m=\u001b[0m\u001b[0;34m\"a\"\u001b[0m\u001b[0;34m,\u001b[0m \u001b[0mnum_retries\u001b[0m\u001b[0;34m=\u001b[0m\u001b[0;36m2\u001b[0m\u001b[0;34m)\u001b[0m\u001b[0;34m:\u001b[0m\u001b[0;34m\u001b[0m\u001b[0m\n\u001b[0;32m----> 2\u001b[0;31m     \u001b[0mhtml\u001b[0m \u001b[0;34m=\u001b[0m \u001b[0mrequests\u001b[0m\u001b[0;34m.\u001b[0m\u001b[0mget\u001b[0m\u001b[0;34m(\u001b[0m\u001b[0murl\u001b[0m\u001b[0;34m,\u001b[0m \u001b[0mparams\u001b[0m\u001b[0;34m=\u001b[0m\u001b[0mparams\u001b[0m\u001b[0;34m,\u001b[0m \u001b[0mheaders\u001b[0m\u001b[0;34m=\u001b[0m\u001b[0mheaders\u001b[0m\u001b[0;34m)\u001b[0m\u001b[0;34m\u001b[0m\u001b[0m\n\u001b[0m\u001b[1;32m      3\u001b[0m \u001b[0;34m\u001b[0m\u001b[0m\n\u001b[1;32m      4\u001b[0m     \u001b[0;32mif\u001b[0m \u001b[0;36m500\u001b[0m \u001b[0;34m<=\u001b[0m \u001b[0mhtml\u001b[0m\u001b[0;34m.\u001b[0m\u001b[0mstatus_code\u001b[0m \u001b[0;34m<\u001b[0m \u001b[0;36m600\u001b[0m \u001b[0;32mand\u001b[0m \u001b[0mnun_retries\u001b[0m \u001b[0;34m>\u001b[0m \u001b[0;36m0\u001b[0m \u001b[0;34m:\u001b[0m\u001b[0;34m\u001b[0m\u001b[0m\n\u001b[1;32m      5\u001b[0m         \u001b[0mprint\u001b[0m\u001b[0;34m(\u001b[0m\u001b[0mhtml\u001b[0m\u001b[0;34m.\u001b[0m\u001b[0mstatus_code\u001b[0m\u001b[0;34m,\u001b[0m \u001b[0mhtml\u001b[0m\u001b[0;34m.\u001b[0m\u001b[0mreason\u001b[0m\u001b[0;34m)\u001b[0m\u001b[0;34m\u001b[0m\u001b[0m\n",
      "\u001b[0;32m/anaconda3/lib/python3.6/site-packages/requests/api.py\u001b[0m in \u001b[0;36mget\u001b[0;34m(url, params, **kwargs)\u001b[0m\n\u001b[1;32m     70\u001b[0m \u001b[0;34m\u001b[0m\u001b[0m\n\u001b[1;32m     71\u001b[0m     \u001b[0mkwargs\u001b[0m\u001b[0;34m.\u001b[0m\u001b[0msetdefault\u001b[0m\u001b[0;34m(\u001b[0m\u001b[0;34m'allow_redirects'\u001b[0m\u001b[0;34m,\u001b[0m \u001b[0;32mTrue\u001b[0m\u001b[0;34m)\u001b[0m\u001b[0;34m\u001b[0m\u001b[0m\n\u001b[0;32m---> 72\u001b[0;31m     \u001b[0;32mreturn\u001b[0m \u001b[0mrequest\u001b[0m\u001b[0;34m(\u001b[0m\u001b[0;34m'get'\u001b[0m\u001b[0;34m,\u001b[0m \u001b[0murl\u001b[0m\u001b[0;34m,\u001b[0m \u001b[0mparams\u001b[0m\u001b[0;34m=\u001b[0m\u001b[0mparams\u001b[0m\u001b[0;34m,\u001b[0m \u001b[0;34m**\u001b[0m\u001b[0mkwargs\u001b[0m\u001b[0;34m)\u001b[0m\u001b[0;34m\u001b[0m\u001b[0m\n\u001b[0m\u001b[1;32m     73\u001b[0m \u001b[0;34m\u001b[0m\u001b[0m\n\u001b[1;32m     74\u001b[0m \u001b[0;34m\u001b[0m\u001b[0m\n",
      "\u001b[0;32m/anaconda3/lib/python3.6/site-packages/requests/api.py\u001b[0m in \u001b[0;36mrequest\u001b[0;34m(method, url, **kwargs)\u001b[0m\n\u001b[1;32m     56\u001b[0m     \u001b[0;31m# cases, and look like a memory leak in others.\u001b[0m\u001b[0;34m\u001b[0m\u001b[0;34m\u001b[0m\u001b[0m\n\u001b[1;32m     57\u001b[0m     \u001b[0;32mwith\u001b[0m \u001b[0msessions\u001b[0m\u001b[0;34m.\u001b[0m\u001b[0mSession\u001b[0m\u001b[0;34m(\u001b[0m\u001b[0;34m)\u001b[0m \u001b[0;32mas\u001b[0m \u001b[0msession\u001b[0m\u001b[0;34m:\u001b[0m\u001b[0;34m\u001b[0m\u001b[0m\n\u001b[0;32m---> 58\u001b[0;31m         \u001b[0;32mreturn\u001b[0m \u001b[0msession\u001b[0m\u001b[0;34m.\u001b[0m\u001b[0mrequest\u001b[0m\u001b[0;34m(\u001b[0m\u001b[0mmethod\u001b[0m\u001b[0;34m=\u001b[0m\u001b[0mmethod\u001b[0m\u001b[0;34m,\u001b[0m \u001b[0murl\u001b[0m\u001b[0;34m=\u001b[0m\u001b[0murl\u001b[0m\u001b[0;34m,\u001b[0m \u001b[0;34m**\u001b[0m\u001b[0mkwargs\u001b[0m\u001b[0;34m)\u001b[0m\u001b[0;34m\u001b[0m\u001b[0m\n\u001b[0m\u001b[1;32m     59\u001b[0m \u001b[0;34m\u001b[0m\u001b[0m\n\u001b[1;32m     60\u001b[0m \u001b[0;34m\u001b[0m\u001b[0m\n",
      "\u001b[0;32m/anaconda3/lib/python3.6/site-packages/requests/sessions.py\u001b[0m in \u001b[0;36mrequest\u001b[0;34m(self, method, url, params, data, headers, cookies, files, auth, timeout, allow_redirects, proxies, hooks, stream, verify, cert, json)\u001b[0m\n\u001b[1;32m    492\u001b[0m             \u001b[0mhooks\u001b[0m\u001b[0;34m=\u001b[0m\u001b[0mhooks\u001b[0m\u001b[0;34m,\u001b[0m\u001b[0;34m\u001b[0m\u001b[0m\n\u001b[1;32m    493\u001b[0m         )\n\u001b[0;32m--> 494\u001b[0;31m         \u001b[0mprep\u001b[0m \u001b[0;34m=\u001b[0m \u001b[0mself\u001b[0m\u001b[0;34m.\u001b[0m\u001b[0mprepare_request\u001b[0m\u001b[0;34m(\u001b[0m\u001b[0mreq\u001b[0m\u001b[0;34m)\u001b[0m\u001b[0;34m\u001b[0m\u001b[0m\n\u001b[0m\u001b[1;32m    495\u001b[0m \u001b[0;34m\u001b[0m\u001b[0m\n\u001b[1;32m    496\u001b[0m         \u001b[0mproxies\u001b[0m \u001b[0;34m=\u001b[0m \u001b[0mproxies\u001b[0m \u001b[0;32mor\u001b[0m \u001b[0;34m{\u001b[0m\u001b[0;34m}\u001b[0m\u001b[0;34m\u001b[0m\u001b[0m\n",
      "\u001b[0;32m/anaconda3/lib/python3.6/site-packages/requests/sessions.py\u001b[0m in \u001b[0;36mprepare_request\u001b[0;34m(self, request)\u001b[0m\n\u001b[1;32m    435\u001b[0m             \u001b[0mauth\u001b[0m\u001b[0;34m=\u001b[0m\u001b[0mmerge_setting\u001b[0m\u001b[0;34m(\u001b[0m\u001b[0mauth\u001b[0m\u001b[0;34m,\u001b[0m \u001b[0mself\u001b[0m\u001b[0;34m.\u001b[0m\u001b[0mauth\u001b[0m\u001b[0;34m)\u001b[0m\u001b[0;34m,\u001b[0m\u001b[0;34m\u001b[0m\u001b[0m\n\u001b[1;32m    436\u001b[0m             \u001b[0mcookies\u001b[0m\u001b[0;34m=\u001b[0m\u001b[0mmerged_cookies\u001b[0m\u001b[0;34m,\u001b[0m\u001b[0;34m\u001b[0m\u001b[0m\n\u001b[0;32m--> 437\u001b[0;31m             \u001b[0mhooks\u001b[0m\u001b[0;34m=\u001b[0m\u001b[0mmerge_hooks\u001b[0m\u001b[0;34m(\u001b[0m\u001b[0mrequest\u001b[0m\u001b[0;34m.\u001b[0m\u001b[0mhooks\u001b[0m\u001b[0;34m,\u001b[0m \u001b[0mself\u001b[0m\u001b[0;34m.\u001b[0m\u001b[0mhooks\u001b[0m\u001b[0;34m)\u001b[0m\u001b[0;34m,\u001b[0m\u001b[0;34m\u001b[0m\u001b[0m\n\u001b[0m\u001b[1;32m    438\u001b[0m         )\n\u001b[1;32m    439\u001b[0m         \u001b[0;32mreturn\u001b[0m \u001b[0mp\u001b[0m\u001b[0;34m\u001b[0m\u001b[0m\n",
      "\u001b[0;32m/anaconda3/lib/python3.6/site-packages/requests/models.py\u001b[0m in \u001b[0;36mprepare\u001b[0;34m(self, method, url, headers, files, data, params, auth, cookies, hooks, json)\u001b[0m\n\u001b[1;32m    303\u001b[0m \u001b[0;34m\u001b[0m\u001b[0m\n\u001b[1;32m    304\u001b[0m         \u001b[0mself\u001b[0m\u001b[0;34m.\u001b[0m\u001b[0mprepare_method\u001b[0m\u001b[0;34m(\u001b[0m\u001b[0mmethod\u001b[0m\u001b[0;34m)\u001b[0m\u001b[0;34m\u001b[0m\u001b[0m\n\u001b[0;32m--> 305\u001b[0;31m         \u001b[0mself\u001b[0m\u001b[0;34m.\u001b[0m\u001b[0mprepare_url\u001b[0m\u001b[0;34m(\u001b[0m\u001b[0murl\u001b[0m\u001b[0;34m,\u001b[0m \u001b[0mparams\u001b[0m\u001b[0;34m)\u001b[0m\u001b[0;34m\u001b[0m\u001b[0m\n\u001b[0m\u001b[1;32m    306\u001b[0m         \u001b[0mself\u001b[0m\u001b[0;34m.\u001b[0m\u001b[0mprepare_headers\u001b[0m\u001b[0;34m(\u001b[0m\u001b[0mheaders\u001b[0m\u001b[0;34m)\u001b[0m\u001b[0;34m\u001b[0m\u001b[0m\n\u001b[1;32m    307\u001b[0m         \u001b[0mself\u001b[0m\u001b[0;34m.\u001b[0m\u001b[0mprepare_cookies\u001b[0m\u001b[0;34m(\u001b[0m\u001b[0mcookies\u001b[0m\u001b[0;34m)\u001b[0m\u001b[0;34m\u001b[0m\u001b[0m\n",
      "\u001b[0;32m/anaconda3/lib/python3.6/site-packages/requests/models.py\u001b[0m in \u001b[0;36mprepare_url\u001b[0;34m(self, url, params)\u001b[0m\n\u001b[1;32m    377\u001b[0m             \u001b[0merror\u001b[0m \u001b[0;34m=\u001b[0m \u001b[0merror\u001b[0m\u001b[0;34m.\u001b[0m\u001b[0mformat\u001b[0m\u001b[0;34m(\u001b[0m\u001b[0mto_native_string\u001b[0m\u001b[0;34m(\u001b[0m\u001b[0murl\u001b[0m\u001b[0;34m,\u001b[0m \u001b[0;34m'utf8'\u001b[0m\u001b[0;34m)\u001b[0m\u001b[0;34m)\u001b[0m\u001b[0;34m\u001b[0m\u001b[0m\n\u001b[1;32m    378\u001b[0m \u001b[0;34m\u001b[0m\u001b[0m\n\u001b[0;32m--> 379\u001b[0;31m             \u001b[0;32mraise\u001b[0m \u001b[0mMissingSchema\u001b[0m\u001b[0;34m(\u001b[0m\u001b[0merror\u001b[0m\u001b[0;34m)\u001b[0m\u001b[0;34m\u001b[0m\u001b[0m\n\u001b[0m\u001b[1;32m    380\u001b[0m \u001b[0;34m\u001b[0m\u001b[0m\n\u001b[1;32m    381\u001b[0m         \u001b[0;32mif\u001b[0m \u001b[0;32mnot\u001b[0m \u001b[0mhost\u001b[0m\u001b[0;34m:\u001b[0m\u001b[0;34m\u001b[0m\u001b[0m\n",
      "\u001b[0;31mMissingSchema\u001b[0m: Invalid URL '#': No schema supplied. Perhaps you meant http://#?"
     ]
    }
   ],
   "source": [
    "while queue: #queue 안에 url 있어야 실행\n",
    "    url = queue.pop()\n",
    "    queue.extend(getURL(url, params=params, select=select))\n",
    "    print(url, len(queue))\n",
    "    select = \"a\""
   ]
  },
  {
   "cell_type": "code",
   "execution_count": 19,
   "metadata": {
    "scrolled": true
   },
   "outputs": [
    {
     "data": {
      "text/plain": [
       "270"
      ]
     },
     "execution_count": 19,
     "metadata": {},
     "output_type": "execute_result"
    }
   ],
   "source": [
    "len(queue)"
   ]
  },
  {
   "cell_type": "markdown",
   "metadata": {},
   "source": [
    "- 처음 select를 통해서 구글의 링크를 확인한다.\n",
    "- 구글의 링크를 확인한 다음에 결과에 저장한다. \n",
    "- 처음 페이지 구글 페이지에 존재하는 리스트만 확인한다. "
   ]
  },
  {
   "cell_type": "code",
   "execution_count": 20,
   "metadata": {},
   "outputs": [],
   "source": [
    "seed = \"http://www.google.com/search\"\n",
    "select = \"div.rc > h3.r > a\"\n",
    "\n",
    "queue = getURL(seed, params, select)\n",
    "result = list()"
   ]
  },
  {
   "cell_type": "code",
   "execution_count": 21,
   "metadata": {},
   "outputs": [
    {
     "name": "stdout",
     "output_type": "stream",
     "text": [
      "http://www.kocca.kr/cop/bbs/view/B0000137/1833364.do?menuNo=200827&noticevent=Y 0\n",
      "https://www.korean.go.kr/hangeul/principle/001.html 0\n",
      "https://ko.wikibooks.org/wiki/%ED%95%9C%EA%B5%AD%EC%96%B4_%EC%9E%85%EB%AC%B8/%ED%95%9C%EA%B8%80_%EC%9E%90%EB%AA%A8 0\n",
      "https://ko.wikipedia.org/wiki/%ED%95%9C%EA%B8%80 0\n",
      "https://namu.wiki/w/%ED%95%9C%EC%BB%B4%EC%98%A4%ED%94%BC%EC%8A%A4%20%ED%95%9C%EA%B8%80 0\n",
      "https://namu.wiki/w/%ED%95%9C%EA%B8%80 0\n",
      "https://www.hancom.com/product/productWindowsMain.do 0\n",
      "http://www.hancom.com/downLoad.downPU.do 0\n"
     ]
    }
   ],
   "source": [
    "while queue: #queue 안에 url 있어야 실행\n",
    "    url = queue.pop()\n",
    "    result.extend(getURL(url, params=params, select=select))\n",
    "    print(url, len(result))"
   ]
  },
  {
   "cell_type": "markdown",
   "metadata": {},
   "source": [
    "# 뽐뿌 자유게시판 실습\n",
    "- 뽐뿌는 lxml로는 parsing이 되지 않는다.\n",
    "- accept-encoding을 false로 해야한다. "
   ]
  },
  {
   "cell_type": "code",
   "execution_count": 22,
   "metadata": {},
   "outputs": [],
   "source": [
    "def getURL(url, params=None, select='a', num_retries=2):\n",
    "    html = requests.get(url, params=params, headers=headers,)\n",
    "    \n",
    "    if 500 <= html.status_code < 600 and nun_retries > 0 :\n",
    "        print(html.status_code, html.reason)\n",
    "        return getURL(url, params, num_retries - 1)\n",
    "    \n",
    "    html = html.content.decode('euc-kr').encode('utf-8').decode('utf-8')\n",
    "    dom = BeautifulSoup(html,\"html.parser\")\n",
    "    links = dom.select(select) #css selector는 구글에서만 실행\n",
    "    return [link['href'] for link in links if link.has_attr('href') == True]"
   ]
  },
  {
   "cell_type": "code",
   "execution_count": 23,
   "metadata": {},
   "outputs": [],
   "source": [
    "seed = \"http://www.ppomppu.co.kr/zboard/zboard.php\"\n",
    "params = {\n",
    "    \"id\":\"freeboard\"\n",
    "}\n",
    "headers = {\n",
    "    \"user-agent\":\"Mozilla/5.0 (Macintosh; Intel Mac OS X 10_13_5) AppleWebKit/537.36 (KHTML, like Gecko) Chrome/67.0.3396.99 Safari/537.36\",\n",
    "    \"accept-encoding\":\"false\"\n",
    "}\n",
    "\n",
    "html = requests.get(seed, params=params, headers=headers)\n",
    "html = html.content.decode('euc-kr').encode('utf-8').decode('utf-8')"
   ]
  },
  {
   "cell_type": "markdown",
   "metadata": {},
   "source": [
    "### lxml은 훨씬 적은 결과가 나온다. 그러므로 잘 안된다는 것을 알 수 있다.\n",
    "- 스피드적인 부분에서는 좋지만 결과값이 다 나오지는 않는다."
   ]
  },
  {
   "cell_type": "code",
   "execution_count": 24,
   "metadata": {},
   "outputs": [
    {
     "data": {
      "text/plain": [
       "['http://www.ppomppu.co.kr/zboard/zboard.php?id=ppomppu',\n",
       " 'http://www.ppomppu.co.kr/zboard/zboard.php?id=event',\n",
       " 'http://www.ppomppu.co.kr/zboard/zboard.php?id=buy',\n",
       " 'http://www.ppomppu.co.kr/zboard/zboard.php?id=help',\n",
       " 'http://www.ppomppu.co.kr/zboard/zboard.php?id=freeboard',\n",
       " 'http://www.ppomppu.co.kr/zboard/zboard.php?id=etc_info',\n",
       " 'http://www.ppomppu.co.kr/zboard/zboard.php?id=free_picture',\n",
       " 'http://www.ppomppu.co.kr/zboard/zboard.php?id=news2',\n",
       " 'http://www.ppomppu.co.kr/zboard/zboard.php?id=review',\n",
       " 'http://www.ppomppu.co.kr/recent_main_article.php?type=market',\n",
       " 'http://www.ppomppu.co.kr/myinfo/env.php?cmd=env',\n",
       " 'http://www.ppomppu.co.kr/myinfo/member_bookmark.php',\n",
       " 'http://www.ppomppu.co.kr/index.php',\n",
       " '/zboard/zboard.php?id=freeboard',\n",
       " 'http://www.ppomppu.co.kr/zboard/zboard.php?id=ppomppu',\n",
       " 'http://www.ppomppu.co.kr/zboard/zboard.php?id=ppomppu',\n",
       " 'http://www.ppomppu.co.kr/zboard/zboard.php?id=ppomppu2',\n",
       " 'http://www.ppomppu.co.kr/zboard/zboard.php?id=ppomppu4',\n",
       " 'http://www.ppomppu.co.kr/zboard/zboard.php?id=ppomppu3',\n",
       " 'http://www.ppomppu.co.kr/zboard/zboard.php?id=ppomppu5',\n",
       " 'http://www.ppomppu.co.kr/zboard/zboard.php?id=ppomppu7',\n",
       " 'http://www.ppomppu.co.kr/zboard/zboard.php?id=ppomppu6',\n",
       " 'http://www.ppomppu.co.kr/zboard/zboard.php?id=pmarket',\n",
       " 'http://www.ppomppu.co.kr/zboard/zboard.php?id=pmarket2',\n",
       " 'http://www.ppomppu.co.kr/zboard/zboard.php?id=pmarket3',\n",
       " 'http://www.ppomppu.co.kr/zboard/zboard.php?id=card_market',\n",
       " 'http://www.ppomppu.co.kr/zboard/zboard.php?id=pmarket7',\n",
       " 'http://www.ppomppu.co.kr/books/index.php',\n",
       " 'http://www.ppomppu.co.kr/hot.php',\n",
       " 'http://www.ppomppu.co.kr/hot_comment.php',\n",
       " 'http://www.ppomppu.co.kr/recent_main_article.php?type=event',\n",
       " 'http://www.ppomppu.co.kr/zboard/zboard.php?id=event',\n",
       " 'http://www.ppomppu.co.kr/zboard/zboard.php?id=coupon',\n",
       " 'http://www.ppomppu.co.kr/zboard/zboard.php?id=mobile',\n",
       " 'http://www.ppomppu.co.kr/zboard/zboard.php?id=experience',\n",
       " 'http://www.ppomppu.co.kr/zboard/zboard.php?id=wcoupon',\n",
       " 'http://www.ppomppu.co.kr/zboard/zboard.php?id=wow',\n",
       " 'http://www.ppomppu.co.kr/zboard/zboard.php?id=event_ppomppu']"
      ]
     },
     "execution_count": 24,
     "metadata": {},
     "output_type": "execute_result"
    }
   ],
   "source": [
    "dom = BeautifulSoup(html,\"lxml\")\n",
    "dom.prettify()\n",
    "links = dom.select('a')\n",
    "#print(dom)\n",
    "[link['href'] for link in links if link.has_attr('href') == True]"
   ]
  },
  {
   "cell_type": "code",
   "execution_count": 25,
   "metadata": {},
   "outputs": [
    {
     "data": {
      "text/plain": [
       "['http://www.ppomppu.co.kr/zboard/zboard.php?id=ppomppu',\n",
       " 'http://www.ppomppu.co.kr/zboard/zboard.php?id=event',\n",
       " 'http://www.ppomppu.co.kr/zboard/zboard.php?id=buy',\n",
       " 'http://www.ppomppu.co.kr/zboard/zboard.php?id=help',\n",
       " 'http://www.ppomppu.co.kr/zboard/zboard.php?id=freeboard',\n",
       " 'http://www.ppomppu.co.kr/zboard/zboard.php?id=etc_info',\n",
       " 'http://www.ppomppu.co.kr/zboard/zboard.php?id=free_picture',\n",
       " 'http://www.ppomppu.co.kr/zboard/zboard.php?id=news2',\n",
       " 'http://www.ppomppu.co.kr/zboard/zboard.php?id=review',\n",
       " 'http://www.ppomppu.co.kr/recent_main_article.php?type=market',\n",
       " 'http://www.ppomppu.co.kr/myinfo/env.php?cmd=env',\n",
       " 'http://www.ppomppu.co.kr/myinfo/member_bookmark.php',\n",
       " 'http://www.ppomppu.co.kr/index.php',\n",
       " '/zboard/zboard.php?id=freeboard',\n",
       " 'http://www.ppomppu.co.kr/zboard/zboard.php?id=ppomppu',\n",
       " 'http://www.ppomppu.co.kr/zboard/zboard.php?id=ppomppu',\n",
       " 'http://www.ppomppu.co.kr/zboard/zboard.php?id=ppomppu2',\n",
       " 'http://www.ppomppu.co.kr/zboard/zboard.php?id=ppomppu4',\n",
       " 'http://www.ppomppu.co.kr/zboard/zboard.php?id=ppomppu3',\n",
       " 'http://www.ppomppu.co.kr/zboard/zboard.php?id=ppomppu5',\n",
       " 'http://www.ppomppu.co.kr/zboard/zboard.php?id=ppomppu7',\n",
       " 'http://www.ppomppu.co.kr/zboard/zboard.php?id=ppomppu6',\n",
       " 'http://www.ppomppu.co.kr/zboard/zboard.php?id=pmarket',\n",
       " 'http://www.ppomppu.co.kr/zboard/zboard.php?id=pmarket2',\n",
       " 'http://www.ppomppu.co.kr/zboard/zboard.php?id=pmarket3',\n",
       " 'http://www.ppomppu.co.kr/zboard/zboard.php?id=card_market',\n",
       " 'http://www.ppomppu.co.kr/zboard/zboard.php?id=pmarket7',\n",
       " 'http://www.ppomppu.co.kr/books/index.php',\n",
       " 'http://www.ppomppu.co.kr/hot.php',\n",
       " 'http://www.ppomppu.co.kr/hot_comment.php',\n",
       " 'http://www.ppomppu.co.kr/recent_main_article.php?type=event',\n",
       " 'http://www.ppomppu.co.kr/zboard/zboard.php?id=event',\n",
       " 'http://www.ppomppu.co.kr/zboard/zboard.php?id=coupon',\n",
       " 'http://www.ppomppu.co.kr/zboard/zboard.php?id=mobile',\n",
       " 'http://www.ppomppu.co.kr/zboard/zboard.php?id=experience',\n",
       " 'http://www.ppomppu.co.kr/zboard/zboard.php?id=wcoupon',\n",
       " 'http://www.ppomppu.co.kr/zboard/zboard.php?id=wow',\n",
       " 'http://www.ppomppu.co.kr/zboard/zboard.php?id=event_ppomppu',\n",
       " 'http://www.ppomppu.co.kr/recent_main_article.php?type=info',\n",
       " 'http://www.ppomppu.co.kr/zboard/zboard.php?id=etc_info',\n",
       " 'http://www.ppomppu.co.kr/zboard/zboard.php?id=ppomapp',\n",
       " 'http://www.ppomppu.co.kr/zboard/zboard.php?id=review',\n",
       " 'http://www.ppomppu.co.kr/zboard/zboard.php?id=agentnews',\n",
       " 'http://www.ppomppu.co.kr/zboard/zboard.php?id=receive',\n",
       " 'http://www.ppomppu.co.kr/zboard/zboard.php?id=buy',\n",
       " '/fortune/index.html',\n",
       " 'http://www.ppomppu.co.kr/zboard/zboard.php?id=flash_game',\n",
       " 'http://www.ppomppu.co.kr/zboard/zboard.php?id=freeboard',\n",
       " 'http://www.ppomppu.co.kr/zboard/zboard.php?id=freeboard',\n",
       " 'http://www.ppomppu.co.kr/zboard/zboard.php?id=issue',\n",
       " 'http://www.ppomppu.co.kr/zboard/zboard.php?id=humor',\n",
       " 'http://www.ppomppu.co.kr/zboard/zboard.php?id=help',\n",
       " 'http://www.ppomppu.co.kr/zboard/zboard.php?id=grade',\n",
       " 'http://www.ppomppu.co.kr/chat',\n",
       " 'http://www.ppomppu.co.kr/zboard/zboard.php?id=campaign',\n",
       " 'http://www.ppomppu.co.kr/zboard/zboard.php?id=free_picture',\n",
       " 'http://www.ppomppu.co.kr/zboard/zboard.php?id=free_picture',\n",
       " 'http://www.ppomppu.co.kr/zboard/zboard.php?id=mobile_gallery',\n",
       " 'http://www.ppomppu.co.kr/zboard/zboard.php?id=star',\n",
       " 'http://www.ppomppu.co.kr/zboard/zboard.php?id=sketch_gallery',\n",
       " 'http://www.ppomppu.co.kr/zboard/zboard.php?id=bg_gallery',\n",
       " 'http://www.ppomppu.co.kr/zboard/zboard.php?id=jjalbang',\n",
       " 'http://www.ppomppu.co.kr/zboard/zboard.php?id=picture',\n",
       " 'http://www.ppomppu.co.kr/zboard/zboard.php?id=review_gallery',\n",
       " 'http://www.ppomppu.co.kr/recent_main_article.php?type=market',\n",
       " 'http://www.ppomppu.co.kr/zboard/zboard.php?id=market',\n",
       " 'http://www.ppomppu.co.kr/zboard/zboard.php?id=market_phone',\n",
       " 'http://www.ppomppu.co.kr/zboard/zboard.php?id=market_data',\n",
       " 'http://www.ppomppu.co.kr/zboard/zboard.php?id=cmarket',\n",
       " 'http://www.ppomppu.co.kr/zboard/zboard.php?id=onmarket',\n",
       " 'http://www.ppomppu.co.kr/zboard/zboard.php?id=market_social',\n",
       " 'http://www.ppomppu.co.kr/zboard/zboard.php?id=market_oversea',\n",
       " 'http://www.ppomppu.co.kr/zboard/zboard.php?id=market_item',\n",
       " 'http://www.ppomppu.co.kr/zboard/zboard.php?id=market_talent',\n",
       " 'http://www.ppomppu.co.kr/zboard/zboard.php?id=market_bike',\n",
       " 'http://www.ppomppu.co.kr/zboard/zboard.php?id=market_ecig',\n",
       " 'http://www.ppomppu.co.kr/zboard/zboard.php?id=market_car',\n",
       " 'http://www.ppomppu.co.kr/zboard/zboard.php?id=market_camping',\n",
       " 'http://www.ppomppu.co.kr/zboard/zboard.php?id=gonggu',\n",
       " 'http://www.ppomppu.co.kr/zboard/zboard.php?id=gonggu_request',\n",
       " 'http://www.ppomppu.co.kr/zboard/zboard.php?id=market_agent',\n",
       " 'http://www.ppomppu.co.kr/zboard/zboard.php?id=guin',\n",
       " 'http://www.ppomppu.co.kr/zboard/zboard.php?id=market_story',\n",
       " 'http://www.ppomppu.co.kr/zboard/zboard.php?id=relay',\n",
       " 'http://www.ppomppu.co.kr/zboard/zboard.php?id=love',\n",
       " 'http://www.ppomppu.co.kr/recent_forum_article.php',\n",
       " 'http://www.ppomppu.co.kr/zboard/zboard.php?id=phone',\n",
       " 'http://www.ppomppu.co.kr/zboard/zboard.php?id=phone3',\n",
       " 'http://www.ppomppu.co.kr/zboard/zboard.php?id=phone2',\n",
       " 'http://www.ppomppu.co.kr/zboard/zboard.php?id=iphone',\n",
       " 'http://www.ppomppu.co.kr/zboard/zboard.php?id=tablet',\n",
       " 'http://www.ppomppu.co.kr/zboard/zboard.php?id=android',\n",
       " 'http://www.ppomppu.co.kr/zboard/zboard.php?id=androidtab',\n",
       " 'http://www.ppomppu.co.kr/zboard/zboard.php?id=wintab',\n",
       " 'http://www.ppomppu.co.kr/zboard/zboard.php?id=smartphone',\n",
       " 'http://www.ppomppu.co.kr/zboard/zboard.php?id=av',\n",
       " 'http://www.ppomppu.co.kr/zboard/zboard.php?id=mini',\n",
       " 'http://www.ppomppu.co.kr/zboard/zboard.php?id=computer',\n",
       " 'http://www.ppomppu.co.kr/zboard/zboard.php?id=nas',\n",
       " 'http://www.ppomppu.co.kr/zboard/zboard.php?id=macintosh',\n",
       " 'http://www.ppomppu.co.kr/zboard/zboard.php?id=golf',\n",
       " 'http://www.ppomppu.co.kr/zboard/zboard.php?id=fishing',\n",
       " 'http://www.ppomppu.co.kr/zboard/zboard.php?id=basketball',\n",
       " 'http://www.ppomppu.co.kr/zboard/zboard.php?id=climb',\n",
       " 'http://www.ppomppu.co.kr/zboard/zboard.php?id=motorbike',\n",
       " 'http://www.ppomppu.co.kr/zboard/zboard.php?id=lifesports',\n",
       " 'http://www.ppomppu.co.kr/zboard/zboard.php?id=swim',\n",
       " 'http://www.ppomppu.co.kr/zboard/zboard.php?id=ski',\n",
       " 'http://www.ppomppu.co.kr/zboard/zboard.php?id=scuba',\n",
       " 'http://www.ppomppu.co.kr/zboard/zboard.php?id=sports',\n",
       " 'http://www.ppomppu.co.kr/zboard/zboard.php?id=baseball',\n",
       " 'http://www.ppomppu.co.kr/zboard/zboard.php?id=ppom_baseball_team',\n",
       " 'http://www.ppomppu.co.kr/zboard/zboard.php?id=car',\n",
       " 'http://www.ppomppu.co.kr/zboard/zboard.php?id=bike',\n",
       " 'http://www.ppomppu.co.kr/zboard/zboard.php?id=soccer',\n",
       " 'http://www.ppomppu.co.kr/zboard/zboard.php?id=camping',\n",
       " 'http://www.ppomppu.co.kr/zboard/zboard.php?id=tennis',\n",
       " 'http://www.ppomppu.co.kr/zboard/zboard.php?id=health',\n",
       " 'http://www.ppomppu.co.kr/zboard/zboard.php?id=money',\n",
       " 'http://www.ppomppu.co.kr/zboard/zboard.php?id=social',\n",
       " 'http://www.ppomppu.co.kr/zboard/zboard.php?id=insurance',\n",
       " 'http://www.ppomppu.co.kr/zboard/zboard.php?id=stock',\n",
       " 'http://www.ppomppu.co.kr/zboard/zboard.php?id=soho',\n",
       " 'http://www.ppomppu.co.kr/zboard/zboard.php?id=bitcoin',\n",
       " 'http://www.ppomppu.co.kr/zboard/zboard.php?id=info_ico',\n",
       " 'http://www.ppomppu.co.kr/zboard/zboard.php?id=recommend',\n",
       " 'http://www.ppomppu.co.kr/zboard/zboard.php?id=lotto',\n",
       " 'http://www.ppomppu.co.kr/zboard/zboard.php?id=toto',\n",
       " 'http://www.ppomppu.co.kr/zboard/zboard.php?id=house',\n",
       " 'http://www.ppomppu.co.kr/zboard/zboard.php?id=offline',\n",
       " 'http://www.ppomppu.co.kr/zboard/zboard.php?id=country',\n",
       " 'http://www.ppomppu.co.kr/zboard/zboard.php?id=oversea',\n",
       " 'http://www.ppomppu.co.kr/zboard/zboard.php?id=china',\n",
       " 'http://www.ppomppu.co.kr/zboard/zboard.php?id=wedding',\n",
       " 'http://www.ppomppu.co.kr/zboard/zboard.php?id=problem',\n",
       " 'http://www.ppomppu.co.kr/zboard/zboard.php?id=publictransport',\n",
       " 'http://www.ppomppu.co.kr/zboard/zboard.php?id=nonsmoking',\n",
       " 'http://www.ppomppu.co.kr/zboard/zboard.php?id=e_cig',\n",
       " 'http://www.ppomppu.co.kr/zboard/zboard.php?id=pet',\n",
       " 'http://www.ppomppu.co.kr/zboard/zboard.php?id=mart',\n",
       " 'http://www.ppomppu.co.kr/zboard/zboard.php?id=restaurant',\n",
       " 'http://www.ppomppu.co.kr/zboard/zboard.php?id=medical',\n",
       " 'http://www.ppomppu.co.kr/zboard/zboard.php?id=delivery_food',\n",
       " 'http://www.ppomppu.co.kr/zboard/zboard.php?id=tour',\n",
       " 'http://www.ppomppu.co.kr/zboard/zboard.php?id=couple',\n",
       " 'http://www.ppomppu.co.kr/zboard/zboard.php?id=recipe',\n",
       " 'http://www.ppomppu.co.kr/zboard/zboard.php?id=fortune',\n",
       " 'http://www.ppomppu.co.kr/zboard/zboard.php?id=baby',\n",
       " 'http://www.ppomppu.co.kr/zboard/zboard.php?id=alone',\n",
       " 'http://www.ppomppu.co.kr/zboard/zboard.php?id=religion',\n",
       " 'http://www.ppomppu.co.kr/zboard/zboard.php?id=game',\n",
       " 'http://www.ppomppu.co.kr/zboard/zboard.php?id=gamer',\n",
       " 'http://www.ppomppu.co.kr/zboard/zboard.php?id=boardgame',\n",
       " 'http://www.ppomppu.co.kr/zboard/zboard.php?id=kakao_game',\n",
       " 'http://www.ppomppu.co.kr/zboard/zboard.php?id=gta',\n",
       " 'http://www.ppomppu.co.kr/zboard/zboard.php?id=LOL',\n",
       " 'http://www.ppomppu.co.kr/zboard/zboard.php?id=diablo',\n",
       " 'http://www.ppomppu.co.kr/zboard/zboard.php?id=lineagem',\n",
       " 'http://www.ppomppu.co.kr/zboard/zboard.php?id=pubg',\n",
       " 'http://www.ppomppu.co.kr/zboard/zboard.php?id=overwatch',\n",
       " 'http://www.ppomppu.co.kr/zboard/zboard.php?id=clashroyale',\n",
       " 'http://www.ppomppu.co.kr/zboard/zboard.php?id=pokemongo',\n",
       " 'http://www.ppomppu.co.kr/zboard/zboard.php?id=fifaonline',\n",
       " 'http://www.ppomppu.co.kr/zboard/zboard.php?id=drama',\n",
       " 'http://www.ppomppu.co.kr/zboard/zboard.php?id=book',\n",
       " 'http://www.ppomppu.co.kr/zboard/zboard.php?id=animation',\n",
       " 'http://www.ppomppu.co.kr/zboard/zboard.php?id=munwha',\n",
       " 'http://www.ppomppu.co.kr/zboard/zboard.php?id=announcer',\n",
       " 'http://www.ppomppu.co.kr/zboard/zboard.php?id=star',\n",
       " 'http://www.ppomppu.co.kr/zboard/zboard.php?id=movie',\n",
       " 'http://www.ppomppu.co.kr/zboard/zboard.php?id=music',\n",
       " 'http://www.ppomppu.co.kr/zboard/zboard.php?id=diy',\n",
       " 'http://www.ppomppu.co.kr/zboard/zboard.php?id=rc',\n",
       " 'http://www.ppomppu.co.kr/zboard/zboard.php?id=camera',\n",
       " 'http://www.ppomppu.co.kr/zboard/zboard.php?id=watch',\n",
       " 'http://www.ppomppu.co.kr/zboard/zboard.php?id=interior',\n",
       " 'http://www.ppomppu.co.kr/zboard/zboard.php?id=e_unicycle',\n",
       " 'http://www.ppomppu.co.kr/zboard/zboard.php?id=alcohol',\n",
       " 'http://www.ppomppu.co.kr/zboard/zboard.php?id=hobby',\n",
       " 'http://www.ppomppu.co.kr/zboard/zboard.php?id=coffee',\n",
       " 'http://www.ppomppu.co.kr/zboard/zboard.php?id=f7080',\n",
       " 'http://www.ppomppu.co.kr/zboard/zboard.php?id=morethan40',\n",
       " 'http://www.ppomppu.co.kr/zboard/zboard.php?id=developer',\n",
       " 'http://www.ppomppu.co.kr/zboard/zboard.php?id=army',\n",
       " 'http://www.ppomppu.co.kr/zboard/zboard.php?id=univ_student',\n",
       " 'http://www.ppomppu.co.kr/zboard/zboard.php?id=miz',\n",
       " 'http://www.ppomppu.co.kr/zboard/zboard.php?id=volunteer',\n",
       " 'http://www.ppomppu.co.kr/zboard/zboard.php?id=adult',\n",
       " 'http://www.ppomppu.co.kr/zboard/zboard.php?id=worker',\n",
       " 'http://www.ppomppu.co.kr/zboard/zboard.php?id=honjok',\n",
       " 'http://www.ppomppu.co.kr/zboard/zboard.php?id=fear',\n",
       " 'http://www.ppomppu.co.kr/zboard/zboard.php?id=science',\n",
       " 'http://www.ppomppu.co.kr/zboard/zboard.php?id=mungu',\n",
       " 'http://www.ppomppu.co.kr/zboard/zboard.php?id=stylesheet',\n",
       " 'http://www.ppomppu.co.kr/zboard/zboard.php?id=beauty',\n",
       " 'http://www.ppomppu.co.kr/zboard/zboard.php?id=history',\n",
       " 'http://www.ppomppu.co.kr/zboard/zboard.php?id=style',\n",
       " 'http://www.ppomppu.co.kr/zboard/zboard.php?id=whatever',\n",
       " 'http://www.ppomppu.co.kr/zboard/zboard.php?id=alba',\n",
       " 'http://www.ppomppu.co.kr/zboard/zboard.php?id=employment',\n",
       " 'http://www.ppomppu.co.kr/zboard/zboard.php?id=study',\n",
       " '/recent_forum_article.php',\n",
       " 'http://www.ppomppu.co.kr/recent_main_article.php?type=news',\n",
       " 'http://www.ppomppu.co.kr/zboard/zboard.php?id=news_broadcast',\n",
       " 'http://www.ppomppu.co.kr/zboard/zboard.php?id=news_sports',\n",
       " 'http://www.ppomppu.co.kr/zboard/zboard.php?id=news_life',\n",
       " 'http://www.ppomppu.co.kr/zboard/zboard.php?id=news_pol_eco',\n",
       " 'http://www.ppomppu.co.kr/zboard/zboard.php?id=news2',\n",
       " 'http://www.ppomppu.co.kr/zboard/zboard.php?id=news',\n",
       " 'http://www.ppomppu.co.kr/recent_main_article.php?type=consult',\n",
       " 'http://www.ppomppu.co.kr/zboard/zboard.php?id=consulting',\n",
       " 'http://www.ppomppu.co.kr/zboard/zboard.php?id=loan_consult',\n",
       " 'http://www.ppomppu.co.kr/zboard/zboard.php?id=wedding_consult',\n",
       " 'http://www.ppomppu.co.kr/zboard/zboard.php?id=move_consult',\n",
       " 'http://www.ppomppu.co.kr/zboard/zboard.php?id=tour_consult',\n",
       " 'http://www.ppomppu.co.kr/zboard/zboard.php?id=interior_consult',\n",
       " 'http://www.ppomppu.co.kr/zboard/zboard.php?id=bus_consult',\n",
       " 'http://www.ppomppu.co.kr/zboard/zboard.php?id=security_guard_consult',\n",
       " '/zboard/zboard.php?id=phone_consult',\n",
       " 'http://www.ppomppu.co.kr/zboard/zboard.php?id=tele_consult',\n",
       " 'http://www.ppomppu.co.kr/zboard/zboard.php?id=card_consult',\n",
       " 'http://www.ppomppu.co.kr/zboard/zboard.php?id=rental_consult',\n",
       " 'http://www.ppomppu.co.kr/zboard/zboard.php?id=law_consult',\n",
       " 'http://www.ppomppu.co.kr/zboard/zboard.php?id=tax_consult',\n",
       " 'http://www.ppomppu.co.kr/zboard/zboard.php?id=uhak_consult',\n",
       " 'http://www.ppomppu.co.kr/zboard/zboard.php?id=car_service',\n",
       " 'http://www.ppomppu.co.kr/zboard/zboard.php?id=car_consult',\n",
       " '/zboard/zboard.php?id=pc_consult',\n",
       " 'http://www.ppomppu.co.kr/zboard/zboard.php?id=ad_consult',\n",
       " 'https://www.ppomppu.co.kr/zboard/login.php?r_url=http%3A%2F%2Fwww.ppomppu.co.kr%2Fzboard%2Fzboard.php%3Fid%3Dfreeboard',\n",
       " '/https_redirect.php',\n",
       " 'https://www.ppomppu.co.kr/auth/auth.php?tab=id',\n",
       " 'https://www.ppomppu.co.kr/auth/auth.php?tab=pwd',\n",
       " '/zboard/zboard.php?id=freeboard',\n",
       " '/zboard/zboard.php?id=issue',\n",
       " '/zboard/zboard.php?id=humor',\n",
       " '/zboard/zboard.php?id=help',\n",
       " '/zboard/view.php?id=regulation&page=2&divpage=1&no=6',\n",
       " '/zboard/zboard.php?id=issue',\n",
       " '/zboard/zboard.php?id=help',\n",
       " '/hot.php?id=freeboard',\n",
       " '#',\n",
       " 'view.php?id=regulation&page=1&divpage=202&no=6',\n",
       " '#',\n",
       " 'view.php?id=freeboard&page=1&divpage=1111&no=5951939',\n",
       " '#',\n",
       " 'view.php?id=freeboard&page=1&divpage=1111&no=5951938',\n",
       " '#',\n",
       " 'view.php?id=freeboard&page=1&divpage=1111&no=5951937',\n",
       " '#',\n",
       " 'view.php?id=freeboard&page=1&divpage=1111&no=5951936',\n",
       " '#',\n",
       " 'view.php?id=freeboard&page=1&divpage=1111&no=5951935',\n",
       " '#',\n",
       " 'view.php?id=freeboard&page=1&divpage=1111&no=5951934',\n",
       " '#',\n",
       " 'view.php?id=freeboard&page=1&divpage=1111&no=5951933',\n",
       " '#',\n",
       " 'view.php?id=freeboard&page=1&divpage=1111&no=5951932',\n",
       " '#',\n",
       " 'view.php?id=freeboard&page=1&divpage=1111&no=5951931',\n",
       " '#',\n",
       " 'view.php?id=freeboard&page=1&divpage=1111&no=5951930',\n",
       " '#',\n",
       " 'view.php?id=freeboard&page=1&divpage=1111&no=5951929',\n",
       " '#',\n",
       " 'view.php?id=freeboard&page=1&divpage=1111&no=5951928',\n",
       " '#',\n",
       " 'view.php?id=freeboard&page=1&divpage=1111&no=5951927',\n",
       " '#',\n",
       " 'view.php?id=freeboard&page=1&divpage=1111&no=5951926',\n",
       " '#',\n",
       " 'view.php?id=freeboard&page=1&divpage=1111&no=5951925',\n",
       " '#',\n",
       " 'view.php?id=freeboard&page=1&divpage=1111&no=5951924',\n",
       " '#',\n",
       " 'view.php?id=freeboard&page=1&divpage=1111&no=5951923',\n",
       " '#',\n",
       " 'view.php?id=freeboard&page=1&divpage=1111&no=5951922',\n",
       " '#',\n",
       " 'view.php?id=freeboard&page=1&divpage=1111&no=5951921',\n",
       " '#',\n",
       " 'view.php?id=freeboard&page=1&divpage=1111&no=5951920',\n",
       " '#',\n",
       " 'view.php?id=freeboard&page=1&divpage=1111&no=5951919',\n",
       " '#',\n",
       " 'view.php?id=freeboard&page=1&divpage=1111&no=5951918',\n",
       " '#',\n",
       " 'view.php?id=freeboard&page=1&divpage=1111&no=5951917',\n",
       " '#',\n",
       " 'view.php?id=freeboard&page=1&divpage=1111&no=5951916',\n",
       " '#',\n",
       " 'view.php?id=freeboard&page=1&divpage=1111&no=5951915',\n",
       " '#',\n",
       " 'view.php?id=freeboard&page=1&divpage=1111&no=5951914',\n",
       " '#',\n",
       " 'view.php?id=freeboard&page=1&divpage=1111&no=5951913',\n",
       " '#',\n",
       " 'view.php?id=freeboard&page=1&divpage=1111&no=5951912',\n",
       " '#',\n",
       " 'view.php?id=freeboard&page=1&divpage=1111&no=5951911',\n",
       " '#',\n",
       " 'view.php?id=freeboard&page=1&divpage=1111&no=5951910',\n",
       " '/zboard/zboard.php?id=freeboard&page=1&prev_no=&divpage=1111',\n",
       " '/zboard/zboard.php?id=freeboard&page=2&divpage=1111',\n",
       " '/zboard/zboard.php?id=freeboard&page=2&divpage=1111',\n",
       " '/zboard/zboard.php?id=freeboard&page=3&divpage=1111',\n",
       " '/zboard/zboard.php?id=freeboard&page=4&divpage=1111',\n",
       " '/zboard/zboard.php?id=freeboard&page=5&divpage=1111',\n",
       " '/zboard/zboard.php?id=freeboard&page=6&divpage=1111',\n",
       " '/zboard/zboard.php?id=freeboard&page=7&divpage=1111',\n",
       " '/zboard/zboard.php?id=freeboard&page=8&divpage=1111',\n",
       " '/zboard/zboard.php?id=freeboard&page=9&divpage=1111',\n",
       " '/zboard/zboard.php?id=freeboard&page=10&divpage=1111',\n",
       " '/zboard/zboard.php?id=freeboard&page=11&divpage=1111',\n",
       " '/zboard/zboard.php?id=shopping',\n",
       " '/zboard/view.php?id=shopping&no=9803',\n",
       " '/zboard/view.php?id=shopping&no=9802',\n",
       " '/zboard/zboard.php?id=car_service',\n",
       " '/zboard/view.php?id=car_service&no=109864',\n",
       " '/zboard/view.php?id=car_service&no=109863',\n",
       " 'http://www.ppomppu.co.kr/zboard/zboard.php?id=faq',\n",
       " 'http://www.ppomppu.co.kr/zboard/zboard.php?id=propose',\n",
       " 'http://www.ppomppu.co.kr/zboard/zboard.php?id=apply',\n",
       " 'http://www.ppomppu.co.kr/myinfo/member_my_write_list.php',\n",
       " 'http://www.ppomppu.co.kr/service/request.php',\n",
       " 'http://www.ppomppu.co.kr/zboard/view.php?id=regulation&page=2&divpage=1&no=4',\n",
       " 'http://www.ppomppu.co.kr/zboard/view.php?id=regulation&no=34',\n",
       " 'http://www.ppomppu.co.kr/zboard/view.php?id=regulation&page=2&divpage=1&no=5',\n",
       " 'http://www.ppomppu.co.kr/zboard/view.php?id=faq&no=17',\n",
       " 'mailto:webmaster@ppomppu.co.kr']"
      ]
     },
     "execution_count": 25,
     "metadata": {},
     "output_type": "execute_result"
    }
   ],
   "source": [
    "dom = BeautifulSoup(html,\"html.parser\")\n",
    "dom.prettify()\n",
    "links = dom.select('a')\n",
    "#print(dom)\n",
    "[link['href'] for link in links if link.has_attr('href') == True]"
   ]
  },
  {
   "cell_type": "code",
   "execution_count": 26,
   "metadata": {
    "scrolled": false
   },
   "outputs": [],
   "source": [
    "result = getURL(seed, params)"
   ]
  },
  {
   "cell_type": "code",
   "execution_count": 27,
   "metadata": {},
   "outputs": [
    {
     "data": {
      "text/plain": [
       "['http://www.ppomppu.co.kr/zboard/zboard.php?id=ppomppu',\n",
       " 'http://www.ppomppu.co.kr/zboard/zboard.php?id=event',\n",
       " 'http://www.ppomppu.co.kr/zboard/zboard.php?id=buy',\n",
       " 'http://www.ppomppu.co.kr/zboard/zboard.php?id=help',\n",
       " 'http://www.ppomppu.co.kr/zboard/zboard.php?id=freeboard',\n",
       " 'http://www.ppomppu.co.kr/zboard/zboard.php?id=etc_info',\n",
       " 'http://www.ppomppu.co.kr/zboard/zboard.php?id=free_picture',\n",
       " 'http://www.ppomppu.co.kr/zboard/zboard.php?id=news2',\n",
       " 'http://www.ppomppu.co.kr/zboard/zboard.php?id=review',\n",
       " 'http://www.ppomppu.co.kr/recent_main_article.php?type=market',\n",
       " 'http://www.ppomppu.co.kr/myinfo/env.php?cmd=env',\n",
       " 'http://www.ppomppu.co.kr/myinfo/member_bookmark.php',\n",
       " 'http://www.ppomppu.co.kr/index.php',\n",
       " '/zboard/zboard.php?id=freeboard',\n",
       " 'http://www.ppomppu.co.kr/zboard/zboard.php?id=ppomppu',\n",
       " 'http://www.ppomppu.co.kr/zboard/zboard.php?id=ppomppu',\n",
       " 'http://www.ppomppu.co.kr/zboard/zboard.php?id=ppomppu2',\n",
       " 'http://www.ppomppu.co.kr/zboard/zboard.php?id=ppomppu4',\n",
       " 'http://www.ppomppu.co.kr/zboard/zboard.php?id=ppomppu3',\n",
       " 'http://www.ppomppu.co.kr/zboard/zboard.php?id=ppomppu5',\n",
       " 'http://www.ppomppu.co.kr/zboard/zboard.php?id=ppomppu7',\n",
       " 'http://www.ppomppu.co.kr/zboard/zboard.php?id=ppomppu6',\n",
       " 'http://www.ppomppu.co.kr/zboard/zboard.php?id=pmarket',\n",
       " 'http://www.ppomppu.co.kr/zboard/zboard.php?id=pmarket2',\n",
       " 'http://www.ppomppu.co.kr/zboard/zboard.php?id=pmarket3',\n",
       " 'http://www.ppomppu.co.kr/zboard/zboard.php?id=card_market',\n",
       " 'http://www.ppomppu.co.kr/zboard/zboard.php?id=pmarket7',\n",
       " 'http://www.ppomppu.co.kr/books/index.php',\n",
       " 'http://www.ppomppu.co.kr/hot.php',\n",
       " 'http://www.ppomppu.co.kr/hot_comment.php',\n",
       " 'http://www.ppomppu.co.kr/recent_main_article.php?type=event',\n",
       " 'http://www.ppomppu.co.kr/zboard/zboard.php?id=event',\n",
       " 'http://www.ppomppu.co.kr/zboard/zboard.php?id=coupon',\n",
       " 'http://www.ppomppu.co.kr/zboard/zboard.php?id=mobile',\n",
       " 'http://www.ppomppu.co.kr/zboard/zboard.php?id=experience',\n",
       " 'http://www.ppomppu.co.kr/zboard/zboard.php?id=wcoupon',\n",
       " 'http://www.ppomppu.co.kr/zboard/zboard.php?id=wow',\n",
       " 'http://www.ppomppu.co.kr/zboard/zboard.php?id=event_ppomppu',\n",
       " 'http://www.ppomppu.co.kr/recent_main_article.php?type=info',\n",
       " 'http://www.ppomppu.co.kr/zboard/zboard.php?id=etc_info',\n",
       " 'http://www.ppomppu.co.kr/zboard/zboard.php?id=ppomapp',\n",
       " 'http://www.ppomppu.co.kr/zboard/zboard.php?id=review',\n",
       " 'http://www.ppomppu.co.kr/zboard/zboard.php?id=agentnews',\n",
       " 'http://www.ppomppu.co.kr/zboard/zboard.php?id=receive',\n",
       " 'http://www.ppomppu.co.kr/zboard/zboard.php?id=buy',\n",
       " '/fortune/index.html',\n",
       " 'http://www.ppomppu.co.kr/zboard/zboard.php?id=flash_game',\n",
       " 'http://www.ppomppu.co.kr/zboard/zboard.php?id=freeboard',\n",
       " 'http://www.ppomppu.co.kr/zboard/zboard.php?id=freeboard',\n",
       " 'http://www.ppomppu.co.kr/zboard/zboard.php?id=issue',\n",
       " 'http://www.ppomppu.co.kr/zboard/zboard.php?id=humor',\n",
       " 'http://www.ppomppu.co.kr/zboard/zboard.php?id=help',\n",
       " 'http://www.ppomppu.co.kr/zboard/zboard.php?id=grade',\n",
       " 'http://www.ppomppu.co.kr/chat',\n",
       " 'http://www.ppomppu.co.kr/zboard/zboard.php?id=campaign',\n",
       " 'http://www.ppomppu.co.kr/zboard/zboard.php?id=free_picture',\n",
       " 'http://www.ppomppu.co.kr/zboard/zboard.php?id=free_picture',\n",
       " 'http://www.ppomppu.co.kr/zboard/zboard.php?id=mobile_gallery',\n",
       " 'http://www.ppomppu.co.kr/zboard/zboard.php?id=star',\n",
       " 'http://www.ppomppu.co.kr/zboard/zboard.php?id=sketch_gallery',\n",
       " 'http://www.ppomppu.co.kr/zboard/zboard.php?id=bg_gallery',\n",
       " 'http://www.ppomppu.co.kr/zboard/zboard.php?id=jjalbang',\n",
       " 'http://www.ppomppu.co.kr/zboard/zboard.php?id=picture',\n",
       " 'http://www.ppomppu.co.kr/zboard/zboard.php?id=review_gallery',\n",
       " 'http://www.ppomppu.co.kr/recent_main_article.php?type=market',\n",
       " 'http://www.ppomppu.co.kr/zboard/zboard.php?id=market',\n",
       " 'http://www.ppomppu.co.kr/zboard/zboard.php?id=market_phone',\n",
       " 'http://www.ppomppu.co.kr/zboard/zboard.php?id=market_data',\n",
       " 'http://www.ppomppu.co.kr/zboard/zboard.php?id=cmarket',\n",
       " 'http://www.ppomppu.co.kr/zboard/zboard.php?id=onmarket',\n",
       " 'http://www.ppomppu.co.kr/zboard/zboard.php?id=market_social',\n",
       " 'http://www.ppomppu.co.kr/zboard/zboard.php?id=market_oversea',\n",
       " 'http://www.ppomppu.co.kr/zboard/zboard.php?id=market_item',\n",
       " 'http://www.ppomppu.co.kr/zboard/zboard.php?id=market_talent',\n",
       " 'http://www.ppomppu.co.kr/zboard/zboard.php?id=market_bike',\n",
       " 'http://www.ppomppu.co.kr/zboard/zboard.php?id=market_ecig',\n",
       " 'http://www.ppomppu.co.kr/zboard/zboard.php?id=market_car',\n",
       " 'http://www.ppomppu.co.kr/zboard/zboard.php?id=market_camping',\n",
       " 'http://www.ppomppu.co.kr/zboard/zboard.php?id=gonggu',\n",
       " 'http://www.ppomppu.co.kr/zboard/zboard.php?id=gonggu_request',\n",
       " 'http://www.ppomppu.co.kr/zboard/zboard.php?id=market_agent',\n",
       " 'http://www.ppomppu.co.kr/zboard/zboard.php?id=guin',\n",
       " 'http://www.ppomppu.co.kr/zboard/zboard.php?id=market_story',\n",
       " 'http://www.ppomppu.co.kr/zboard/zboard.php?id=relay',\n",
       " 'http://www.ppomppu.co.kr/zboard/zboard.php?id=love',\n",
       " 'http://www.ppomppu.co.kr/recent_forum_article.php',\n",
       " 'http://www.ppomppu.co.kr/zboard/zboard.php?id=phone',\n",
       " 'http://www.ppomppu.co.kr/zboard/zboard.php?id=phone3',\n",
       " 'http://www.ppomppu.co.kr/zboard/zboard.php?id=phone2',\n",
       " 'http://www.ppomppu.co.kr/zboard/zboard.php?id=iphone',\n",
       " 'http://www.ppomppu.co.kr/zboard/zboard.php?id=tablet',\n",
       " 'http://www.ppomppu.co.kr/zboard/zboard.php?id=android',\n",
       " 'http://www.ppomppu.co.kr/zboard/zboard.php?id=androidtab',\n",
       " 'http://www.ppomppu.co.kr/zboard/zboard.php?id=wintab',\n",
       " 'http://www.ppomppu.co.kr/zboard/zboard.php?id=smartphone',\n",
       " 'http://www.ppomppu.co.kr/zboard/zboard.php?id=av',\n",
       " 'http://www.ppomppu.co.kr/zboard/zboard.php?id=mini',\n",
       " 'http://www.ppomppu.co.kr/zboard/zboard.php?id=computer',\n",
       " 'http://www.ppomppu.co.kr/zboard/zboard.php?id=nas',\n",
       " 'http://www.ppomppu.co.kr/zboard/zboard.php?id=macintosh',\n",
       " 'http://www.ppomppu.co.kr/zboard/zboard.php?id=golf',\n",
       " 'http://www.ppomppu.co.kr/zboard/zboard.php?id=fishing',\n",
       " 'http://www.ppomppu.co.kr/zboard/zboard.php?id=basketball',\n",
       " 'http://www.ppomppu.co.kr/zboard/zboard.php?id=climb',\n",
       " 'http://www.ppomppu.co.kr/zboard/zboard.php?id=motorbike',\n",
       " 'http://www.ppomppu.co.kr/zboard/zboard.php?id=lifesports',\n",
       " 'http://www.ppomppu.co.kr/zboard/zboard.php?id=swim',\n",
       " 'http://www.ppomppu.co.kr/zboard/zboard.php?id=ski',\n",
       " 'http://www.ppomppu.co.kr/zboard/zboard.php?id=scuba',\n",
       " 'http://www.ppomppu.co.kr/zboard/zboard.php?id=sports',\n",
       " 'http://www.ppomppu.co.kr/zboard/zboard.php?id=baseball',\n",
       " 'http://www.ppomppu.co.kr/zboard/zboard.php?id=ppom_baseball_team',\n",
       " 'http://www.ppomppu.co.kr/zboard/zboard.php?id=car',\n",
       " 'http://www.ppomppu.co.kr/zboard/zboard.php?id=bike',\n",
       " 'http://www.ppomppu.co.kr/zboard/zboard.php?id=soccer',\n",
       " 'http://www.ppomppu.co.kr/zboard/zboard.php?id=camping',\n",
       " 'http://www.ppomppu.co.kr/zboard/zboard.php?id=tennis',\n",
       " 'http://www.ppomppu.co.kr/zboard/zboard.php?id=health',\n",
       " 'http://www.ppomppu.co.kr/zboard/zboard.php?id=money',\n",
       " 'http://www.ppomppu.co.kr/zboard/zboard.php?id=social',\n",
       " 'http://www.ppomppu.co.kr/zboard/zboard.php?id=insurance',\n",
       " 'http://www.ppomppu.co.kr/zboard/zboard.php?id=stock',\n",
       " 'http://www.ppomppu.co.kr/zboard/zboard.php?id=soho',\n",
       " 'http://www.ppomppu.co.kr/zboard/zboard.php?id=bitcoin',\n",
       " 'http://www.ppomppu.co.kr/zboard/zboard.php?id=info_ico',\n",
       " 'http://www.ppomppu.co.kr/zboard/zboard.php?id=recommend',\n",
       " 'http://www.ppomppu.co.kr/zboard/zboard.php?id=lotto',\n",
       " 'http://www.ppomppu.co.kr/zboard/zboard.php?id=toto',\n",
       " 'http://www.ppomppu.co.kr/zboard/zboard.php?id=house',\n",
       " 'http://www.ppomppu.co.kr/zboard/zboard.php?id=offline',\n",
       " 'http://www.ppomppu.co.kr/zboard/zboard.php?id=country',\n",
       " 'http://www.ppomppu.co.kr/zboard/zboard.php?id=oversea',\n",
       " 'http://www.ppomppu.co.kr/zboard/zboard.php?id=china',\n",
       " 'http://www.ppomppu.co.kr/zboard/zboard.php?id=wedding',\n",
       " 'http://www.ppomppu.co.kr/zboard/zboard.php?id=problem',\n",
       " 'http://www.ppomppu.co.kr/zboard/zboard.php?id=publictransport',\n",
       " 'http://www.ppomppu.co.kr/zboard/zboard.php?id=nonsmoking',\n",
       " 'http://www.ppomppu.co.kr/zboard/zboard.php?id=e_cig',\n",
       " 'http://www.ppomppu.co.kr/zboard/zboard.php?id=pet',\n",
       " 'http://www.ppomppu.co.kr/zboard/zboard.php?id=mart',\n",
       " 'http://www.ppomppu.co.kr/zboard/zboard.php?id=restaurant',\n",
       " 'http://www.ppomppu.co.kr/zboard/zboard.php?id=medical',\n",
       " 'http://www.ppomppu.co.kr/zboard/zboard.php?id=delivery_food',\n",
       " 'http://www.ppomppu.co.kr/zboard/zboard.php?id=tour',\n",
       " 'http://www.ppomppu.co.kr/zboard/zboard.php?id=couple',\n",
       " 'http://www.ppomppu.co.kr/zboard/zboard.php?id=recipe',\n",
       " 'http://www.ppomppu.co.kr/zboard/zboard.php?id=fortune',\n",
       " 'http://www.ppomppu.co.kr/zboard/zboard.php?id=baby',\n",
       " 'http://www.ppomppu.co.kr/zboard/zboard.php?id=alone',\n",
       " 'http://www.ppomppu.co.kr/zboard/zboard.php?id=religion',\n",
       " 'http://www.ppomppu.co.kr/zboard/zboard.php?id=game',\n",
       " 'http://www.ppomppu.co.kr/zboard/zboard.php?id=gamer',\n",
       " 'http://www.ppomppu.co.kr/zboard/zboard.php?id=boardgame',\n",
       " 'http://www.ppomppu.co.kr/zboard/zboard.php?id=kakao_game',\n",
       " 'http://www.ppomppu.co.kr/zboard/zboard.php?id=gta',\n",
       " 'http://www.ppomppu.co.kr/zboard/zboard.php?id=LOL',\n",
       " 'http://www.ppomppu.co.kr/zboard/zboard.php?id=diablo',\n",
       " 'http://www.ppomppu.co.kr/zboard/zboard.php?id=lineagem',\n",
       " 'http://www.ppomppu.co.kr/zboard/zboard.php?id=pubg',\n",
       " 'http://www.ppomppu.co.kr/zboard/zboard.php?id=overwatch',\n",
       " 'http://www.ppomppu.co.kr/zboard/zboard.php?id=clashroyale',\n",
       " 'http://www.ppomppu.co.kr/zboard/zboard.php?id=pokemongo',\n",
       " 'http://www.ppomppu.co.kr/zboard/zboard.php?id=fifaonline',\n",
       " 'http://www.ppomppu.co.kr/zboard/zboard.php?id=drama',\n",
       " 'http://www.ppomppu.co.kr/zboard/zboard.php?id=book',\n",
       " 'http://www.ppomppu.co.kr/zboard/zboard.php?id=animation',\n",
       " 'http://www.ppomppu.co.kr/zboard/zboard.php?id=munwha',\n",
       " 'http://www.ppomppu.co.kr/zboard/zboard.php?id=announcer',\n",
       " 'http://www.ppomppu.co.kr/zboard/zboard.php?id=star',\n",
       " 'http://www.ppomppu.co.kr/zboard/zboard.php?id=movie',\n",
       " 'http://www.ppomppu.co.kr/zboard/zboard.php?id=music',\n",
       " 'http://www.ppomppu.co.kr/zboard/zboard.php?id=diy',\n",
       " 'http://www.ppomppu.co.kr/zboard/zboard.php?id=rc',\n",
       " 'http://www.ppomppu.co.kr/zboard/zboard.php?id=camera',\n",
       " 'http://www.ppomppu.co.kr/zboard/zboard.php?id=watch',\n",
       " 'http://www.ppomppu.co.kr/zboard/zboard.php?id=interior',\n",
       " 'http://www.ppomppu.co.kr/zboard/zboard.php?id=e_unicycle',\n",
       " 'http://www.ppomppu.co.kr/zboard/zboard.php?id=alcohol',\n",
       " 'http://www.ppomppu.co.kr/zboard/zboard.php?id=hobby',\n",
       " 'http://www.ppomppu.co.kr/zboard/zboard.php?id=coffee',\n",
       " 'http://www.ppomppu.co.kr/zboard/zboard.php?id=f7080',\n",
       " 'http://www.ppomppu.co.kr/zboard/zboard.php?id=morethan40',\n",
       " 'http://www.ppomppu.co.kr/zboard/zboard.php?id=developer',\n",
       " 'http://www.ppomppu.co.kr/zboard/zboard.php?id=army',\n",
       " 'http://www.ppomppu.co.kr/zboard/zboard.php?id=univ_student',\n",
       " 'http://www.ppomppu.co.kr/zboard/zboard.php?id=miz',\n",
       " 'http://www.ppomppu.co.kr/zboard/zboard.php?id=volunteer',\n",
       " 'http://www.ppomppu.co.kr/zboard/zboard.php?id=adult',\n",
       " 'http://www.ppomppu.co.kr/zboard/zboard.php?id=worker',\n",
       " 'http://www.ppomppu.co.kr/zboard/zboard.php?id=honjok',\n",
       " 'http://www.ppomppu.co.kr/zboard/zboard.php?id=fear',\n",
       " 'http://www.ppomppu.co.kr/zboard/zboard.php?id=science',\n",
       " 'http://www.ppomppu.co.kr/zboard/zboard.php?id=mungu',\n",
       " 'http://www.ppomppu.co.kr/zboard/zboard.php?id=stylesheet',\n",
       " 'http://www.ppomppu.co.kr/zboard/zboard.php?id=beauty',\n",
       " 'http://www.ppomppu.co.kr/zboard/zboard.php?id=history',\n",
       " 'http://www.ppomppu.co.kr/zboard/zboard.php?id=style',\n",
       " 'http://www.ppomppu.co.kr/zboard/zboard.php?id=whatever',\n",
       " 'http://www.ppomppu.co.kr/zboard/zboard.php?id=alba',\n",
       " 'http://www.ppomppu.co.kr/zboard/zboard.php?id=employment',\n",
       " 'http://www.ppomppu.co.kr/zboard/zboard.php?id=study',\n",
       " '/recent_forum_article.php',\n",
       " 'http://www.ppomppu.co.kr/recent_main_article.php?type=news',\n",
       " 'http://www.ppomppu.co.kr/zboard/zboard.php?id=news_broadcast',\n",
       " 'http://www.ppomppu.co.kr/zboard/zboard.php?id=news_sports',\n",
       " 'http://www.ppomppu.co.kr/zboard/zboard.php?id=news_life',\n",
       " 'http://www.ppomppu.co.kr/zboard/zboard.php?id=news_pol_eco',\n",
       " 'http://www.ppomppu.co.kr/zboard/zboard.php?id=news2',\n",
       " 'http://www.ppomppu.co.kr/zboard/zboard.php?id=news',\n",
       " 'http://www.ppomppu.co.kr/recent_main_article.php?type=consult',\n",
       " 'http://www.ppomppu.co.kr/zboard/zboard.php?id=consulting',\n",
       " 'http://www.ppomppu.co.kr/zboard/zboard.php?id=loan_consult',\n",
       " 'http://www.ppomppu.co.kr/zboard/zboard.php?id=wedding_consult',\n",
       " 'http://www.ppomppu.co.kr/zboard/zboard.php?id=move_consult',\n",
       " 'http://www.ppomppu.co.kr/zboard/zboard.php?id=tour_consult',\n",
       " 'http://www.ppomppu.co.kr/zboard/zboard.php?id=interior_consult',\n",
       " 'http://www.ppomppu.co.kr/zboard/zboard.php?id=bus_consult',\n",
       " 'http://www.ppomppu.co.kr/zboard/zboard.php?id=security_guard_consult',\n",
       " '/zboard/zboard.php?id=phone_consult',\n",
       " 'http://www.ppomppu.co.kr/zboard/zboard.php?id=tele_consult',\n",
       " 'http://www.ppomppu.co.kr/zboard/zboard.php?id=card_consult',\n",
       " 'http://www.ppomppu.co.kr/zboard/zboard.php?id=rental_consult',\n",
       " 'http://www.ppomppu.co.kr/zboard/zboard.php?id=law_consult',\n",
       " 'http://www.ppomppu.co.kr/zboard/zboard.php?id=tax_consult',\n",
       " 'http://www.ppomppu.co.kr/zboard/zboard.php?id=uhak_consult',\n",
       " 'http://www.ppomppu.co.kr/zboard/zboard.php?id=car_service',\n",
       " 'http://www.ppomppu.co.kr/zboard/zboard.php?id=car_consult',\n",
       " '/zboard/zboard.php?id=pc_consult',\n",
       " 'http://www.ppomppu.co.kr/zboard/zboard.php?id=ad_consult',\n",
       " 'https://www.ppomppu.co.kr/zboard/login.php?r_url=http%3A%2F%2Fwww.ppomppu.co.kr%2Fzboard%2Fzboard.php%3Fid%3Dfreeboard',\n",
       " '/https_redirect.php',\n",
       " 'https://www.ppomppu.co.kr/auth/auth.php?tab=id',\n",
       " 'https://www.ppomppu.co.kr/auth/auth.php?tab=pwd',\n",
       " '/zboard/zboard.php?id=freeboard',\n",
       " '/zboard/zboard.php?id=issue',\n",
       " '/zboard/zboard.php?id=humor',\n",
       " '/zboard/zboard.php?id=help',\n",
       " '/zboard/view.php?id=regulation&page=2&divpage=1&no=6',\n",
       " '/zboard/zboard.php?id=issue',\n",
       " '/zboard/zboard.php?id=help',\n",
       " '/hot.php?id=freeboard',\n",
       " '#',\n",
       " 'view.php?id=regulation&page=1&divpage=202&no=6',\n",
       " '#',\n",
       " 'view.php?id=freeboard&page=1&divpage=1111&no=5951939',\n",
       " '#',\n",
       " 'view.php?id=freeboard&page=1&divpage=1111&no=5951938',\n",
       " '#',\n",
       " 'view.php?id=freeboard&page=1&divpage=1111&no=5951937',\n",
       " '#',\n",
       " 'view.php?id=freeboard&page=1&divpage=1111&no=5951936',\n",
       " '#',\n",
       " 'view.php?id=freeboard&page=1&divpage=1111&no=5951935',\n",
       " '#',\n",
       " 'view.php?id=freeboard&page=1&divpage=1111&no=5951934',\n",
       " '#',\n",
       " 'view.php?id=freeboard&page=1&divpage=1111&no=5951933',\n",
       " '#',\n",
       " 'view.php?id=freeboard&page=1&divpage=1111&no=5951932',\n",
       " '#',\n",
       " 'view.php?id=freeboard&page=1&divpage=1111&no=5951931',\n",
       " '#',\n",
       " 'view.php?id=freeboard&page=1&divpage=1111&no=5951930',\n",
       " '#',\n",
       " 'view.php?id=freeboard&page=1&divpage=1111&no=5951929',\n",
       " '#',\n",
       " 'view.php?id=freeboard&page=1&divpage=1111&no=5951928',\n",
       " '#',\n",
       " 'view.php?id=freeboard&page=1&divpage=1111&no=5951927',\n",
       " '#',\n",
       " 'view.php?id=freeboard&page=1&divpage=1111&no=5951926',\n",
       " '#',\n",
       " 'view.php?id=freeboard&page=1&divpage=1111&no=5951925',\n",
       " '#',\n",
       " 'view.php?id=freeboard&page=1&divpage=1111&no=5951924',\n",
       " '#',\n",
       " 'view.php?id=freeboard&page=1&divpage=1111&no=5951923',\n",
       " '#',\n",
       " 'view.php?id=freeboard&page=1&divpage=1111&no=5951922',\n",
       " '#',\n",
       " 'view.php?id=freeboard&page=1&divpage=1111&no=5951921',\n",
       " '#',\n",
       " 'view.php?id=freeboard&page=1&divpage=1111&no=5951920',\n",
       " '#',\n",
       " 'view.php?id=freeboard&page=1&divpage=1111&no=5951919',\n",
       " '#',\n",
       " 'view.php?id=freeboard&page=1&divpage=1111&no=5951918',\n",
       " '#',\n",
       " 'view.php?id=freeboard&page=1&divpage=1111&no=5951917',\n",
       " '#',\n",
       " 'view.php?id=freeboard&page=1&divpage=1111&no=5951916',\n",
       " '#',\n",
       " 'view.php?id=freeboard&page=1&divpage=1111&no=5951915',\n",
       " '#',\n",
       " 'view.php?id=freeboard&page=1&divpage=1111&no=5951914',\n",
       " '#',\n",
       " 'view.php?id=freeboard&page=1&divpage=1111&no=5951913',\n",
       " '#',\n",
       " 'view.php?id=freeboard&page=1&divpage=1111&no=5951912',\n",
       " '#',\n",
       " 'view.php?id=freeboard&page=1&divpage=1111&no=5951911',\n",
       " '#',\n",
       " 'view.php?id=freeboard&page=1&divpage=1111&no=5951910',\n",
       " '/zboard/zboard.php?id=freeboard&page=1&prev_no=&divpage=1111',\n",
       " '/zboard/zboard.php?id=freeboard&page=2&divpage=1111',\n",
       " '/zboard/zboard.php?id=freeboard&page=2&divpage=1111',\n",
       " '/zboard/zboard.php?id=freeboard&page=3&divpage=1111',\n",
       " '/zboard/zboard.php?id=freeboard&page=4&divpage=1111',\n",
       " '/zboard/zboard.php?id=freeboard&page=5&divpage=1111',\n",
       " '/zboard/zboard.php?id=freeboard&page=6&divpage=1111',\n",
       " '/zboard/zboard.php?id=freeboard&page=7&divpage=1111',\n",
       " '/zboard/zboard.php?id=freeboard&page=8&divpage=1111',\n",
       " '/zboard/zboard.php?id=freeboard&page=9&divpage=1111',\n",
       " '/zboard/zboard.php?id=freeboard&page=10&divpage=1111',\n",
       " '/zboard/zboard.php?id=freeboard&page=11&divpage=1111',\n",
       " '/zboard/zboard.php?id=shopping',\n",
       " '/zboard/view.php?id=shopping&no=9803',\n",
       " '/zboard/view.php?id=shopping&no=9802',\n",
       " '/zboard/zboard.php?id=car_service',\n",
       " '/zboard/view.php?id=car_service&no=109864',\n",
       " '/zboard/view.php?id=car_service&no=109863',\n",
       " 'http://www.ppomppu.co.kr/zboard/zboard.php?id=faq',\n",
       " 'http://www.ppomppu.co.kr/zboard/zboard.php?id=propose',\n",
       " 'http://www.ppomppu.co.kr/zboard/zboard.php?id=apply',\n",
       " 'http://www.ppomppu.co.kr/myinfo/member_my_write_list.php',\n",
       " 'http://www.ppomppu.co.kr/service/request.php',\n",
       " 'http://www.ppomppu.co.kr/zboard/view.php?id=regulation&page=2&divpage=1&no=4',\n",
       " 'http://www.ppomppu.co.kr/zboard/view.php?id=regulation&no=34',\n",
       " 'http://www.ppomppu.co.kr/zboard/view.php?id=regulation&page=2&divpage=1&no=5',\n",
       " 'http://www.ppomppu.co.kr/zboard/view.php?id=faq&no=17',\n",
       " 'mailto:webmaster@ppomppu.co.kr']"
      ]
     },
     "execution_count": 27,
     "metadata": {},
     "output_type": "execute_result"
    }
   ],
   "source": [
    "result"
   ]
  },
  {
   "cell_type": "markdown",
   "metadata": {},
   "source": [
    "### css selector 변화\n",
    "- td라는 태그의 class = \"list_vspace\"이면서 img 옆에 있는 a태그\n",
    "- select를 변화 시킬 수 있다. "
   ]
  },
  {
   "cell_type": "code",
   "execution_count": 28,
   "metadata": {},
   "outputs": [],
   "source": [
    "contentList = getURL(seed, params, \"td.list_vspace img + a\")"
   ]
  },
  {
   "cell_type": "code",
   "execution_count": 29,
   "metadata": {},
   "outputs": [],
   "source": [
    "contentList = contentList[1:]"
   ]
  },
  {
   "cell_type": "code",
   "execution_count": 30,
   "metadata": {
    "scrolled": true
   },
   "outputs": [
    {
     "data": {
      "text/plain": [
       "['view.php?id=freeboard&page=1&divpage=1111&no=5951939',\n",
       " 'view.php?id=freeboard&page=1&divpage=1111&no=5951938',\n",
       " 'view.php?id=freeboard&page=1&divpage=1111&no=5951937',\n",
       " 'view.php?id=freeboard&page=1&divpage=1111&no=5951936',\n",
       " 'view.php?id=freeboard&page=1&divpage=1111&no=5951935',\n",
       " 'view.php?id=freeboard&page=1&divpage=1111&no=5951934',\n",
       " 'view.php?id=freeboard&page=1&divpage=1111&no=5951933',\n",
       " 'view.php?id=freeboard&page=1&divpage=1111&no=5951932',\n",
       " 'view.php?id=freeboard&page=1&divpage=1111&no=5951931',\n",
       " 'view.php?id=freeboard&page=1&divpage=1111&no=5951930',\n",
       " 'view.php?id=freeboard&page=1&divpage=1111&no=5951929',\n",
       " 'view.php?id=freeboard&page=1&divpage=1111&no=5951928',\n",
       " 'view.php?id=freeboard&page=1&divpage=1111&no=5951926',\n",
       " 'view.php?id=freeboard&page=1&divpage=1111&no=5951925',\n",
       " 'view.php?id=freeboard&page=1&divpage=1111&no=5951924',\n",
       " 'view.php?id=freeboard&page=1&divpage=1111&no=5951923',\n",
       " 'view.php?id=freeboard&page=1&divpage=1111&no=5951922',\n",
       " 'view.php?id=freeboard&page=1&divpage=1111&no=5951921',\n",
       " 'view.php?id=freeboard&page=1&divpage=1111&no=5951920',\n",
       " 'view.php?id=freeboard&page=1&divpage=1111&no=5951919',\n",
       " 'view.php?id=freeboard&page=1&divpage=1111&no=5951918',\n",
       " 'view.php?id=freeboard&page=1&divpage=1111&no=5951917',\n",
       " 'view.php?id=freeboard&page=1&divpage=1111&no=5951916',\n",
       " 'view.php?id=freeboard&page=1&divpage=1111&no=5951915',\n",
       " 'view.php?id=freeboard&page=1&divpage=1111&no=5951914',\n",
       " 'view.php?id=freeboard&page=1&divpage=1111&no=5951913',\n",
       " 'view.php?id=freeboard&page=1&divpage=1111&no=5951912',\n",
       " 'view.php?id=freeboard&page=1&divpage=1111&no=5951911',\n",
       " 'view.php?id=freeboard&page=1&divpage=1111&no=5951910']"
      ]
     },
     "execution_count": 30,
     "metadata": {},
     "output_type": "execute_result"
    }
   ],
   "source": [
    "contentList"
   ]
  },
  {
   "cell_type": "code",
   "execution_count": 31,
   "metadata": {},
   "outputs": [
    {
     "data": {
      "text/plain": [
       "'view.php?id=freeboard&page=1&divpage=1111&no=5951939'"
      ]
     },
     "execution_count": 31,
     "metadata": {},
     "output_type": "execute_result"
    }
   ],
   "source": [
    "contentList[0]"
   ]
  },
  {
   "cell_type": "code",
   "execution_count": 33,
   "metadata": {},
   "outputs": [],
   "source": [
    "seed = \"http://www.ppomppu.co.kr/zboard/\""
   ]
  },
  {
   "cell_type": "code",
   "execution_count": 34,
   "metadata": {},
   "outputs": [
    {
     "data": {
      "text/plain": [
       "'http://www.ppomppu.co.kr/zboard/view.php?id=freeboard&page=1&divpage=1111&no=5951939'"
      ]
     },
     "execution_count": 34,
     "metadata": {},
     "output_type": "execute_result"
    }
   ],
   "source": [
    "seed+contentList[0]"
   ]
  },
  {
   "cell_type": "code",
   "execution_count": null,
   "metadata": {},
   "outputs": [],
   "source": [
    "title = getURL(seed+contentList[0], params, \"td.han\")"
   ]
  },
  {
   "cell_type": "code",
   "execution_count": 35,
   "metadata": {},
   "outputs": [],
   "source": [
    "def getContent(url, params=None, select='a', num_retries=2):\n",
    "    html = requests.get(url, params=params, headers=headers,)\n",
    "    \n",
    "    if 500 <= html.status_code < 600 and nun_retries > 0 :\n",
    "        print(html.status_code, html.reason)\n",
    "        return getURL(url, params, num_retries - 1)\n",
    "    \n",
    "    #html = html.content.decode('euc-kr').encode('utf-8').decode('utf-8')\n",
    "    dom = BeautifulSoup(html.text,\"html.parser\")\n",
    "    links = dom.select(select) #css selector는 구글에서만 실행\n",
    "    return links"
   ]
  },
  {
   "cell_type": "code",
   "execution_count": 38,
   "metadata": {},
   "outputs": [
    {
     "name": "stdout",
     "output_type": "stream",
     "text": [
      "갓재명 경기다이묘 \"정치권, 촛불국민 열망..지방분권 개헌 나서주길\"\n",
      "개고기반대보다  불법교배농장이 금지시키는게 시급하지 않나요?\n",
      "7700원짜리 옷을 샀는데\n",
      "삼계탕 먹기 실패했어요\n",
      "[ 펌- 수정 ] 현재 대한민국 경제 상황 ( 한계기업 중심으로 )\n",
      "의외로 중진국들이 출산율이 높은가보더라구요\n",
      "밥먹다가 컬처랜드 보고 같이 먹던 회사사람한테까지 다 말했는데\n",
      "주휴수당을 폐지해야지만 영세중소기업들이 살아남을 수 있습니다.\n",
      "삼계탕집 줄서서먹네요\n",
      "이병철 트윗 - 이재명이 명찰을 억지로 달라는 건\n",
      "금하고 값어치가 같은 벌레\n",
      "최영애 \"文, 페미니스트 대통령 공약 지켜야\"→靑 여권 '수장' 낙점\n",
      "컬쳐사기가 한바탕지나갔나보네요\n",
      "Cafe25 먹을만한가요?\n",
      "주말에 주문한 스케쳐스 ... 헬스장에서 신기에 어떤가요??\n",
      "주휴수당 없애고 그걸 최저임금에 반영시켜야죠\n",
      "알라딘 19주년 기념 그림자램프\n",
      "신종 랜섬웨어\n",
      "어제나 오늘이나\n",
      "쉬운한글 쓰기\n",
      "붓싼이 날씨가 좋긴 하죠.\n",
      "저는 요새 잠들때 이렇게 합니다\n",
      "UFC 페더급 공식랭킹 변동  최두호 랭킹 아웃\n",
      "늦음 점심을 먹으려고 합니다.\n",
      "김경수가 경남 도지사 출마를 정면돌파한 이유.jpg\n",
      "중고나라 내가 쓴 글 다 삭제됐네요\n",
      "아파트 이제 개별난방 전환하는데 대성으로 한다네요\n",
      "출산율은 여유가 되면 높지 않나요\n",
      " 자라니.gif (혐, 데이터주의)\n"
     ]
    }
   ],
   "source": [
    "seed = \"http://www.ppomppu.co.kr/zboard/\"\n",
    "\n",
    "for url in contentList:\n",
    "    title = getContent(seed+url,params,\".view_title2\")\n",
    "    print(title[0].get_text())"
   ]
  },
  {
   "cell_type": "code",
   "execution_count": null,
   "metadata": {},
   "outputs": [],
   "source": []
  }
 ],
 "metadata": {
  "kernelspec": {
   "display_name": "Python 3",
   "language": "python",
   "name": "python3"
  },
  "language_info": {
   "codemirror_mode": {
    "name": "ipython",
    "version": 3
   },
   "file_extension": ".py",
   "mimetype": "text/x-python",
   "name": "python",
   "nbconvert_exporter": "python",
   "pygments_lexer": "ipython3",
   "version": "3.6.5"
  }
 },
 "nbformat": 4,
 "nbformat_minor": 2
}
