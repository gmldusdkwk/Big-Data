{
 "cells": [
  {
   "cell_type": "code",
   "execution_count": 1,
   "metadata": {},
   "outputs": [],
   "source": [
    "from sqlalchemy import create_engine"
   ]
  },
  {
   "cell_type": "code",
   "execution_count": null,
   "metadata": {},
   "outputs": [],
   "source": [
    "#from sqlalchemy.ext.declarative import declarative_base"
   ]
  },
  {
   "cell_type": "code",
   "execution_count": 7,
   "metadata": {},
   "outputs": [],
   "source": [
    "engine = create_engine(\"sqlite:///alchemy_core.db\", echo = True)"
   ]
  },
  {
   "cell_type": "code",
   "execution_count": 8,
   "metadata": {},
   "outputs": [],
   "source": [
    "from sqlalchemy.ext.automap import automap_base"
   ]
  },
  {
   "cell_type": "code",
   "execution_count": 9,
   "metadata": {},
   "outputs": [],
   "source": [
    "Base = automap_base() #자동으로 클래스를 만들어준다. \n",
    "#Base = declararive_base()"
   ]
  },
  {
   "cell_type": "code",
   "execution_count": 10,
   "metadata": {},
   "outputs": [
    {
     "name": "stdout",
     "output_type": "stream",
     "text": [
      "2018-07-12 10:25:15,591 INFO sqlalchemy.engine.base.Engine SELECT CAST('test plain returns' AS VARCHAR(60)) AS anon_1\n",
      "2018-07-12 10:25:15,592 INFO sqlalchemy.engine.base.Engine ()\n",
      "2018-07-12 10:25:15,595 INFO sqlalchemy.engine.base.Engine SELECT CAST('test unicode returns' AS VARCHAR(60)) AS anon_1\n",
      "2018-07-12 10:25:15,596 INFO sqlalchemy.engine.base.Engine ()\n",
      "2018-07-12 10:25:15,596 INFO sqlalchemy.engine.base.Engine SELECT name FROM sqlite_master WHERE type='table' ORDER BY name\n",
      "2018-07-12 10:25:15,597 INFO sqlalchemy.engine.base.Engine ()\n",
      "2018-07-12 10:25:15,600 INFO sqlalchemy.engine.base.Engine PRAGMA table_info(\"Album\")\n",
      "2018-07-12 10:25:15,601 INFO sqlalchemy.engine.base.Engine ()\n",
      "2018-07-12 10:25:15,602 INFO sqlalchemy.engine.base.Engine SELECT sql FROM  (SELECT * FROM sqlite_master UNION ALL   SELECT * FROM sqlite_temp_master) WHERE name = 'Album' AND type = 'table'\n",
      "2018-07-12 10:25:15,603 INFO sqlalchemy.engine.base.Engine ()\n",
      "2018-07-12 10:25:15,604 INFO sqlalchemy.engine.base.Engine PRAGMA foreign_key_list(\"Album\")\n",
      "2018-07-12 10:25:15,605 INFO sqlalchemy.engine.base.Engine ()\n",
      "2018-07-12 10:25:15,606 INFO sqlalchemy.engine.base.Engine SELECT sql FROM  (SELECT * FROM sqlite_master UNION ALL   SELECT * FROM sqlite_temp_master) WHERE name = 'Album' AND type = 'table'\n",
      "2018-07-12 10:25:15,606 INFO sqlalchemy.engine.base.Engine ()\n",
      "2018-07-12 10:25:15,608 INFO sqlalchemy.engine.base.Engine PRAGMA table_info(\"Artist\")\n",
      "2018-07-12 10:25:15,608 INFO sqlalchemy.engine.base.Engine ()\n",
      "2018-07-12 10:25:15,609 INFO sqlalchemy.engine.base.Engine SELECT sql FROM  (SELECT * FROM sqlite_master UNION ALL   SELECT * FROM sqlite_temp_master) WHERE name = 'Artist' AND type = 'table'\n",
      "2018-07-12 10:25:15,611 INFO sqlalchemy.engine.base.Engine ()\n",
      "2018-07-12 10:25:15,613 INFO sqlalchemy.engine.base.Engine PRAGMA foreign_key_list(\"Artist\")\n",
      "2018-07-12 10:25:15,613 INFO sqlalchemy.engine.base.Engine ()\n",
      "2018-07-12 10:25:15,614 INFO sqlalchemy.engine.base.Engine SELECT sql FROM  (SELECT * FROM sqlite_master UNION ALL   SELECT * FROM sqlite_temp_master) WHERE name = 'Artist' AND type = 'table'\n",
      "2018-07-12 10:25:15,614 INFO sqlalchemy.engine.base.Engine ()\n",
      "2018-07-12 10:25:15,615 INFO sqlalchemy.engine.base.Engine PRAGMA index_list(\"Artist\")\n",
      "2018-07-12 10:25:15,616 INFO sqlalchemy.engine.base.Engine ()\n",
      "2018-07-12 10:25:15,617 INFO sqlalchemy.engine.base.Engine PRAGMA index_list(\"Artist\")\n",
      "2018-07-12 10:25:15,617 INFO sqlalchemy.engine.base.Engine ()\n",
      "2018-07-12 10:25:15,618 INFO sqlalchemy.engine.base.Engine SELECT sql FROM  (SELECT * FROM sqlite_master UNION ALL   SELECT * FROM sqlite_temp_master) WHERE name = 'Artist' AND type = 'table'\n",
      "2018-07-12 10:25:15,619 INFO sqlalchemy.engine.base.Engine ()\n",
      "2018-07-12 10:25:15,620 INFO sqlalchemy.engine.base.Engine PRAGMA index_list(\"Album\")\n",
      "2018-07-12 10:25:15,620 INFO sqlalchemy.engine.base.Engine ()\n",
      "2018-07-12 10:25:15,621 INFO sqlalchemy.engine.base.Engine PRAGMA index_list(\"Album\")\n",
      "2018-07-12 10:25:15,622 INFO sqlalchemy.engine.base.Engine ()\n",
      "2018-07-12 10:25:15,622 INFO sqlalchemy.engine.base.Engine SELECT sql FROM  (SELECT * FROM sqlite_master UNION ALL   SELECT * FROM sqlite_temp_master) WHERE name = 'Album' AND type = 'table'\n",
      "2018-07-12 10:25:15,623 INFO sqlalchemy.engine.base.Engine ()\n",
      "2018-07-12 10:25:15,624 INFO sqlalchemy.engine.base.Engine PRAGMA table_info(\"Genre\")\n",
      "2018-07-12 10:25:15,625 INFO sqlalchemy.engine.base.Engine ()\n",
      "2018-07-12 10:25:15,626 INFO sqlalchemy.engine.base.Engine SELECT sql FROM  (SELECT * FROM sqlite_master UNION ALL   SELECT * FROM sqlite_temp_master) WHERE name = 'Genre' AND type = 'table'\n",
      "2018-07-12 10:25:15,627 INFO sqlalchemy.engine.base.Engine ()\n",
      "2018-07-12 10:25:15,629 INFO sqlalchemy.engine.base.Engine PRAGMA foreign_key_list(\"Genre\")\n",
      "2018-07-12 10:25:15,630 INFO sqlalchemy.engine.base.Engine ()\n",
      "2018-07-12 10:25:15,631 INFO sqlalchemy.engine.base.Engine SELECT sql FROM  (SELECT * FROM sqlite_master UNION ALL   SELECT * FROM sqlite_temp_master) WHERE name = 'Genre' AND type = 'table'\n",
      "2018-07-12 10:25:15,632 INFO sqlalchemy.engine.base.Engine ()\n",
      "2018-07-12 10:25:15,633 INFO sqlalchemy.engine.base.Engine PRAGMA index_list(\"Genre\")\n",
      "2018-07-12 10:25:15,633 INFO sqlalchemy.engine.base.Engine ()\n",
      "2018-07-12 10:25:15,635 INFO sqlalchemy.engine.base.Engine PRAGMA index_list(\"Genre\")\n",
      "2018-07-12 10:25:15,636 INFO sqlalchemy.engine.base.Engine ()\n",
      "2018-07-12 10:25:15,637 INFO sqlalchemy.engine.base.Engine SELECT sql FROM  (SELECT * FROM sqlite_master UNION ALL   SELECT * FROM sqlite_temp_master) WHERE name = 'Genre' AND type = 'table'\n",
      "2018-07-12 10:25:15,637 INFO sqlalchemy.engine.base.Engine ()\n",
      "2018-07-12 10:25:15,638 INFO sqlalchemy.engine.base.Engine PRAGMA table_info(\"Track\")\n",
      "2018-07-12 10:25:15,639 INFO sqlalchemy.engine.base.Engine ()\n",
      "2018-07-12 10:25:15,642 INFO sqlalchemy.engine.base.Engine SELECT sql FROM  (SELECT * FROM sqlite_master UNION ALL   SELECT * FROM sqlite_temp_master) WHERE name = 'Track' AND type = 'table'\n",
      "2018-07-12 10:25:15,642 INFO sqlalchemy.engine.base.Engine ()\n",
      "2018-07-12 10:25:15,644 INFO sqlalchemy.engine.base.Engine PRAGMA foreign_key_list(\"Track\")\n",
      "2018-07-12 10:25:15,645 INFO sqlalchemy.engine.base.Engine ()\n",
      "2018-07-12 10:25:15,646 INFO sqlalchemy.engine.base.Engine SELECT sql FROM  (SELECT * FROM sqlite_master UNION ALL   SELECT * FROM sqlite_temp_master) WHERE name = 'Track' AND type = 'table'\n",
      "2018-07-12 10:25:15,647 INFO sqlalchemy.engine.base.Engine ()\n",
      "2018-07-12 10:25:15,648 INFO sqlalchemy.engine.base.Engine PRAGMA index_list(\"Track\")\n",
      "2018-07-12 10:25:15,649 INFO sqlalchemy.engine.base.Engine ()\n",
      "2018-07-12 10:25:15,650 INFO sqlalchemy.engine.base.Engine PRAGMA index_list(\"Track\")\n",
      "2018-07-12 10:25:15,651 INFO sqlalchemy.engine.base.Engine ()\n",
      "2018-07-12 10:25:15,651 INFO sqlalchemy.engine.base.Engine SELECT sql FROM  (SELECT * FROM sqlite_master UNION ALL   SELECT * FROM sqlite_temp_master) WHERE name = 'Track' AND type = 'table'\n",
      "2018-07-12 10:25:15,652 INFO sqlalchemy.engine.base.Engine ()\n"
     ]
    }
   ],
   "source": [
    "Base.prepare(engine, reflect = True)"
   ]
  },
  {
   "cell_type": "code",
   "execution_count": 12,
   "metadata": {},
   "outputs": [],
   "source": [
    "from sqlalchemy.orm import sessionmaker"
   ]
  },
  {
   "cell_type": "code",
   "execution_count": 13,
   "metadata": {},
   "outputs": [],
   "source": [
    "Session = sessionmaker(bind = engine)"
   ]
  },
  {
   "cell_type": "code",
   "execution_count": 14,
   "metadata": {},
   "outputs": [],
   "source": [
    "session = Session()"
   ]
  },
  {
   "cell_type": "code",
   "execution_count": 16,
   "metadata": {},
   "outputs": [],
   "source": [
    "Artist = Base.classes.Artist"
   ]
  },
  {
   "cell_type": "code",
   "execution_count": 17,
   "metadata": {},
   "outputs": [
    {
     "data": {
      "text/plain": [
       "sqlalchemy.ext.automap.Artist"
      ]
     },
     "execution_count": 17,
     "metadata": {},
     "output_type": "execute_result"
    }
   ],
   "source": [
    "Artist #automap 이 한 번 감싼 형태로 만들어져있다."
   ]
  },
  {
   "cell_type": "code",
   "execution_count": 18,
   "metadata": {},
   "outputs": [],
   "source": [
    "result = session.query(Artist)"
   ]
  },
  {
   "cell_type": "code",
   "execution_count": 21,
   "metadata": {},
   "outputs": [
    {
     "name": "stdout",
     "output_type": "stream",
     "text": [
      "2018-07-12 10:29:10,101 INFO sqlalchemy.engine.base.Engine SELECT \"Artist\".id AS \"Artist_id\", \"Artist\".name AS \"Artist_name\" \n",
      "FROM \"Artist\"\n",
      "2018-07-12 10:29:10,102 INFO sqlalchemy.engine.base.Engine ()\n",
      "<sqlalchemy.ext.automap.Artist object at 0x10f7beb00>\n",
      "<sqlalchemy.ext.automap.Artist object at 0x10f7be780>\n"
     ]
    }
   ],
   "source": [
    "#객체로 가져왔기 때문에 바로 나오지 못 한다. 이것이 아까 베이스의 차이로 발생한 것 \n",
    "for row in result: \n",
    "    print(row)"
   ]
  },
  {
   "cell_type": "code",
   "execution_count": 22,
   "metadata": {},
   "outputs": [
    {
     "name": "stdout",
     "output_type": "stream",
     "text": [
      "2018-07-12 10:30:19,400 INFO sqlalchemy.engine.base.Engine SELECT \"Artist\".id AS \"Artist_id\", \"Artist\".name AS \"Artist_name\" \n",
      "FROM \"Artist\"\n",
      "2018-07-12 10:30:19,401 INFO sqlalchemy.engine.base.Engine ()\n",
      "Led Zepplin 1\n",
      "AC/DC 2\n"
     ]
    }
   ],
   "source": [
    "for row in result:\n",
    "    print(row.name, row.id)"
   ]
  },
  {
   "cell_type": "markdown",
   "metadata": {},
   "source": [
    "# Relationship\n",
    "- class 에 서로 다른 instance를 만들어놓은 다음 아티스트로 앨범을 참조하고 앨범으로 아티스트를 참조할 수 있다."
   ]
  },
  {
   "cell_type": "code",
   "execution_count": 23,
   "metadata": {},
   "outputs": [],
   "source": [
    "from sqlalchemy import Column, Integer, String, ForeignKey"
   ]
  },
  {
   "cell_type": "code",
   "execution_count": null,
   "metadata": {},
   "outputs": [],
   "source": [
    "from sqlalchemy.orm import relationships"
   ]
  }
 ],
 "metadata": {
  "kernelspec": {
   "display_name": "Python 3",
   "language": "python",
   "name": "python3"
  },
  "language_info": {
   "codemirror_mode": {
    "name": "ipython",
    "version": 3
   },
   "file_extension": ".py",
   "mimetype": "text/x-python",
   "name": "python",
   "nbconvert_exporter": "python",
   "pygments_lexer": "ipython3",
   "version": "3.6.5"
  }
 },
 "nbformat": 4,
 "nbformat_minor": 2
}
