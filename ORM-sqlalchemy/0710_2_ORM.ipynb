{
 "cells": [
  {
   "cell_type": "code",
   "execution_count": null,
   "metadata": {},
   "outputs": [],
   "source": [
    "!pip list"
   ]
  },
  {
   "cell_type": "markdown",
   "metadata": {},
   "source": [
    "# < SQLAlchemy >\n",
    "- 바인딩이 언제되고 연결이 언제되는지 알아야 한다.\n",
    "- 엔진이 언제 생겼는지 \n",
    "- 엔진에서 받아온 실제로 작업되는 과정을 추상화시켜서 만드는 것이다.\n",
    "- 엔진을 접속하기 위해서는 메타 데이터로 감싼 데이터가 필요하다.\n",
    " 1. engine create\n",
    " 2. metadata create & table create & metadata는 engine으로 create\n",
    " 3. engine connect\n",
    " 4. insert\n",
    " 5. select"
   ]
  },
  {
   "cell_type": "code",
   "execution_count": 1,
   "metadata": {},
   "outputs": [],
   "source": [
    "import sqlalchemy "
   ]
  },
  {
   "cell_type": "code",
   "execution_count": 5,
   "metadata": {},
   "outputs": [
    {
     "data": {
      "text/plain": [
       "'1.2.7'"
      ]
     },
     "execution_count": 5,
     "metadata": {},
     "output_type": "execute_result"
    }
   ],
   "source": [
    "sqlalchemy.__version__"
   ]
  },
  {
   "cell_type": "markdown",
   "metadata": {},
   "source": [
    "### 1. create"
   ]
  },
  {
   "cell_type": "code",
   "execution_count": 2,
   "metadata": {},
   "outputs": [],
   "source": [
    "from sqlalchemy import create_engine"
   ]
  },
  {
   "cell_type": "code",
   "execution_count": 3,
   "metadata": {},
   "outputs": [],
   "source": [
    "engine = create_engine(\"sqlite:///alchemy_core.db\", echo = True) #memory, 없어도 상관 없다. 엔진을 통해서 sql 문을 생성만 해준다."
   ]
  },
  {
   "cell_type": "code",
   "execution_count": 12,
   "metadata": {},
   "outputs": [
    {
     "name": "stdout",
     "output_type": "stream",
     "text": [
      "Engine(sqlite://)\n"
     ]
    }
   ],
   "source": [
    "print(engine) #db를 memory에서 한다는 것을 의미한다. == main 함수 하나 만든 것을 의미한다. "
   ]
  },
  {
   "cell_type": "code",
   "execution_count": 4,
   "metadata": {},
   "outputs": [],
   "source": [
    "from sqlalchemy import MetaData"
   ]
  },
  {
   "cell_type": "code",
   "execution_count": 5,
   "metadata": {},
   "outputs": [
    {
     "name": "stdout",
     "output_type": "stream",
     "text": [
      "MetaData(bind=None)\n"
     ]
    }
   ],
   "source": [
    "metadata = MetaData()\n",
    "print(metadata) #Metadata에 저장(biding) -> sql"
   ]
  },
  {
   "cell_type": "code",
   "execution_count": 6,
   "metadata": {},
   "outputs": [],
   "source": [
    "from sqlalchemy import Table, Column, Integer, String, ForeignKey"
   ]
  },
  {
   "cell_type": "code",
   "execution_count": 16,
   "metadata": {},
   "outputs": [],
   "source": [
    "metadata = MetaData()\n",
    "users = Table('users', metadata,\n",
    "             Column('id', Integer, primary_key = True),\n",
    "             Column('name', String),\n",
    "             Column('fullname', String))"
   ]
  },
  {
   "cell_type": "code",
   "execution_count": 17,
   "metadata": {},
   "outputs": [],
   "source": [
    "address = Table('address',metadata,\n",
    "               Column('id', Integer, primary_key = True),\n",
    "               Column('user_id',Integer, ForeignKey('users.id')),\n",
    "               Column('email', String, nullable = False))"
   ]
  },
  {
   "cell_type": "code",
   "execution_count": 18,
   "metadata": {},
   "outputs": [
    {
     "name": "stdout",
     "output_type": "stream",
     "text": [
      "2018-07-10 13:42:20,568 INFO sqlalchemy.engine.base.Engine SELECT CAST('test plain returns' AS VARCHAR(60)) AS anon_1\n",
      "2018-07-10 13:42:20,568 INFO sqlalchemy.engine.base.Engine ()\n",
      "2018-07-10 13:42:20,570 INFO sqlalchemy.engine.base.Engine SELECT CAST('test unicode returns' AS VARCHAR(60)) AS anon_1\n",
      "2018-07-10 13:42:20,570 INFO sqlalchemy.engine.base.Engine ()\n",
      "2018-07-10 13:42:20,572 INFO sqlalchemy.engine.base.Engine PRAGMA table_info(\"users\")\n",
      "2018-07-10 13:42:20,572 INFO sqlalchemy.engine.base.Engine ()\n",
      "2018-07-10 13:42:20,574 INFO sqlalchemy.engine.base.Engine PRAGMA table_info(\"address\")\n",
      "2018-07-10 13:42:20,574 INFO sqlalchemy.engine.base.Engine ()\n",
      "2018-07-10 13:42:20,576 INFO sqlalchemy.engine.base.Engine \n",
      "CREATE TABLE users (\n",
      "\tid INTEGER NOT NULL, \n",
      "\tname VARCHAR, \n",
      "\tfullname VARCHAR, \n",
      "\tPRIMARY KEY (id)\n",
      ")\n",
      "\n",
      "\n",
      "2018-07-10 13:42:20,578 INFO sqlalchemy.engine.base.Engine ()\n",
      "2018-07-10 13:42:20,579 INFO sqlalchemy.engine.base.Engine COMMIT\n",
      "2018-07-10 13:42:20,580 INFO sqlalchemy.engine.base.Engine \n",
      "CREATE TABLE address (\n",
      "\tid INTEGER NOT NULL, \n",
      "\tuser_id INTEGER, \n",
      "\temail VARCHAR NOT NULL, \n",
      "\tPRIMARY KEY (id), \n",
      "\tFOREIGN KEY(user_id) REFERENCES users (id)\n",
      ")\n",
      "\n",
      "\n",
      "2018-07-10 13:42:20,581 INFO sqlalchemy.engine.base.Engine ()\n",
      "2018-07-10 13:42:20,582 INFO sqlalchemy.engine.base.Engine COMMIT\n"
     ]
    }
   ],
   "source": [
    "metadata.create_all(engine) #실제 SQLite와 통신을 위해서 bind한다. echo=True해서 모든 로그 값이 나온다."
   ]
  },
  {
   "cell_type": "code",
   "execution_count": 20,
   "metadata": {},
   "outputs": [
    {
     "name": "stdout",
     "output_type": "stream",
     "text": [
      "users\n",
      "address\n"
     ]
    }
   ],
   "source": [
    "for row in metadata.tables: #테이블 2개 생성 완료\n",
    "    print(row)"
   ]
  },
  {
   "cell_type": "code",
   "execution_count": 21,
   "metadata": {},
   "outputs": [
    {
     "name": "stdout",
     "output_type": "stream",
     "text": [
      "MetaData(bind=None)\n"
     ]
    }
   ],
   "source": [
    "print(metadata)"
   ]
  },
  {
   "cell_type": "markdown",
   "metadata": {},
   "source": [
    "### 2. insert "
   ]
  },
  {
   "cell_type": "code",
   "execution_count": 23,
   "metadata": {},
   "outputs": [
    {
     "name": "stdout",
     "output_type": "stream",
     "text": [
      "INSERT INTO users (id, name, fullname) VALUES (:id, :name, :fullname)\n"
     ]
    }
   ],
   "source": [
    "print(users.insert()) #이러한 Sql 언어를 추상화한 것이다. "
   ]
  },
  {
   "cell_type": "code",
   "execution_count": 53,
   "metadata": {},
   "outputs": [
    {
     "data": {
      "text/plain": [
       "<sqlalchemy.sql.dml.Insert object at 0x105f07f28>"
      ]
     },
     "execution_count": 53,
     "metadata": {},
     "output_type": "execute_result"
    }
   ],
   "source": [
    "users.insert().values(name = 'kim', fullname = 'Anonymous, kim')"
   ]
  },
  {
   "cell_type": "markdown",
   "metadata": {},
   "source": [
    "### 3. compile"
   ]
  },
  {
   "cell_type": "code",
   "execution_count": 62,
   "metadata": {},
   "outputs": [],
   "source": [
    "insert = users.insert().values(name = 'kim', fullname = 'Anonymous, kim')"
   ]
  },
  {
   "cell_type": "code",
   "execution_count": 63,
   "metadata": {},
   "outputs": [
    {
     "data": {
      "text/plain": [
       "{'name': 'kim', 'fullname': 'Anonymous, kim'}"
      ]
     },
     "execution_count": 63,
     "metadata": {},
     "output_type": "execute_result"
    }
   ],
   "source": [
    "insert.compile().params #파라미터의 값들을 찾을 수 있다."
   ]
  },
  {
   "cell_type": "code",
   "execution_count": 42,
   "metadata": {
    "scrolled": false
   },
   "outputs": [
    {
     "ename": "NameError",
     "evalue": "name 'insert' is not defined",
     "output_type": "error",
     "traceback": [
      "\u001b[0;31m---------------------------------------------------------------------------\u001b[0m",
      "\u001b[0;31mNameError\u001b[0m                                 Traceback (most recent call last)",
      "\u001b[0;32m<ipython-input-42-80fe21babf9d>\u001b[0m in \u001b[0;36m<module>\u001b[0;34m()\u001b[0m\n\u001b[0;32m----> 1\u001b[0;31m \u001b[0minsert\u001b[0m\u001b[0;34m.\u001b[0m\u001b[0mbind\u001b[0m \u001b[0;34m=\u001b[0m \u001b[0mengine\u001b[0m\u001b[0;34m\u001b[0m\u001b[0m\n\u001b[0m",
      "\u001b[0;31mNameError\u001b[0m: name 'insert' is not defined"
     ]
    }
   ],
   "source": [
    "insert.bind = engine"
   ]
  },
  {
   "cell_type": "markdown",
   "metadata": {},
   "source": [
    "### 4. Pool\n",
    "- engine 으로 바인딩된 것을 execute로 sqlite로 넘긴다."
   ]
  },
  {
   "cell_type": "code",
   "execution_count": 8,
   "metadata": {},
   "outputs": [
    {
     "name": "stdout",
     "output_type": "stream",
     "text": [
      "2018-07-10 16:24:36,421 INFO sqlalchemy.engine.base.Engine SELECT CAST('test plain returns' AS VARCHAR(60)) AS anon_1\n",
      "2018-07-10 16:24:36,422 INFO sqlalchemy.engine.base.Engine ()\n",
      "2018-07-10 16:24:36,425 INFO sqlalchemy.engine.base.Engine SELECT CAST('test unicode returns' AS VARCHAR(60)) AS anon_1\n",
      "2018-07-10 16:24:36,425 INFO sqlalchemy.engine.base.Engine ()\n"
     ]
    }
   ],
   "source": [
    "conn = engine.connect()"
   ]
  },
  {
   "cell_type": "code",
   "execution_count": 65,
   "metadata": {},
   "outputs": [
    {
     "name": "stdout",
     "output_type": "stream",
     "text": [
      "2018-07-10 14:27:40,381 INFO sqlalchemy.engine.base.Engine INSERT INTO users (name, fullname) VALUES (?, ?)\n",
      "2018-07-10 14:27:40,381 INFO sqlalchemy.engine.base.Engine ('kim', 'Anonymous, kim')\n",
      "2018-07-10 14:27:40,383 INFO sqlalchemy.engine.base.Engine COMMIT\n"
     ]
    }
   ],
   "source": [
    "result = conn.execute(insert)"
   ]
  },
  {
   "cell_type": "code",
   "execution_count": 33,
   "metadata": {},
   "outputs": [
    {
     "data": {
      "text/plain": [
       "[2]"
      ]
     },
     "execution_count": 33,
     "metadata": {},
     "output_type": "execute_result"
    }
   ],
   "source": [
    "result.inserted_primary_key #데이터를 몇 개 넣었는지 확인한다. "
   ]
  },
  {
   "cell_type": "code",
   "execution_count": 66,
   "metadata": {},
   "outputs": [],
   "source": [
    "insert = users.insert() #어디에 insert해야하는지 알고 있기 때문에 우리는 그냥 파라미터만 넣어주면 된다. "
   ]
  },
  {
   "cell_type": "code",
   "execution_count": 67,
   "metadata": {
    "scrolled": true
   },
   "outputs": [
    {
     "name": "stdout",
     "output_type": "stream",
     "text": [
      "2018-07-10 14:27:45,749 INFO sqlalchemy.engine.base.Engine INSERT INTO users (name, fullname) VALUES (?, ?)\n",
      "2018-07-10 14:27:45,750 INFO sqlalchemy.engine.base.Engine ('Lee', 'Unknown, Lee')\n",
      "2018-07-10 14:27:45,751 INFO sqlalchemy.engine.base.Engine COMMIT\n"
     ]
    },
    {
     "data": {
      "text/plain": [
       "<sqlalchemy.engine.result.ResultProxy at 0x105f1c710>"
      ]
     },
     "execution_count": 67,
     "metadata": {},
     "output_type": "execute_result"
    }
   ],
   "source": [
    "conn.execute(insert,name = 'Lee', fullname = 'Unknown, Lee') #어느 테이블에서 실행해야하는지 알고 있다. "
   ]
  },
  {
   "cell_type": "code",
   "execution_count": 68,
   "metadata": {},
   "outputs": [
    {
     "data": {
      "text/plain": [
       "[7]"
      ]
     },
     "execution_count": 68,
     "metadata": {},
     "output_type": "execute_result"
    }
   ],
   "source": [
    "result.inserted_primary_key"
   ]
  },
  {
   "cell_type": "code",
   "execution_count": 69,
   "metadata": {},
   "outputs": [
    {
     "name": "stdout",
     "output_type": "stream",
     "text": [
      "2018-07-10 14:27:53,559 INFO sqlalchemy.engine.base.Engine INSERT INTO users (name, fullname) VALUES (?, ?)\n",
      "2018-07-10 14:27:53,560 INFO sqlalchemy.engine.base.Engine ('xxx', 'xxxx, xxx')\n",
      "2018-07-10 14:27:53,561 INFO sqlalchemy.engine.base.Engine COMMIT\n"
     ]
    }
   ],
   "source": [
    "result = conn.execute(insert, name = 'xxx', fullname = 'xxxx, xxx')"
   ]
  },
  {
   "cell_type": "code",
   "execution_count": 70,
   "metadata": {
    "scrolled": true
   },
   "outputs": [
    {
     "data": {
      "text/plain": [
       "[9]"
      ]
     },
     "execution_count": 70,
     "metadata": {},
     "output_type": "execute_result"
    }
   ],
   "source": [
    "result.inserted_primary_key"
   ]
  },
  {
   "cell_type": "code",
   "execution_count": 40,
   "metadata": {},
   "outputs": [
    {
     "name": "stdout",
     "output_type": "stream",
     "text": [
      "2018-07-10 14:16:04,545 INFO sqlalchemy.engine.base.Engine INSERT INTO address (user_id, email) VALUES (?, ?)\n",
      "2018-07-10 14:16:04,547 INFO sqlalchemy.engine.base.Engine ((1, 'anonymous.kim@test.com'), (2, 'anonympous.Lee@test.com'))\n",
      "2018-07-10 14:16:04,548 INFO sqlalchemy.engine.base.Engine COMMIT\n"
     ]
    },
    {
     "data": {
      "text/plain": [
       "<sqlalchemy.engine.result.ResultProxy at 0x105f07550>"
      ]
     },
     "execution_count": 40,
     "metadata": {},
     "output_type": "execute_result"
    }
   ],
   "source": [
    "conn.execute(address.insert(), [\n",
    "    {'user_id':1, 'email':'anonymous.kim@test.com'},\n",
    "    {'user_id':2, 'email':'anonympous.Lee@test.com'}\n",
    "])"
   ]
  },
  {
   "cell_type": "markdown",
   "metadata": {},
   "source": [
    "### Select"
   ]
  },
  {
   "cell_type": "code",
   "execution_count": 15,
   "metadata": {},
   "outputs": [],
   "source": [
    "from sqlalchemy.sql import select"
   ]
  },
  {
   "cell_type": "code",
   "execution_count": 72,
   "metadata": {},
   "outputs": [
    {
     "name": "stdout",
     "output_type": "stream",
     "text": [
      "2018-07-10 14:28:03,493 INFO sqlalchemy.engine.base.Engine SELECT users.id, users.name, users.fullname \n",
      "FROM users\n",
      "2018-07-10 14:28:03,494 INFO sqlalchemy.engine.base.Engine ()\n",
      "(1, 'kim', 'Anonymous, kim')\n",
      "(2, 'kim', 'Anonymous, kim')\n",
      "(3, 'Lee', 'Unknown, Lee')\n",
      "(4, 'xxx', 'xxxx, xxx')\n",
      "(5, 'Lee', 'Unknown, Lee')\n",
      "(6, 'xxx', 'xxxx, xxx')\n",
      "(7, 'kim', 'Anonymous, kim')\n",
      "(8, 'Lee', 'Unknown, Lee')\n",
      "(9, 'xxx', 'xxxx, xxx')\n"
     ]
    }
   ],
   "source": [
    "query = select([users])\n",
    "result = conn.execute(query)\n",
    "\n",
    "for row in result:\n",
    "    print(row)"
   ]
  },
  {
   "cell_type": "code",
   "execution_count": 73,
   "metadata": {},
   "outputs": [
    {
     "name": "stdout",
     "output_type": "stream",
     "text": [
      "2018-07-10 14:28:10,469 INFO sqlalchemy.engine.base.Engine SELECT users.name, users.fullname \n",
      "FROM users\n",
      "2018-07-10 14:28:10,470 INFO sqlalchemy.engine.base.Engine ()\n",
      "('kim', 'Anonymous, kim')\n",
      "('kim', 'Anonymous, kim')\n",
      "('Lee', 'Unknown, Lee')\n",
      "('xxx', 'xxxx, xxx')\n",
      "('Lee', 'Unknown, Lee')\n",
      "('xxx', 'xxxx, xxx')\n",
      "('kim', 'Anonymous, kim')\n",
      "('Lee', 'Unknown, Lee')\n",
      "('xxx', 'xxxx, xxx')\n"
     ]
    }
   ],
   "source": [
    "result = conn.execute(select([users.c.name, users.c.fullname]))\n",
    "\n",
    "for row in result:\n",
    "    print(row)"
   ]
  },
  {
   "cell_type": "code",
   "execution_count": 74,
   "metadata": {},
   "outputs": [
    {
     "name": "stdout",
     "output_type": "stream",
     "text": [
      "None\n"
     ]
    }
   ],
   "source": [
    "row = result.fetchone() #None일때까지 계속 fetch 한다. \n",
    "print(row) "
   ]
  },
  {
   "cell_type": "markdown",
   "metadata": {},
   "source": [
    "# Fetch는 값이 사라지는 것이 아니라 cursor의 위치를 변경"
   ]
  },
  {
   "cell_type": "code",
   "execution_count": 76,
   "metadata": {},
   "outputs": [
    {
     "name": "stdout",
     "output_type": "stream",
     "text": [
      "2018-07-10 14:29:10,836 INFO sqlalchemy.engine.base.Engine SELECT users.id, users.name, users.fullname \n",
      "FROM users\n",
      "2018-07-10 14:29:10,837 INFO sqlalchemy.engine.base.Engine ()\n",
      "(1, 'kim', 'Anonymous, kim')\n",
      "(2, 'kim', 'Anonymous, kim')\n",
      "(3, 'Lee', 'Unknown, Lee')\n",
      "(4, 'xxx', 'xxxx, xxx')\n",
      "(5, 'Lee', 'Unknown, Lee')\n",
      "(6, 'xxx', 'xxxx, xxx')\n",
      "(7, 'kim', 'Anonymous, kim')\n",
      "(8, 'Lee', 'Unknown, Lee')\n",
      "(9, 'xxx', 'xxxx, xxx')\n"
     ]
    }
   ],
   "source": [
    "result = conn.execute(query) #cursor의 위치를 변경하는 것이다. fetch는 값이 사라지는 것이 아니다!\n",
    "rows = result.fetchall()\n",
    "for row in rows:\n",
    "    print(row)"
   ]
  },
  {
   "cell_type": "markdown",
   "metadata": {},
   "source": [
    "# where\n",
    "- select 문 뒤에 where 절을 쓴다."
   ]
  },
  {
   "cell_type": "code",
   "execution_count": 17,
   "metadata": {},
   "outputs": [],
   "source": [
    "from sqlalchemy import and_, or_, not_"
   ]
  },
  {
   "cell_type": "code",
   "execution_count": 79,
   "metadata": {},
   "outputs": [
    {
     "name": "stdout",
     "output_type": "stream",
     "text": [
      "users.id = address.user_id\n"
     ]
    }
   ],
   "source": [
    "print(users.c.id == address.c.user_id)"
   ]
  },
  {
   "cell_type": "code",
   "execution_count": 84,
   "metadata": {},
   "outputs": [
    {
     "name": "stdout",
     "output_type": "stream",
     "text": [
      "users.id = address.user_id OR users.id = :id_1\n"
     ]
    }
   ],
   "source": [
    "print(or_(users.c.id == address.c.user_id, users.c.id == 1)) #or 함수가 어떻게 실행되는지 확인 가능"
   ]
  },
  {
   "cell_type": "code",
   "execution_count": 85,
   "metadata": {},
   "outputs": [
    {
     "name": "stdout",
     "output_type": "stream",
     "text": [
      "users.id = address.user_id OR users.id = :id_1\n"
     ]
    }
   ],
   "source": [
    "print((users.c.id == address.c.user_id) | (users.c.id == 1)) #파이썬 문법으로도 가능하다. "
   ]
  },
  {
   "cell_type": "code",
   "execution_count": 87,
   "metadata": {},
   "outputs": [
    {
     "name": "stdout",
     "output_type": "stream",
     "text": [
      "2018-07-10 14:38:11,973 INFO sqlalchemy.engine.base.Engine SELECT users.id, users.name, users.fullname \n",
      "FROM users \n",
      "WHERE users.id = ?\n",
      "2018-07-10 14:38:11,974 INFO sqlalchemy.engine.base.Engine (1,)\n"
     ]
    }
   ],
   "source": [
    "result = conn.execute(select([users]).where(users.c.id == 1))"
   ]
  },
  {
   "cell_type": "code",
   "execution_count": 88,
   "metadata": {},
   "outputs": [
    {
     "name": "stdout",
     "output_type": "stream",
     "text": [
      "(1, 'kim', 'Anonymous, kim')\n"
     ]
    }
   ],
   "source": [
    "for row in result:\n",
    "    print(row)"
   ]
  },
  {
   "cell_type": "markdown",
   "metadata": {},
   "source": [
    "# where 절을 통한 Join"
   ]
  },
  {
   "cell_type": "code",
   "execution_count": 90,
   "metadata": {},
   "outputs": [
    {
     "name": "stdout",
     "output_type": "stream",
     "text": [
      "2018-07-10 14:42:37,062 INFO sqlalchemy.engine.base.Engine SELECT users.id, users.name, users.fullname, address.id, address.user_id, address.email \n",
      "FROM users, address \n",
      "WHERE users.id = address.user_id\n",
      "2018-07-10 14:42:37,063 INFO sqlalchemy.engine.base.Engine ()\n"
     ]
    }
   ],
   "source": [
    "result = conn.execute(select([users, address]).where(users.c.id == address.c.user_id))"
   ]
  },
  {
   "cell_type": "code",
   "execution_count": 91,
   "metadata": {},
   "outputs": [
    {
     "name": "stdout",
     "output_type": "stream",
     "text": [
      "(1, 'kim', 'Anonymous, kim', 1, 1, 'anonymous.kim@test.com')\n",
      "(2, 'kim', 'Anonymous, kim', 2, 2, 'anonympous.Lee@test.com')\n"
     ]
    }
   ],
   "source": [
    "for row in result:\n",
    "    print(row)"
   ]
  },
  {
   "cell_type": "markdown",
   "metadata": {},
   "source": [
    "# Like"
   ]
  },
  {
   "cell_type": "code",
   "execution_count": 92,
   "metadata": {},
   "outputs": [
    {
     "name": "stdout",
     "output_type": "stream",
     "text": [
      "2018-07-10 14:45:18,972 INFO sqlalchemy.engine.base.Engine SELECT users.id, users.name, users.fullname \n",
      "FROM users \n",
      "WHERE users.name LIKE ?\n",
      "2018-07-10 14:45:18,973 INFO sqlalchemy.engine.base.Engine ('k%',)\n"
     ]
    }
   ],
   "source": [
    "result = conn.execute(select([users]).where(users.c.name.like('k%')))"
   ]
  },
  {
   "cell_type": "code",
   "execution_count": 93,
   "metadata": {},
   "outputs": [
    {
     "name": "stdout",
     "output_type": "stream",
     "text": [
      "(1, 'kim', 'Anonymous, kim')\n",
      "(2, 'kim', 'Anonymous, kim')\n",
      "(7, 'kim', 'Anonymous, kim')\n"
     ]
    }
   ],
   "source": [
    "for row in result:\n",
    "    print(row)"
   ]
  },
  {
   "cell_type": "code",
   "execution_count": 94,
   "metadata": {},
   "outputs": [
    {
     "name": "stdout",
     "output_type": "stream",
     "text": [
      "2018-07-10 14:45:56,776 INFO sqlalchemy.engine.base.Engine SELECT users.id, users.name, users.fullname \n",
      "FROM users \n",
      "WHERE users.name LIKE ?\n",
      "2018-07-10 14:45:56,776 INFO sqlalchemy.engine.base.Engine ('%i%',)\n"
     ]
    }
   ],
   "source": [
    "result = conn.execute(select([users]).where(users.c.name.like('%i%')))"
   ]
  },
  {
   "cell_type": "code",
   "execution_count": 95,
   "metadata": {},
   "outputs": [
    {
     "name": "stdout",
     "output_type": "stream",
     "text": [
      "(1, 'kim', 'Anonymous, kim')\n",
      "(2, 'kim', 'Anonymous, kim')\n",
      "(7, 'kim', 'Anonymous, kim')\n"
     ]
    }
   ],
   "source": [
    "for row in result:\n",
    "    print(row)"
   ]
  },
  {
   "cell_type": "markdown",
   "metadata": {},
   "source": [
    "- and 절로 묶지 않아도 where절로 condition을 만들 수 있다.\n",
    "- or는 따로 condition을 만들어줘야 한다."
   ]
  },
  {
   "cell_type": "code",
   "execution_count": 98,
   "metadata": {},
   "outputs": [
    {
     "name": "stdout",
     "output_type": "stream",
     "text": [
      "2018-07-10 14:47:49,708 INFO sqlalchemy.engine.base.Engine SELECT users.id, users.name, users.fullname, address.id, address.user_id, address.email \n",
      "FROM users, address \n",
      "WHERE users.id = address.user_id AND users.name LIKE ?\n",
      "2018-07-10 14:47:49,709 INFO sqlalchemy.engine.base.Engine ('k%',)\n"
     ]
    }
   ],
   "source": [
    "result = conn.execute(select([users, address]).where(users.c.id == address.c.user_id).where(users.c.name.like('k%')))"
   ]
  },
  {
   "cell_type": "code",
   "execution_count": 99,
   "metadata": {},
   "outputs": [
    {
     "name": "stdout",
     "output_type": "stream",
     "text": [
      "(1, 'kim', 'Anonymous, kim', 1, 1, 'anonymous.kim@test.com')\n",
      "(2, 'kim', 'Anonymous, kim', 2, 2, 'anonympous.Lee@test.com')\n"
     ]
    }
   ],
   "source": [
    "for row in result:\n",
    "    print(row)"
   ]
  },
  {
   "cell_type": "markdown",
   "metadata": {},
   "source": [
    "# Join"
   ]
  },
  {
   "cell_type": "code",
   "execution_count": 100,
   "metadata": {},
   "outputs": [],
   "source": [
    "from sqlalchemy import join"
   ]
  },
  {
   "cell_type": "code",
   "execution_count": 103,
   "metadata": {},
   "outputs": [
    {
     "name": "stdout",
     "output_type": "stream",
     "text": [
      "users JOIN address ON users.id = address.user_id\n"
     ]
    }
   ],
   "source": [
    "print(users.join(address)) #foreign key를 명시했기 때문에 알아서 join이 된 것이다. "
   ]
  },
  {
   "cell_type": "markdown",
   "metadata": {},
   "source": [
    "### Inner Join"
   ]
  },
  {
   "cell_type": "code",
   "execution_count": 104,
   "metadata": {},
   "outputs": [
    {
     "name": "stdout",
     "output_type": "stream",
     "text": [
      "2018-07-10 15:10:12,099 INFO sqlalchemy.engine.base.Engine SELECT users.id, users.name, users.fullname \n",
      "FROM users JOIN address ON users.id = address.user_id\n",
      "2018-07-10 15:10:12,099 INFO sqlalchemy.engine.base.Engine ()\n"
     ]
    }
   ],
   "source": [
    "result = conn.execute(select([users]).select_from(users.join(address))) "
   ]
  },
  {
   "cell_type": "code",
   "execution_count": 105,
   "metadata": {},
   "outputs": [
    {
     "name": "stdout",
     "output_type": "stream",
     "text": [
      "(1, 'kim', 'Anonymous, kim')\n",
      "(2, 'kim', 'Anonymous, kim')\n"
     ]
    }
   ],
   "source": [
    "for row in result:\n",
    "    print(row)"
   ]
  },
  {
   "cell_type": "code",
   "execution_count": 107,
   "metadata": {},
   "outputs": [
    {
     "name": "stdout",
     "output_type": "stream",
     "text": [
      "2018-07-10 15:12:35,667 INFO sqlalchemy.engine.base.Engine SELECT users.name, address.email \n",
      "FROM users JOIN address ON users.id = address.user_id\n",
      "2018-07-10 15:12:35,668 INFO sqlalchemy.engine.base.Engine ()\n"
     ]
    }
   ],
   "source": [
    "result = conn.execute(select([users.c.name, address.c.email]).select_from(users.join(address))) "
   ]
  },
  {
   "cell_type": "code",
   "execution_count": 108,
   "metadata": {},
   "outputs": [
    {
     "name": "stdout",
     "output_type": "stream",
     "text": [
      "('kim', 'anonymous.kim@test.com')\n",
      "('kim', 'anonympous.Lee@test.com')\n"
     ]
    }
   ],
   "source": [
    "for row in result:\n",
    "    print(row) "
   ]
  },
  {
   "cell_type": "markdown",
   "metadata": {},
   "source": [
    "# 예제"
   ]
  },
  {
   "cell_type": "markdown",
   "metadata": {},
   "source": [
    "### Create"
   ]
  },
  {
   "cell_type": "code",
   "execution_count": 9,
   "metadata": {},
   "outputs": [],
   "source": [
    "artist = Table(\"Artist\",metadata,\n",
    "               Column(\"id\", Integer, primary_key = True),\n",
    "              Column(\"name\", String, nullable = False),\n",
    "              extend_existing = True)\n",
    "album = Table(\"Album\", metadata,\n",
    "             Column(\"id\", Integer, primary_key = True),\n",
    "             Column(\"title\", String, nullable = False),\n",
    "             Column(\"artist_id\", Integer, ForeignKey(\"Artist.id\")),\n",
    "             extend_existing = True)\n",
    "genre = Table(\"Genre\",metadata,\n",
    "               Column(\"id\", Integer, primary_key = True),\n",
    "              Column(\"name\", String, nullable = False),\n",
    "              extend_existing = True)\n",
    "track = Table(\"Track\", metadata,\n",
    "             Column(\"id\", Integer, primary_key = True),\n",
    "             Column(\"title\", String, nullable = False),\n",
    "             Column(\"length\", Integer, nullable = False),\n",
    "             Column(\"rating\", Integer, nullable = False),\n",
    "             Column(\"count\", Integer, nullable = False),\n",
    "             Column(\"album_id\", Integer, ForeignKey(\"Album.id\")),\n",
    "             Column(\"genre_id\", Integer, ForeignKey(\"Genre.id\")),\n",
    "             extend_existing = True)"
   ]
  },
  {
   "cell_type": "markdown",
   "metadata": {},
   "source": [
    "### Show Tables"
   ]
  },
  {
   "cell_type": "code",
   "execution_count": 10,
   "metadata": {},
   "outputs": [
    {
     "name": "stdout",
     "output_type": "stream",
     "text": [
      "2018-07-10 16:24:56,330 INFO sqlalchemy.engine.base.Engine PRAGMA table_info(\"Artist\")\n",
      "2018-07-10 16:24:56,331 INFO sqlalchemy.engine.base.Engine ()\n",
      "2018-07-10 16:24:56,333 INFO sqlalchemy.engine.base.Engine PRAGMA table_info(\"Album\")\n",
      "2018-07-10 16:24:56,334 INFO sqlalchemy.engine.base.Engine ()\n",
      "2018-07-10 16:24:56,335 INFO sqlalchemy.engine.base.Engine PRAGMA table_info(\"Genre\")\n",
      "2018-07-10 16:24:56,335 INFO sqlalchemy.engine.base.Engine ()\n",
      "2018-07-10 16:24:56,336 INFO sqlalchemy.engine.base.Engine PRAGMA table_info(\"Track\")\n",
      "2018-07-10 16:24:56,337 INFO sqlalchemy.engine.base.Engine ()\n",
      "2018-07-10 16:24:56,338 INFO sqlalchemy.engine.base.Engine \n",
      "CREATE TABLE \"Artist\" (\n",
      "\tid INTEGER NOT NULL, \n",
      "\tname VARCHAR NOT NULL, \n",
      "\tPRIMARY KEY (id)\n",
      ")\n",
      "\n",
      "\n",
      "2018-07-10 16:24:56,338 INFO sqlalchemy.engine.base.Engine ()\n",
      "2018-07-10 16:24:56,340 INFO sqlalchemy.engine.base.Engine COMMIT\n",
      "2018-07-10 16:24:56,341 INFO sqlalchemy.engine.base.Engine \n",
      "CREATE TABLE \"Genre\" (\n",
      "\tid INTEGER NOT NULL, \n",
      "\tname VARCHAR NOT NULL, \n",
      "\tPRIMARY KEY (id)\n",
      ")\n",
      "\n",
      "\n",
      "2018-07-10 16:24:56,342 INFO sqlalchemy.engine.base.Engine ()\n",
      "2018-07-10 16:24:56,345 INFO sqlalchemy.engine.base.Engine COMMIT\n",
      "2018-07-10 16:24:56,346 INFO sqlalchemy.engine.base.Engine \n",
      "CREATE TABLE \"Album\" (\n",
      "\tid INTEGER NOT NULL, \n",
      "\ttitle VARCHAR NOT NULL, \n",
      "\tartist_id INTEGER, \n",
      "\tPRIMARY KEY (id), \n",
      "\tFOREIGN KEY(artist_id) REFERENCES \"Artist\" (id)\n",
      ")\n",
      "\n",
      "\n",
      "2018-07-10 16:24:56,347 INFO sqlalchemy.engine.base.Engine ()\n",
      "2018-07-10 16:24:56,349 INFO sqlalchemy.engine.base.Engine COMMIT\n",
      "2018-07-10 16:24:56,350 INFO sqlalchemy.engine.base.Engine \n",
      "CREATE TABLE \"Track\" (\n",
      "\tid INTEGER NOT NULL, \n",
      "\ttitle VARCHAR NOT NULL, \n",
      "\tlength INTEGER NOT NULL, \n",
      "\trating INTEGER NOT NULL, \n",
      "\tcount INTEGER NOT NULL, \n",
      "\talbum_id INTEGER, \n",
      "\tgenre_id INTEGER, \n",
      "\tPRIMARY KEY (id), \n",
      "\tFOREIGN KEY(album_id) REFERENCES \"Album\" (id), \n",
      "\tFOREIGN KEY(genre_id) REFERENCES \"Genre\" (id)\n",
      ")\n",
      "\n",
      "\n",
      "2018-07-10 16:24:56,350 INFO sqlalchemy.engine.base.Engine ()\n",
      "2018-07-10 16:24:56,352 INFO sqlalchemy.engine.base.Engine COMMIT\n"
     ]
    }
   ],
   "source": [
    "metadata.create_all(engine)"
   ]
  },
  {
   "cell_type": "code",
   "execution_count": 11,
   "metadata": {},
   "outputs": [
    {
     "name": "stdout",
     "output_type": "stream",
     "text": [
      "Artist\n",
      "Album\n",
      "Genre\n",
      "Track\n"
     ]
    }
   ],
   "source": [
    "for row in metadata.tables:\n",
    "    print(row)"
   ]
  },
  {
   "cell_type": "code",
   "execution_count": 128,
   "metadata": {},
   "outputs": [
    {
     "name": "stdout",
     "output_type": "stream",
     "text": [
      "2018-07-10 15:32:34,977 INFO sqlalchemy.engine.base.Engine \n",
      "DROP TABLE users\n",
      "2018-07-10 15:32:34,978 INFO sqlalchemy.engine.base.Engine ()\n",
      "2018-07-10 15:32:34,980 INFO sqlalchemy.engine.base.Engine COMMIT\n"
     ]
    }
   ],
   "source": [
    "users.drop(engine)"
   ]
  },
  {
   "cell_type": "code",
   "execution_count": 129,
   "metadata": {},
   "outputs": [
    {
     "name": "stdout",
     "output_type": "stream",
     "text": [
      "2018-07-10 15:32:36,601 INFO sqlalchemy.engine.base.Engine \n",
      "DROP TABLE address\n",
      "2018-07-10 15:32:36,603 INFO sqlalchemy.engine.base.Engine ()\n",
      "2018-07-10 15:32:36,604 INFO sqlalchemy.engine.base.Engine COMMIT\n"
     ]
    }
   ],
   "source": [
    "address.drop(engine)"
   ]
  },
  {
   "cell_type": "code",
   "execution_count": 130,
   "metadata": {},
   "outputs": [
    {
     "name": "stdout",
     "output_type": "stream",
     "text": [
      "users\n",
      "address\n",
      "Artist\n",
      "Album\n",
      "Genre\n",
      "Track\n"
     ]
    }
   ],
   "source": [
    "for row in metadata.tables:\n",
    "    print(row)"
   ]
  },
  {
   "cell_type": "code",
   "execution_count": 131,
   "metadata": {
    "scrolled": true
   },
   "outputs": [
    {
     "name": "stdout",
     "output_type": "stream",
     "text": [
      "2018-07-10 15:32:39,384 INFO sqlalchemy.engine.base.Engine SELECT name FROM sqlite_master WHERE type='table' ORDER BY name\n",
      "2018-07-10 15:32:39,385 INFO sqlalchemy.engine.base.Engine ()\n",
      "Album\n",
      "Artist\n",
      "Genre\n",
      "Track\n"
     ]
    }
   ],
   "source": [
    "for row in engine.table_names():\n",
    "    print(row)"
   ]
  },
  {
   "cell_type": "markdown",
   "metadata": {},
   "source": [
    "### Insert"
   ]
  },
  {
   "cell_type": "code",
   "execution_count": 12,
   "metadata": {},
   "outputs": [
    {
     "name": "stdout",
     "output_type": "stream",
     "text": [
      "2018-07-10 16:25:10,949 INFO sqlalchemy.engine.base.Engine INSERT INTO \"Artist\" (name) VALUES (?)\n",
      "2018-07-10 16:25:10,950 INFO sqlalchemy.engine.base.Engine (('Led Zepplin',), ('AC/DC',))\n",
      "2018-07-10 16:25:10,952 INFO sqlalchemy.engine.base.Engine COMMIT\n",
      "2018-07-10 16:25:10,953 INFO sqlalchemy.engine.base.Engine INSERT INTO \"Album\" (title, artist_id) VALUES (?, ?)\n",
      "2018-07-10 16:25:10,954 INFO sqlalchemy.engine.base.Engine (('IV', 1), ('Who Made Who', 2))\n",
      "2018-07-10 16:25:10,955 INFO sqlalchemy.engine.base.Engine COMMIT\n",
      "2018-07-10 16:25:10,957 INFO sqlalchemy.engine.base.Engine INSERT INTO \"Genre\" (name) VALUES (?)\n",
      "2018-07-10 16:25:10,957 INFO sqlalchemy.engine.base.Engine (('Rock',), ('Metal',))\n",
      "2018-07-10 16:25:10,959 INFO sqlalchemy.engine.base.Engine COMMIT\n",
      "2018-07-10 16:25:10,960 INFO sqlalchemy.engine.base.Engine INSERT INTO \"Track\" (title, length, rating, count, album_id, genre_id) VALUES (?, ?, ?, ?, ?, ?)\n",
      "2018-07-10 16:25:10,961 INFO sqlalchemy.engine.base.Engine (('Black Dog', 297, 5, 0, 1, 1), ('Stairway', 482, 5, 0, 1, 2), ('Acout to rock', 313, 5, 0, 2, 1), ('Who Made Who', 297, 5, 0, 2, 2))\n",
      "2018-07-10 16:25:10,962 INFO sqlalchemy.engine.base.Engine COMMIT\n"
     ]
    },
    {
     "data": {
      "text/plain": [
       "<sqlalchemy.engine.result.ResultProxy at 0x10e4634a8>"
      ]
     },
     "execution_count": 12,
     "metadata": {},
     "output_type": "execute_result"
    }
   ],
   "source": [
    "conn.execute(artist.insert(),[\n",
    "    {\"name\":\"Led Zepplin\"},\n",
    "    {\"name\":\"AC/DC\"}\n",
    "])\n",
    "conn.execute(album.insert(),[\n",
    "    {\"title\":\"IV\",\"artist_id\":1},\n",
    "    {\"title\":\"Who Made Who\", \"artist_id\":2}\n",
    "])\n",
    "conn.execute(genre.insert(),[\n",
    "    {\"name\":\"Rock\"},\n",
    "    {\"name\":\"Metal\"}\n",
    "])\n",
    "conn.execute(track.insert(),[\n",
    "    {\"title\":\"Black Dog\", \"rating\":5, \"length\":297,\"count\":0,\"album_id\":1, \"genre_id\":1},\n",
    "    {\"title\":\"Stairway\", \"rating\":5, \"length\":482,\"count\":0,\"album_id\":1, \"genre_id\":2},\n",
    "    {\"title\":\"Acout to rock\", \"rating\":5, \"length\":313,\"count\":0,\"album_id\":2, \"genre_id\":1},\n",
    "    {\"title\":\"Who Made Who\", \"rating\":5, \"length\":297,\"count\":0,\"album_id\":2, \"genre_id\":2},\n",
    "])"
   ]
  },
  {
   "cell_type": "markdown",
   "metadata": {},
   "source": [
    "### Select"
   ]
  },
  {
   "cell_type": "code",
   "execution_count": 13,
   "metadata": {},
   "outputs": [
    {
     "name": "stdout",
     "output_type": "stream",
     "text": [
      "2018-07-10 16:25:15,226 INFO sqlalchemy.engine.base.Engine SELECT \"Artist\".id, \"Artist\".name \n",
      "FROM \"Artist\"\n",
      "2018-07-10 16:25:15,227 INFO sqlalchemy.engine.base.Engine ()\n",
      "(1, 'Led Zepplin')\n",
      "(2, 'AC/DC')\n",
      "2018-07-10 16:25:15,230 INFO sqlalchemy.engine.base.Engine SELECT \"Album\".id, \"Album\".title, \"Album\".artist_id \n",
      "FROM \"Album\"\n",
      "2018-07-10 16:25:15,231 INFO sqlalchemy.engine.base.Engine ()\n",
      "(1, 'IV', 1)\n",
      "(2, 'Who Made Who', 2)\n",
      "2018-07-10 16:25:15,233 INFO sqlalchemy.engine.base.Engine SELECT \"Genre\".id, \"Genre\".name \n",
      "FROM \"Genre\"\n",
      "2018-07-10 16:25:15,233 INFO sqlalchemy.engine.base.Engine ()\n",
      "(1, 'Rock')\n",
      "(2, 'Metal')\n",
      "2018-07-10 16:25:15,235 INFO sqlalchemy.engine.base.Engine SELECT \"Track\".id, \"Track\".title, \"Track\".length, \"Track\".rating, \"Track\".count, \"Track\".album_id, \"Track\".genre_id \n",
      "FROM \"Track\"\n",
      "2018-07-10 16:25:15,236 INFO sqlalchemy.engine.base.Engine ()\n",
      "(1, 'Black Dog', 297, 5, 0, 1, 1)\n",
      "(2, 'Stairway', 482, 5, 0, 1, 2)\n",
      "(3, 'Acout to rock', 313, 5, 0, 2, 1)\n",
      "(4, 'Who Made Who', 297, 5, 0, 2, 2)\n"
     ]
    }
   ],
   "source": [
    "artistResult = conn.execute(artist.select())\n",
    "for row in artistResult:\n",
    "    print(row)\n",
    "    \n",
    "albumResult = conn.execute(album.select())\n",
    "for row in albumResult:\n",
    "    print(row)\n",
    "    \n",
    "genreResult = conn.execute(genre.select())\n",
    "for row in genreResult:\n",
    "    print(row)\n",
    "\n",
    "trackResult = conn.execute(track.select())\n",
    "for row in trackResult:\n",
    "    print(row)"
   ]
  },
  {
   "cell_type": "markdown",
   "metadata": {},
   "source": [
    "### Where"
   ]
  },
  {
   "cell_type": "code",
   "execution_count": 18,
   "metadata": {
    "scrolled": false
   },
   "outputs": [
    {
     "name": "stdout",
     "output_type": "stream",
     "text": [
      "2018-07-10 16:25:56,729 INFO sqlalchemy.engine.base.Engine SELECT \"Track\".id, \"Track\".title, \"Track\".length, \"Track\".rating, \"Track\".count, \"Track\".album_id, \"Track\".genre_id \n",
      "FROM \"Track\" \n",
      "WHERE \"Track\".album_id = ? AND (\"Track\".genre_id = ? OR \"Track\".genre_id = ?)\n",
      "2018-07-10 16:25:56,731 INFO sqlalchemy.engine.base.Engine (1, 1, 2)\n",
      "(1, 'Black Dog', 297, 5, 0, 1, 1)\n",
      "(2, 'Stairway', 482, 5, 0, 1, 2)\n"
     ]
    }
   ],
   "source": [
    "result = conn.execute(select([track])\n",
    "                     .where(\n",
    "                         and_(track.c.album_id == 1,\n",
    "                             or_(\n",
    "                                 track.c.genre_id == 1,\n",
    "                                 track.c.genre_id == 2)))\n",
    "                     )\n",
    "for row in result:\n",
    "    print(row)"
   ]
  },
  {
   "cell_type": "markdown",
   "metadata": {},
   "source": [
    "### Update"
   ]
  },
  {
   "cell_type": "code",
   "execution_count": 19,
   "metadata": {
    "scrolled": true
   },
   "outputs": [
    {
     "name": "stdout",
     "output_type": "stream",
     "text": [
      "2018-07-10 16:26:01,630 INFO sqlalchemy.engine.base.Engine UPDATE \"Track\" SET genre_id=? WHERE \"Track\".id = ?\n",
      "2018-07-10 16:26:01,632 INFO sqlalchemy.engine.base.Engine (3, 1)\n",
      "2018-07-10 16:26:01,634 INFO sqlalchemy.engine.base.Engine COMMIT\n"
     ]
    },
    {
     "data": {
      "text/plain": [
       "<sqlalchemy.engine.result.ResultProxy at 0x10e4609e8>"
      ]
     },
     "execution_count": 19,
     "metadata": {},
     "output_type": "execute_result"
    }
   ],
   "source": [
    "from sqlalchemy import update\n",
    "\n",
    "conn.execute(track.update().values(genre_id = 3).where(track.c.id == 1))"
   ]
  },
  {
   "cell_type": "code",
   "execution_count": 20,
   "metadata": {},
   "outputs": [
    {
     "name": "stdout",
     "output_type": "stream",
     "text": [
      "2018-07-10 16:26:04,441 INFO sqlalchemy.engine.base.Engine SELECT \"Track\".id, \"Track\".title, \"Track\".length, \"Track\".rating, \"Track\".count, \"Track\".album_id, \"Track\".genre_id \n",
      "FROM \"Track\" \n",
      "WHERE \"Track\".album_id = ? AND (\"Track\".genre_id = ? OR \"Track\".genre_id = ?)\n",
      "2018-07-10 16:26:04,442 INFO sqlalchemy.engine.base.Engine (1, 1, 2)\n",
      "(2, 'Stairway', 482, 5, 0, 1, 2)\n"
     ]
    }
   ],
   "source": [
    "result = conn.execute(select([track])\n",
    "                     .where(\n",
    "                         and_(track.c.album_id == 1,\n",
    "                             or_(\n",
    "                                 track.c.genre_id == 1,\n",
    "                                 track.c.genre_id == 2)))\n",
    "                     )\n",
    "for row in result:\n",
    "    print(row)"
   ]
  },
  {
   "cell_type": "code",
   "execution_count": 21,
   "metadata": {},
   "outputs": [
    {
     "name": "stdout",
     "output_type": "stream",
     "text": [
      "2018-07-10 16:26:07,543 INFO sqlalchemy.engine.base.Engine UPDATE \"Track\" SET genre_id=? WHERE \"Track\".id = ?\n",
      "2018-07-10 16:26:07,545 INFO sqlalchemy.engine.base.Engine (1, 3)\n",
      "2018-07-10 16:26:07,546 INFO sqlalchemy.engine.base.Engine COMMIT\n"
     ]
    },
    {
     "data": {
      "text/plain": [
       "<sqlalchemy.engine.result.ResultProxy at 0x10e443ba8>"
      ]
     },
     "execution_count": 21,
     "metadata": {},
     "output_type": "execute_result"
    }
   ],
   "source": [
    "from sqlalchemy import update\n",
    "\n",
    "conn.execute(track.update().values(genre_id = 1).where(track.c.id == 3))"
   ]
  },
  {
   "cell_type": "code",
   "execution_count": 22,
   "metadata": {},
   "outputs": [
    {
     "name": "stdout",
     "output_type": "stream",
     "text": [
      "2018-07-10 16:26:20,196 INFO sqlalchemy.engine.base.Engine SELECT \"Track\".id, \"Track\".title, \"Track\".length, \"Track\".rating, \"Track\".count, \"Track\".album_id, \"Track\".genre_id \n",
      "FROM \"Track\" \n",
      "WHERE \"Track\".album_id = ? AND (\"Track\".genre_id = ? OR \"Track\".genre_id = ?)\n",
      "2018-07-10 16:26:20,197 INFO sqlalchemy.engine.base.Engine (1, 1, 2)\n",
      "(2, 'Stairway', 482, 5, 0, 1, 2)\n"
     ]
    }
   ],
   "source": [
    "result = conn.execute(select([track])\n",
    "                     .where(\n",
    "                         and_(track.c.album_id == 1,\n",
    "                             or_(\n",
    "                                 track.c.genre_id == 1,\n",
    "                                 track.c.genre_id == 2)))\n",
    "                     )\n",
    "for row in result:\n",
    "    print(row)"
   ]
  },
  {
   "cell_type": "markdown",
   "metadata": {},
   "source": [
    "### Join"
   ]
  },
  {
   "cell_type": "code",
   "execution_count": 145,
   "metadata": {},
   "outputs": [
    {
     "name": "stdout",
     "output_type": "stream",
     "text": [
      "\"Track\" JOIN \"Album\" ON \"Album\".id = \"Track\".album_id\n"
     ]
    }
   ],
   "source": [
    "print(track.join(album))"
   ]
  },
  {
   "cell_type": "code",
   "execution_count": 23,
   "metadata": {},
   "outputs": [
    {
     "name": "stdout",
     "output_type": "stream",
     "text": [
      "2018-07-10 16:26:25,171 INFO sqlalchemy.engine.base.Engine SELECT \"Track\".id, \"Track\".title, \"Track\".length, \"Track\".rating, \"Track\".count, \"Track\".album_id, \"Track\".genre_id \n",
      "FROM \"Track\" JOIN \"Album\" ON \"Album\".id = \"Track\".album_id\n",
      "2018-07-10 16:26:25,172 INFO sqlalchemy.engine.base.Engine ()\n",
      "(1, 'Black Dog', 297, 5, 0, 1, 3)\n",
      "(2, 'Stairway', 482, 5, 0, 1, 2)\n",
      "(3, 'Acout to rock', 313, 5, 0, 2, 1)\n",
      "(4, 'Who Made Who', 297, 5, 0, 2, 2)\n"
     ]
    }
   ],
   "source": [
    "result = conn.execute(track.select().select_from(track.join(album)))\n",
    "\n",
    "for row in result.fetchall():\n",
    "    print(row)"
   ]
  },
  {
   "cell_type": "code",
   "execution_count": 24,
   "metadata": {},
   "outputs": [
    {
     "name": "stdout",
     "output_type": "stream",
     "text": [
      "2018-07-10 16:26:27,467 INFO sqlalchemy.engine.base.Engine SELECT \"Track\".id, \"Track\".title, \"Track\".length, \"Track\".rating, \"Track\".count, \"Track\".album_id, \"Track\".genre_id \n",
      "FROM \"Track\" JOIN \"Album\" ON \"Album\".id = \"Track\".album_id \n",
      "WHERE \"Album\".id = ?\n",
      "2018-07-10 16:26:27,468 INFO sqlalchemy.engine.base.Engine (1,)\n",
      "(1, 'Black Dog', 297, 5, 0, 1, 3)\n",
      "(2, 'Stairway', 482, 5, 0, 1, 2)\n"
     ]
    }
   ],
   "source": [
    "result = conn.execute(track\n",
    "                     .select()\n",
    "                     .select_from(track.join(album))\n",
    "                     .where(album.c.id == 1))\n",
    "\n",
    "for row in result.fetchall():\n",
    "    print(row)"
   ]
  },
  {
   "cell_type": "markdown",
   "metadata": {},
   "source": [
    "### Multiple Join"
   ]
  },
  {
   "cell_type": "code",
   "execution_count": 25,
   "metadata": {},
   "outputs": [
    {
     "name": "stdout",
     "output_type": "stream",
     "text": [
      "\"Track\" JOIN \"Album\" ON \"Album\".id = \"Track\".album_id\n",
      "\"Track\" JOIN \"Album\" ON \"Album\".id = \"Track\".album_id JOIN \"Genre\" ON \"Genre\".id = \"Track\".genre_id\n",
      "\"Track\" JOIN \"Album\" ON \"Album\".id = \"Track\".album_id JOIN \"Genre\" ON \"Genre\".id = \"Track\".genre_id JOIN \"Artist\" ON \"Artist\".id = \"Album\".artist_id\n"
     ]
    }
   ],
   "source": [
    "print(track.join(album))\n",
    "print(track.join(album).join(genre))\n",
    "print(track.join(album).join(genre).join(artist))"
   ]
  },
  {
   "cell_type": "code",
   "execution_count": 26,
   "metadata": {},
   "outputs": [
    {
     "name": "stdout",
     "output_type": "stream",
     "text": [
      "2018-07-10 16:26:32,227 INFO sqlalchemy.engine.base.Engine SELECT \"Track\".title, \"Album\".title, \"Genre\".name, \"Artist\".name \n",
      "FROM \"Track\" JOIN \"Album\" ON \"Album\".id = \"Track\".album_id JOIN \"Genre\" ON \"Genre\".id = \"Track\".genre_id JOIN \"Artist\" ON \"Artist\".id = \"Album\".artist_id\n",
      "2018-07-10 16:26:32,228 INFO sqlalchemy.engine.base.Engine ()\n",
      "('Stairway', 'IV', 'Metal', 'Led Zepplin')\n",
      "('Acout to rock', 'Who Made Who', 'Rock', 'AC/DC')\n",
      "('Who Made Who', 'Who Made Who', 'Metal', 'AC/DC')\n"
     ]
    }
   ],
   "source": [
    "result = conn.execute(select([track.c.title,album.c.title, genre.c.name, artist.c.name])\n",
    "                     .select_from(track.join(album).join(genre).join(artist)))\n",
    "\n",
    "for row in result:\n",
    "    print(row)"
   ]
  },
  {
   "cell_type": "code",
   "execution_count": 27,
   "metadata": {},
   "outputs": [
    {
     "name": "stdout",
     "output_type": "stream",
     "text": [
      "2018-07-10 16:26:36,997 INFO sqlalchemy.engine.base.Engine SELECT \"Track\".title, \"Album\".title, \"Genre\".name, \"Artist\".name \n",
      "FROM \"Track\" JOIN \"Album\" ON \"Album\".id = \"Track\".album_id JOIN \"Genre\" ON \"Genre\".id = \"Track\".genre_id JOIN \"Artist\" ON \"Artist\".id = \"Album\".artist_id \n",
      "WHERE \"Genre\".id = ? AND \"Artist\".id = ?\n",
      "2018-07-10 16:26:36,998 INFO sqlalchemy.engine.base.Engine (1, 1)\n"
     ]
    }
   ],
   "source": [
    "result = conn.execute(select([track.c.title,album.c.title, genre.c.name, artist.c.name])\n",
    "                     .select_from(track.join(album).join(genre).join(artist))\n",
    "                     .where(\n",
    "                         and_(\n",
    "                         genre.c.id == 1,\n",
    "                         artist.c.id == 1)))\n",
    "\n",
    "for row in result:\n",
    "    print(row)"
   ]
  },
  {
   "cell_type": "code",
   "execution_count": 28,
   "metadata": {},
   "outputs": [],
   "source": [
    "conn.close()\n",
    "metadata.clear()"
   ]
  },
  {
   "cell_type": "markdown",
   "metadata": {},
   "source": [
    "### Open/Close"
   ]
  },
  {
   "cell_type": "code",
   "execution_count": 40,
   "metadata": {},
   "outputs": [
    {
     "name": "stdout",
     "output_type": "stream",
     "text": [
      "2018-07-10 16:36:13,585 INFO sqlalchemy.engine.base.Engine SELECT CAST('test plain returns' AS VARCHAR(60)) AS anon_1\n",
      "2018-07-10 16:36:13,585 INFO sqlalchemy.engine.base.Engine ()\n",
      "2018-07-10 16:36:13,587 INFO sqlalchemy.engine.base.Engine SELECT CAST('test unicode returns' AS VARCHAR(60)) AS anon_1\n",
      "2018-07-10 16:36:13,588 INFO sqlalchemy.engine.base.Engine ()\n",
      "2018-07-10 16:36:13,590 INFO sqlalchemy.engine.base.Engine SELECT name FROM sqlite_master WHERE type='table' ORDER BY name\n",
      "2018-07-10 16:36:13,590 INFO sqlalchemy.engine.base.Engine ()\n",
      "2018-07-10 16:36:13,591 INFO sqlalchemy.engine.base.Engine PRAGMA table_info(\"Album\")\n",
      "2018-07-10 16:36:13,592 INFO sqlalchemy.engine.base.Engine ()\n",
      "2018-07-10 16:36:13,593 INFO sqlalchemy.engine.base.Engine SELECT sql FROM  (SELECT * FROM sqlite_master UNION ALL   SELECT * FROM sqlite_temp_master) WHERE name = 'Album' AND type = 'table'\n",
      "2018-07-10 16:36:13,593 INFO sqlalchemy.engine.base.Engine ()\n",
      "2018-07-10 16:36:13,594 INFO sqlalchemy.engine.base.Engine PRAGMA foreign_key_list(\"Album\")\n",
      "2018-07-10 16:36:13,595 INFO sqlalchemy.engine.base.Engine ()\n",
      "2018-07-10 16:36:13,596 INFO sqlalchemy.engine.base.Engine SELECT sql FROM  (SELECT * FROM sqlite_master UNION ALL   SELECT * FROM sqlite_temp_master) WHERE name = 'Album' AND type = 'table'\n",
      "2018-07-10 16:36:13,596 INFO sqlalchemy.engine.base.Engine ()\n",
      "2018-07-10 16:36:13,597 INFO sqlalchemy.engine.base.Engine PRAGMA table_info(\"Artist\")\n",
      "2018-07-10 16:36:13,598 INFO sqlalchemy.engine.base.Engine ()\n",
      "2018-07-10 16:36:13,599 INFO sqlalchemy.engine.base.Engine SELECT sql FROM  (SELECT * FROM sqlite_master UNION ALL   SELECT * FROM sqlite_temp_master) WHERE name = 'Artist' AND type = 'table'\n",
      "2018-07-10 16:36:13,600 INFO sqlalchemy.engine.base.Engine ()\n",
      "2018-07-10 16:36:13,601 INFO sqlalchemy.engine.base.Engine PRAGMA foreign_key_list(\"Artist\")\n",
      "2018-07-10 16:36:13,602 INFO sqlalchemy.engine.base.Engine ()\n",
      "2018-07-10 16:36:13,603 INFO sqlalchemy.engine.base.Engine SELECT sql FROM  (SELECT * FROM sqlite_master UNION ALL   SELECT * FROM sqlite_temp_master) WHERE name = 'Artist' AND type = 'table'\n",
      "2018-07-10 16:36:13,603 INFO sqlalchemy.engine.base.Engine ()\n",
      "2018-07-10 16:36:13,604 INFO sqlalchemy.engine.base.Engine PRAGMA index_list(\"Artist\")\n",
      "2018-07-10 16:36:13,605 INFO sqlalchemy.engine.base.Engine ()\n",
      "2018-07-10 16:36:13,606 INFO sqlalchemy.engine.base.Engine PRAGMA index_list(\"Artist\")\n",
      "2018-07-10 16:36:13,607 INFO sqlalchemy.engine.base.Engine ()\n",
      "2018-07-10 16:36:13,607 INFO sqlalchemy.engine.base.Engine SELECT sql FROM  (SELECT * FROM sqlite_master UNION ALL   SELECT * FROM sqlite_temp_master) WHERE name = 'Artist' AND type = 'table'\n",
      "2018-07-10 16:36:13,608 INFO sqlalchemy.engine.base.Engine ()\n",
      "2018-07-10 16:36:13,609 INFO sqlalchemy.engine.base.Engine PRAGMA index_list(\"Album\")\n",
      "2018-07-10 16:36:13,610 INFO sqlalchemy.engine.base.Engine ()\n",
      "2018-07-10 16:36:13,611 INFO sqlalchemy.engine.base.Engine PRAGMA index_list(\"Album\")\n",
      "2018-07-10 16:36:13,612 INFO sqlalchemy.engine.base.Engine ()\n",
      "2018-07-10 16:36:13,612 INFO sqlalchemy.engine.base.Engine SELECT sql FROM  (SELECT * FROM sqlite_master UNION ALL   SELECT * FROM sqlite_temp_master) WHERE name = 'Album' AND type = 'table'\n",
      "2018-07-10 16:36:13,613 INFO sqlalchemy.engine.base.Engine ()\n",
      "2018-07-10 16:36:13,615 INFO sqlalchemy.engine.base.Engine PRAGMA table_info(\"Genre\")\n",
      "2018-07-10 16:36:13,615 INFO sqlalchemy.engine.base.Engine ()\n",
      "2018-07-10 16:36:13,617 INFO sqlalchemy.engine.base.Engine SELECT sql FROM  (SELECT * FROM sqlite_master UNION ALL   SELECT * FROM sqlite_temp_master) WHERE name = 'Genre' AND type = 'table'\n",
      "2018-07-10 16:36:13,617 INFO sqlalchemy.engine.base.Engine ()\n",
      "2018-07-10 16:36:13,619 INFO sqlalchemy.engine.base.Engine PRAGMA foreign_key_list(\"Genre\")\n",
      "2018-07-10 16:36:13,620 INFO sqlalchemy.engine.base.Engine ()\n",
      "2018-07-10 16:36:13,621 INFO sqlalchemy.engine.base.Engine SELECT sql FROM  (SELECT * FROM sqlite_master UNION ALL   SELECT * FROM sqlite_temp_master) WHERE name = 'Genre' AND type = 'table'\n",
      "2018-07-10 16:36:13,622 INFO sqlalchemy.engine.base.Engine ()\n",
      "2018-07-10 16:36:13,623 INFO sqlalchemy.engine.base.Engine PRAGMA index_list(\"Genre\")\n",
      "2018-07-10 16:36:13,623 INFO sqlalchemy.engine.base.Engine ()\n",
      "2018-07-10 16:36:13,624 INFO sqlalchemy.engine.base.Engine PRAGMA index_list(\"Genre\")\n",
      "2018-07-10 16:36:13,624 INFO sqlalchemy.engine.base.Engine ()\n",
      "2018-07-10 16:36:13,625 INFO sqlalchemy.engine.base.Engine SELECT sql FROM  (SELECT * FROM sqlite_master UNION ALL   SELECT * FROM sqlite_temp_master) WHERE name = 'Genre' AND type = 'table'\n",
      "2018-07-10 16:36:13,626 INFO sqlalchemy.engine.base.Engine ()\n",
      "2018-07-10 16:36:13,627 INFO sqlalchemy.engine.base.Engine PRAGMA table_info(\"Track\")\n",
      "2018-07-10 16:36:13,627 INFO sqlalchemy.engine.base.Engine ()\n",
      "2018-07-10 16:36:13,629 INFO sqlalchemy.engine.base.Engine SELECT sql FROM  (SELECT * FROM sqlite_master UNION ALL   SELECT * FROM sqlite_temp_master) WHERE name = 'Track' AND type = 'table'\n",
      "2018-07-10 16:36:13,629 INFO sqlalchemy.engine.base.Engine ()\n",
      "2018-07-10 16:36:13,630 INFO sqlalchemy.engine.base.Engine PRAGMA foreign_key_list(\"Track\")\n",
      "2018-07-10 16:36:13,631 INFO sqlalchemy.engine.base.Engine ()\n",
      "2018-07-10 16:36:13,632 INFO sqlalchemy.engine.base.Engine SELECT sql FROM  (SELECT * FROM sqlite_master UNION ALL   SELECT * FROM sqlite_temp_master) WHERE name = 'Track' AND type = 'table'\n",
      "2018-07-10 16:36:13,633 INFO sqlalchemy.engine.base.Engine ()\n",
      "2018-07-10 16:36:13,634 INFO sqlalchemy.engine.base.Engine PRAGMA index_list(\"Track\")\n",
      "2018-07-10 16:36:13,634 INFO sqlalchemy.engine.base.Engine ()\n",
      "2018-07-10 16:36:13,635 INFO sqlalchemy.engine.base.Engine PRAGMA index_list(\"Track\")\n",
      "2018-07-10 16:36:13,635 INFO sqlalchemy.engine.base.Engine ()\n",
      "2018-07-10 16:36:13,636 INFO sqlalchemy.engine.base.Engine SELECT sql FROM  (SELECT * FROM sqlite_master UNION ALL   SELECT * FROM sqlite_temp_master) WHERE name = 'Track' AND type = 'table'\n",
      "2018-07-10 16:36:13,636 INFO sqlalchemy.engine.base.Engine ()\n",
      "2018-07-10 16:36:13,638 INFO sqlalchemy.engine.base.Engine SELECT name FROM sqlite_master WHERE type='table' ORDER BY name\n",
      "2018-07-10 16:36:13,639 INFO sqlalchemy.engine.base.Engine ()\n"
     ]
    },
    {
     "name": "stderr",
     "output_type": "stream",
     "text": [
      "/anaconda3/lib/python3.6/site-packages/ipykernel_launcher.py:6: SADeprecationWarning: reflect=True is deprecate; please use the reflect() method.\n",
      "  \n"
     ]
    }
   ],
   "source": [
    "from sqlalchemy import create_engine, MetaData\n",
    "\n",
    "engine = create_engine(\"sqlite:///alchemy_core.db\", echo = True)\n",
    "conn = engine.connect()\n",
    "\n",
    "metadata = MetaData(bind = engine, reflect = True)\n",
    "metadata.reflect(bind = engine)"
   ]
  },
  {
   "cell_type": "code",
   "execution_count": 41,
   "metadata": {},
   "outputs": [
    {
     "name": "stdout",
     "output_type": "stream",
     "text": [
      "Album\n",
      "Artist\n",
      "Genre\n",
      "Track\n"
     ]
    }
   ],
   "source": [
    "for row in metadata.tables:\n",
    "    print(row)\n",
    "    #metadata에는 engine에서 가져온 데이터들이 존재하고 있음 "
   ]
  },
  {
   "cell_type": "code",
   "execution_count": 35,
   "metadata": {},
   "outputs": [],
   "source": [
    "album = metadata.tables[\"Album\"]"
   ]
  },
  {
   "cell_type": "code",
   "execution_count": 36,
   "metadata": {},
   "outputs": [
    {
     "name": "stdout",
     "output_type": "stream",
     "text": [
      "2018-07-10 16:33:10,356 INFO sqlalchemy.engine.base.Engine SELECT \"Album\".id, \"Album\".title, \"Album\".artist_id \n",
      "FROM \"Album\"\n",
      "2018-07-10 16:33:10,357 INFO sqlalchemy.engine.base.Engine ()\n"
     ]
    }
   ],
   "source": [
    "result = conn.execute(album.select())"
   ]
  },
  {
   "cell_type": "code",
   "execution_count": 37,
   "metadata": {},
   "outputs": [
    {
     "name": "stdout",
     "output_type": "stream",
     "text": [
      "(1, 'IV', 1)\n",
      "(2, 'Who Made Who', 2)\n"
     ]
    }
   ],
   "source": [
    "for row in result:\n",
    "    print(row)"
   ]
  },
  {
   "cell_type": "code",
   "execution_count": 38,
   "metadata": {},
   "outputs": [
    {
     "name": "stdout",
     "output_type": "stream",
     "text": [
      "Album\n",
      "Artist\n",
      "Genre\n",
      "Track\n",
      "2018-07-10 16:33:33,593 INFO sqlalchemy.engine.base.Engine SELECT \"Track\".id, \"Track\".title, \"Track\".length, \"Track\".rating, \"Track\".count, \"Track\".album_id, \"Track\".genre_id \n",
      "FROM \"Track\"\n",
      "2018-07-10 16:33:33,594 INFO sqlalchemy.engine.base.Engine ()\n",
      "(1, 'Black Dog', 297, 5, 0, 1, 3)\n",
      "(2, 'Stairway', 482, 5, 0, 1, 2)\n",
      "(3, 'Acout to rock', 313, 5, 0, 2, 1)\n",
      "(4, 'Who Made Who', 297, 5, 0, 2, 2)\n"
     ]
    }
   ],
   "source": [
    "tables = metadata.tables\n",
    "for table in tables:\n",
    "    print(table)\n",
    "    \n",
    "track = metadata.tables[\"Track\"]\n",
    "track \n",
    "\n",
    "for row in conn.execute(track.select()).fetchall():\n",
    "    print(row)\n",
    "\n",
    "conn.close()\n",
    "metadata.clear()"
   ]
  },
  {
   "cell_type": "markdown",
   "metadata": {},
   "source": [
    "# < ORM >\n",
    "- object (class) 와 Database을 mapping"
   ]
  },
  {
   "cell_type": "markdown",
   "metadata": {},
   "source": [
    "## Declare\n",
    "- metadata -> table\n",
    "- base -> class"
   ]
  },
  {
   "cell_type": "markdown",
   "metadata": {},
   "source": [
    "# 0712 실습 과정!\n",
    "1. engine 생성\n",
    "2. base 생성\n",
    "3. relationship import\n",
    "4. 각 class 생성\n",
    "5. metedata를 생성\n",
    "6. 값을 넣고 artist1은 그 row를 가리키는 포인터이다. (artist1 = Artist(name = \"Led Zepplin\"))\n",
    "7. 마찬가지로 album을 향해서 값을 변경할 수 있다.\n",
    "8. 세션을 켜서 engine과 bind를 한다.\n",
    "9. 그 다음에 포인터를 세션에 bind를 해준다.\n",
    "10. commit을 하면 그 값이 DB에 저장된다. "
   ]
  },
  {
   "cell_type": "code",
   "execution_count": 1,
   "metadata": {},
   "outputs": [],
   "source": [
    "from sqlalchemy import create_engine\n",
    "engine = create_engine(\"sqlite:///0712.db\", echo = True)"
   ]
  },
  {
   "cell_type": "code",
   "execution_count": 2,
   "metadata": {},
   "outputs": [],
   "source": [
    "from sqlalchemy.ext.declarative import declarative_base \n",
    "base = declarative_base()"
   ]
  },
  {
   "cell_type": "code",
   "execution_count": 3,
   "metadata": {},
   "outputs": [],
   "source": [
    "from sqlalchemy import Column, Integer, String, ForeignKey"
   ]
  },
  {
   "cell_type": "code",
   "execution_count": 4,
   "metadata": {},
   "outputs": [],
   "source": [
    "from sqlalchemy.orm import relationship"
   ]
  },
  {
   "cell_type": "code",
   "execution_count": 5,
   "metadata": {},
   "outputs": [],
   "source": [
    "class Artist(base):\n",
    "    __tablename__ = 'artist'\n",
    "    id = Column(Integer, primary_key = True)\n",
    "    name = Column(String)\n",
    "    album = relationship(\"Album\", back_populates = \"artist\")"
   ]
  },
  {
   "cell_type": "code",
   "execution_count": 6,
   "metadata": {},
   "outputs": [],
   "source": [
    "class Album(base):\n",
    "    __tablename__ = 'album'\n",
    "    id = Column(Integer, primary_key = True)\n",
    "    title = Column(String)\n",
    "    artist_id = Column(Integer, ForeignKey(\"artist.id\"))\n",
    "    artist = relationship(\"Artist\", back_populates = \"album\")"
   ]
  },
  {
   "cell_type": "code",
   "execution_count": 7,
   "metadata": {},
   "outputs": [],
   "source": [
    "class Genre(base):\n",
    "    __tablename__ = 'genre'\n",
    "    id = Column(Integer, primary_key = True)\n",
    "    name = Column(String)\n",
    "\n",
    "class Track(base):\n",
    "    __tablename__ = 'track'\n",
    "    id = Column(Integer, primary_key = True)\n",
    "    title = Column(String)\n",
    "    album_id = Column(Integer, ForeignKey(\"album.id\"))\n",
    "    genre_id = Column(Integer, ForeignKey(\"genre.id\"))"
   ]
  },
  {
   "cell_type": "code",
   "execution_count": 8,
   "metadata": {},
   "outputs": [
    {
     "name": "stdout",
     "output_type": "stream",
     "text": [
      "2018-07-12 10:55:26,738 INFO sqlalchemy.engine.base.Engine SELECT CAST('test plain returns' AS VARCHAR(60)) AS anon_1\n",
      "2018-07-12 10:55:26,739 INFO sqlalchemy.engine.base.Engine ()\n",
      "2018-07-12 10:55:26,741 INFO sqlalchemy.engine.base.Engine SELECT CAST('test unicode returns' AS VARCHAR(60)) AS anon_1\n",
      "2018-07-12 10:55:26,742 INFO sqlalchemy.engine.base.Engine ()\n",
      "2018-07-12 10:55:26,743 INFO sqlalchemy.engine.base.Engine PRAGMA table_info(\"artist\")\n",
      "2018-07-12 10:55:26,744 INFO sqlalchemy.engine.base.Engine ()\n",
      "2018-07-12 10:55:26,746 INFO sqlalchemy.engine.base.Engine PRAGMA table_info(\"album\")\n",
      "2018-07-12 10:55:26,746 INFO sqlalchemy.engine.base.Engine ()\n",
      "2018-07-12 10:55:26,747 INFO sqlalchemy.engine.base.Engine PRAGMA table_info(\"genre\")\n",
      "2018-07-12 10:55:26,748 INFO sqlalchemy.engine.base.Engine ()\n",
      "2018-07-12 10:55:26,749 INFO sqlalchemy.engine.base.Engine PRAGMA table_info(\"track\")\n",
      "2018-07-12 10:55:26,749 INFO sqlalchemy.engine.base.Engine ()\n"
     ]
    }
   ],
   "source": [
    "base.metadata.create_all(engine)"
   ]
  },
  {
   "cell_type": "code",
   "execution_count": 9,
   "metadata": {},
   "outputs": [],
   "source": [
    "artist1 = Artist(name = 'Led Zepplin')\n",
    "artist2 = Artist(name = 'AC/DC')"
   ]
  },
  {
   "cell_type": "code",
   "execution_count": 10,
   "metadata": {
    "scrolled": false
   },
   "outputs": [
    {
     "data": {
      "text/plain": [
       "<__main__.Artist at 0x10410ef60>"
      ]
     },
     "execution_count": 10,
     "metadata": {},
     "output_type": "execute_result"
    }
   ],
   "source": [
    "artist1 #self 어쩌구를 넣으면 값을 나오도록 만들 수 있다. "
   ]
  },
  {
   "cell_type": "code",
   "execution_count": 11,
   "metadata": {},
   "outputs": [],
   "source": [
    "artist1.album = [Album(title = \"IV\"), Album(title = \"Who made Who\")]\n",
    "#commit해서 DB알려주기 전까지는 그냥 engine으로 하는 것 "
   ]
  },
  {
   "cell_type": "code",
   "execution_count": 12,
   "metadata": {},
   "outputs": [],
   "source": [
    "from sqlalchemy.orm import sessionmaker"
   ]
  },
  {
   "cell_type": "code",
   "execution_count": 13,
   "metadata": {},
   "outputs": [],
   "source": [
    "Session = sessionmaker(bind = engine)"
   ]
  },
  {
   "cell_type": "code",
   "execution_count": 15,
   "metadata": {},
   "outputs": [],
   "source": [
    "session = Session()"
   ]
  },
  {
   "cell_type": "code",
   "execution_count": 17,
   "metadata": {},
   "outputs": [
    {
     "name": "stdout",
     "output_type": "stream",
     "text": [
      "2018-07-12 10:56:18,380 INFO sqlalchemy.engine.base.Engine UPDATE album SET title=? WHERE album.id = ?\n",
      "2018-07-12 10:56:18,381 INFO sqlalchemy.engine.base.Engine ('test', 1)\n",
      "2018-07-12 10:56:18,383 INFO sqlalchemy.engine.base.Engine COMMIT\n"
     ]
    }
   ],
   "source": [
    "session.add(artist1) #bind후 \n",
    "session.commit() #DB에 저장 "
   ]
  },
  {
   "cell_type": "code",
   "execution_count": 18,
   "metadata": {},
   "outputs": [
    {
     "name": "stdout",
     "output_type": "stream",
     "text": [
      "2018-07-12 10:56:26,259 INFO sqlalchemy.engine.base.Engine BEGIN (implicit)\n",
      "2018-07-12 10:56:26,260 INFO sqlalchemy.engine.base.Engine SELECT artist.id AS artist_id, artist.name AS artist_name \n",
      "FROM artist \n",
      "WHERE artist.id = ?\n",
      "2018-07-12 10:56:26,261 INFO sqlalchemy.engine.base.Engine (1,)\n",
      "2018-07-12 10:56:26,263 INFO sqlalchemy.engine.base.Engine SELECT album.id AS album_id, album.title AS album_title, album.artist_id AS album_artist_id \n",
      "FROM album \n",
      "WHERE ? = album.artist_id\n",
      "2018-07-12 10:56:26,263 INFO sqlalchemy.engine.base.Engine (1,)\n",
      "1 Led Zepplin 1\n"
     ]
    }
   ],
   "source": [
    "print(artist1.id, artist1.name, artist1.album[0].id)\n",
    "#artist1.album은 리스트 형태\n",
    "artist1.album[0].title = \"test\" #이렇게 변경이 가능하다. "
   ]
  },
  {
   "cell_type": "code",
   "execution_count": 20,
   "metadata": {},
   "outputs": [],
   "source": [
    "session.add_all([artist1, artist2])"
   ]
  },
  {
   "cell_type": "code",
   "execution_count": 21,
   "metadata": {},
   "outputs": [
    {
     "name": "stdout",
     "output_type": "stream",
     "text": [
      "2018-07-10 17:21:11,696 INFO sqlalchemy.engine.base.Engine BEGIN (implicit)\n",
      "2018-07-10 17:21:11,698 INFO sqlalchemy.engine.base.Engine INSERT INTO artist (name, fullname, passwd) VALUES (?, ?, ?)\n",
      "2018-07-10 17:21:11,698 INFO sqlalchemy.engine.base.Engine ('Led Zepplin', None, None)\n",
      "2018-07-10 17:21:11,699 INFO sqlalchemy.engine.base.Engine INSERT INTO artist (name, fullname, passwd) VALUES (?, ?, ?)\n",
      "2018-07-10 17:21:11,700 INFO sqlalchemy.engine.base.Engine ('AC/DC', None, None)\n",
      "2018-07-10 17:21:11,701 INFO sqlalchemy.engine.base.Engine COMMIT\n"
     ]
    }
   ],
   "source": [
    "session.commit()"
   ]
  },
  {
   "cell_type": "markdown",
   "metadata": {},
   "source": [
    "## dirty"
   ]
  },
  {
   "cell_type": "code",
   "execution_count": 22,
   "metadata": {},
   "outputs": [
    {
     "data": {
      "text/plain": [
       "IdentitySet([])"
      ]
     },
     "execution_count": 22,
     "metadata": {},
     "output_type": "execute_result"
    }
   ],
   "source": [
    "session.dirty #instance변경 사항에 대한 내용을 알려준다. "
   ]
  },
  {
   "cell_type": "markdown",
   "metadata": {},
   "source": [
    "- 아직 메모리에 존재하고 DB에는 존재하지 않은 상"
   ]
  },
  {
   "cell_type": "code",
   "execution_count": 23,
   "metadata": {},
   "outputs": [
    {
     "data": {
      "text/plain": [
       "IdentitySet([])"
      ]
     },
     "execution_count": 23,
     "metadata": {},
     "output_type": "execute_result"
    }
   ],
   "source": [
    "session.new"
   ]
  },
  {
   "cell_type": "code",
   "execution_count": 24,
   "metadata": {},
   "outputs": [],
   "source": [
    "artist1.name = 'xyz'"
   ]
  },
  {
   "cell_type": "code",
   "execution_count": 25,
   "metadata": {},
   "outputs": [
    {
     "name": "stdout",
     "output_type": "stream",
     "text": [
      "2018-07-10 17:23:37,036 INFO sqlalchemy.engine.base.Engine BEGIN (implicit)\n",
      "2018-07-10 17:23:37,038 INFO sqlalchemy.engine.base.Engine SELECT artist.passwd AS artist_passwd, artist.id AS artist_id, artist.fullname AS artist_fullname \n",
      "FROM artist \n",
      "WHERE artist.id = ?\n",
      "2018-07-10 17:23:37,038 INFO sqlalchemy.engine.base.Engine (1,)\n"
     ]
    },
    {
     "data": {
      "text/plain": [
       "IdentitySet([<T'User(name = 'xyz', fullname= 'None', password= 'None')>])"
      ]
     },
     "execution_count": 25,
     "metadata": {},
     "output_type": "execute_result"
    }
   ],
   "source": [
    "session.dirty"
   ]
  },
  {
   "cell_type": "code",
   "execution_count": 26,
   "metadata": {},
   "outputs": [
    {
     "name": "stdout",
     "output_type": "stream",
     "text": [
      "2018-07-10 17:24:07,998 INFO sqlalchemy.engine.base.Engine UPDATE artist SET name=? WHERE artist.id = ?\n",
      "2018-07-10 17:24:07,999 INFO sqlalchemy.engine.base.Engine ('xyz', 1)\n",
      "2018-07-10 17:24:08,001 INFO sqlalchemy.engine.base.Engine COMMIT\n"
     ]
    }
   ],
   "source": [
    "session.commit()"
   ]
  },
  {
   "cell_type": "code",
   "execution_count": 27,
   "metadata": {},
   "outputs": [
    {
     "data": {
      "text/plain": [
       "IdentitySet([])"
      ]
     },
     "execution_count": 27,
     "metadata": {},
     "output_type": "execute_result"
    }
   ],
   "source": [
    "session.dirty #commit을 하고나면 변경된 내용이 없어지게 된다. "
   ]
  },
  {
   "cell_type": "code",
   "execution_count": 30,
   "metadata": {},
   "outputs": [],
   "source": [
    "session.add_all([\n",
    "    Album(title = '1', artist_id = 1),\n",
    "    Album(title = '2', artist_id = 2)\n",
    "])"
   ]
  },
  {
   "cell_type": "code",
   "execution_count": 31,
   "metadata": {},
   "outputs": [
    {
     "data": {
      "text/plain": [
       "IdentitySet([<__main__.Album object at 0x10bf562e8>, <__main__.Album object at 0x10bf56358>])"
      ]
     },
     "execution_count": 31,
     "metadata": {},
     "output_type": "execute_result"
    }
   ],
   "source": [
    "session.new"
   ]
  },
  {
   "cell_type": "markdown",
   "metadata": {},
   "source": [
    "### commit\n",
    "- DB에 저장"
   ]
  },
  {
   "cell_type": "code",
   "execution_count": 33,
   "metadata": {},
   "outputs": [
    {
     "name": "stdout",
     "output_type": "stream",
     "text": [
      "2018-07-10 17:26:21,727 INFO sqlalchemy.engine.base.Engine BEGIN (implicit)\n",
      "2018-07-10 17:26:21,729 INFO sqlalchemy.engine.base.Engine INSERT INTO album (title, artist_id) VALUES (?, ?)\n",
      "2018-07-10 17:26:21,729 INFO sqlalchemy.engine.base.Engine ('1', 1)\n",
      "2018-07-10 17:26:21,731 INFO sqlalchemy.engine.base.Engine INSERT INTO album (title, artist_id) VALUES (?, ?)\n",
      "2018-07-10 17:26:21,732 INFO sqlalchemy.engine.base.Engine ('2', 2)\n",
      "2018-07-10 17:26:21,733 INFO sqlalchemy.engine.base.Engine COMMIT\n"
     ]
    }
   ],
   "source": [
    "session.commit()"
   ]
  },
  {
   "cell_type": "code",
   "execution_count": 34,
   "metadata": {},
   "outputs": [],
   "source": [
    "session.add_all([\n",
    "    Genre(name = \"Rock\"),\n",
    "    Genre(name = \"Metal\")\n",
    "])"
   ]
  },
  {
   "cell_type": "code",
   "execution_count": 35,
   "metadata": {},
   "outputs": [],
   "source": [
    "session.add_all([\n",
    "    Track(title = '1-1', album_id = 1, genre_id = 1),\n",
    "    Track(title = '1-2', album_id = 1, genre_id = 2),\n",
    "    Track(title = '2-1', album_id = 2, genre_id = 1),\n",
    "    Track(title = '2-2', album_id = 2, genre_id = 2)\n",
    "])"
   ]
  },
  {
   "cell_type": "code",
   "execution_count": 36,
   "metadata": {},
   "outputs": [
    {
     "data": {
      "text/plain": [
       "IdentitySet([<__main__.Genre object at 0x10bf56a90>, <__main__.Genre object at 0x10bf56c18>, <__main__.Track object at 0x10bf60320>, <__main__.Track object at 0x10bf60390>, <__main__.Track object at 0x10bf60400>, <__main__.Track object at 0x10bf60470>])"
      ]
     },
     "execution_count": 36,
     "metadata": {},
     "output_type": "execute_result"
    }
   ],
   "source": [
    "session.new"
   ]
  },
  {
   "cell_type": "code",
   "execution_count": 37,
   "metadata": {},
   "outputs": [
    {
     "name": "stdout",
     "output_type": "stream",
     "text": [
      "2018-07-10 17:28:24,423 INFO sqlalchemy.engine.base.Engine BEGIN (implicit)\n",
      "2018-07-10 17:28:24,425 INFO sqlalchemy.engine.base.Engine INSERT INTO track (title, album_id, genre_id) VALUES (?, ?, ?)\n",
      "2018-07-10 17:28:24,426 INFO sqlalchemy.engine.base.Engine ('1-1', 1, 1)\n",
      "2018-07-10 17:28:24,427 INFO sqlalchemy.engine.base.Engine INSERT INTO track (title, album_id, genre_id) VALUES (?, ?, ?)\n",
      "2018-07-10 17:28:24,428 INFO sqlalchemy.engine.base.Engine ('1-2', 1, 2)\n",
      "2018-07-10 17:28:24,428 INFO sqlalchemy.engine.base.Engine INSERT INTO track (title, album_id, genre_id) VALUES (?, ?, ?)\n",
      "2018-07-10 17:28:24,429 INFO sqlalchemy.engine.base.Engine ('2-1', 2, 1)\n",
      "2018-07-10 17:28:24,430 INFO sqlalchemy.engine.base.Engine INSERT INTO track (title, album_id, genre_id) VALUES (?, ?, ?)\n",
      "2018-07-10 17:28:24,430 INFO sqlalchemy.engine.base.Engine ('2-2', 2, 2)\n",
      "2018-07-10 17:28:24,431 INFO sqlalchemy.engine.base.Engine INSERT INTO genre (name) VALUES (?)\n",
      "2018-07-10 17:28:24,432 INFO sqlalchemy.engine.base.Engine ('Rock',)\n",
      "2018-07-10 17:28:24,433 INFO sqlalchemy.engine.base.Engine INSERT INTO genre (name) VALUES (?)\n",
      "2018-07-10 17:28:24,433 INFO sqlalchemy.engine.base.Engine ('Metal',)\n",
      "2018-07-10 17:28:24,434 INFO sqlalchemy.engine.base.Engine COMMIT\n"
     ]
    }
   ],
   "source": [
    "session.commit()"
   ]
  },
  {
   "cell_type": "code",
   "execution_count": 38,
   "metadata": {},
   "outputs": [],
   "source": [
    "temp = Track(title = '3-1', album_id = 3, genre_id = 3)"
   ]
  },
  {
   "cell_type": "code",
   "execution_count": 40,
   "metadata": {},
   "outputs": [
    {
     "name": "stdout",
     "output_type": "stream",
     "text": [
      "None\n"
     ]
    }
   ],
   "source": [
    "print(temp.id)"
   ]
  },
  {
   "cell_type": "code",
   "execution_count": 41,
   "metadata": {},
   "outputs": [],
   "source": [
    "session.add(temp)"
   ]
  },
  {
   "cell_type": "code",
   "execution_count": 42,
   "metadata": {},
   "outputs": [
    {
     "data": {
      "text/plain": [
       "IdentitySet([<__main__.Track object at 0x10bf56f60>])"
      ]
     },
     "execution_count": 42,
     "metadata": {},
     "output_type": "execute_result"
    }
   ],
   "source": [
    "session.new #database에 기록이 안 된 상태"
   ]
  },
  {
   "cell_type": "code",
   "execution_count": 43,
   "metadata": {},
   "outputs": [
    {
     "name": "stdout",
     "output_type": "stream",
     "text": [
      "2018-07-10 17:31:24,261 INFO sqlalchemy.engine.base.Engine BEGIN (implicit)\n",
      "2018-07-10 17:31:24,262 INFO sqlalchemy.engine.base.Engine INSERT INTO track (title, album_id, genre_id) VALUES (?, ?, ?)\n",
      "2018-07-10 17:31:24,263 INFO sqlalchemy.engine.base.Engine ('3-1', 3, 3)\n",
      "2018-07-10 17:31:24,264 INFO sqlalchemy.engine.base.Engine COMMIT\n"
     ]
    }
   ],
   "source": [
    "session.commit()"
   ]
  },
  {
   "cell_type": "code",
   "execution_count": 44,
   "metadata": {},
   "outputs": [
    {
     "name": "stdout",
     "output_type": "stream",
     "text": [
      "2018-07-10 17:31:34,652 INFO sqlalchemy.engine.base.Engine BEGIN (implicit)\n",
      "2018-07-10 17:31:34,654 INFO sqlalchemy.engine.base.Engine SELECT track.id AS track_id, track.title AS track_title, track.album_id AS track_album_id, track.genre_id AS track_genre_id \n",
      "FROM track \n",
      "WHERE track.id = ?\n",
      "2018-07-10 17:31:34,655 INFO sqlalchemy.engine.base.Engine (5,)\n",
      "5\n"
     ]
    }
   ],
   "source": [
    "print(temp.id) #쉽게 데이터를 가져올 수 있는 것이다. "
   ]
  },
  {
   "cell_type": "code",
   "execution_count": 46,
   "metadata": {},
   "outputs": [
    {
     "name": "stdout",
     "output_type": "stream",
     "text": [
      "2018-07-10 17:33:28,206 INFO sqlalchemy.engine.base.Engine SELECT artist.passwd AS artist_passwd, artist.id AS artist_id, artist.name AS artist_name, artist.fullname AS artist_fullname \n",
      "FROM artist\n",
      "2018-07-10 17:33:28,206 INFO sqlalchemy.engine.base.Engine ()\n",
      "<T'User(name = 'xyz', fullname= 'None', password= 'None')>\n",
      "<T'User(name = 'AC/DC', fullname= 'None', password= 'None')>\n"
     ]
    }
   ],
   "source": [
    "for row in session.query(Artist):\n",
    "    print(row)"
   ]
  },
  {
   "cell_type": "code",
   "execution_count": 47,
   "metadata": {},
   "outputs": [
    {
     "name": "stdout",
     "output_type": "stream",
     "text": [
      "2018-07-10 17:33:46,614 INFO sqlalchemy.engine.base.Engine SELECT artist.passwd AS artist_passwd, artist.id AS artist_id, artist.name AS artist_name, artist.fullname AS artist_fullname \n",
      "FROM artist\n",
      "2018-07-10 17:33:46,615 INFO sqlalchemy.engine.base.Engine ()\n",
      "xyz\n",
      "AC/DC\n"
     ]
    }
   ],
   "source": [
    "for row in session.query(Artist):\n",
    "    print(row.name)"
   ]
  },
  {
   "cell_type": "code",
   "execution_count": 49,
   "metadata": {},
   "outputs": [
    {
     "name": "stdout",
     "output_type": "stream",
     "text": [
      "2018-07-10 17:35:35,736 INFO sqlalchemy.engine.base.Engine SELECT artist.passwd AS artist_passwd, artist.id AS artist_id, artist.name AS artist_name, artist.fullname AS artist_fullname \n",
      "FROM artist \n",
      "WHERE artist.id = ?\n",
      "2018-07-10 17:35:35,737 INFO sqlalchemy.engine.base.Engine (1,)\n",
      "xyz\n"
     ]
    }
   ],
   "source": [
    "for row in session.query(Artist).filter(Artist.id == 1):\n",
    "    print(row.name)"
   ]
  },
  {
   "cell_type": "code",
   "execution_count": null,
   "metadata": {},
   "outputs": [],
   "source": []
  }
 ],
 "metadata": {
  "kernelspec": {
   "display_name": "Python 3",
   "language": "python",
   "name": "python3"
  },
  "language_info": {
   "codemirror_mode": {
    "name": "ipython",
    "version": 3
   },
   "file_extension": ".py",
   "mimetype": "text/x-python",
   "name": "python",
   "nbconvert_exporter": "python",
   "pygments_lexer": "ipython3",
   "version": "3.6.5"
  }
 },
 "nbformat": 4,
 "nbformat_minor": 2
}
