{
 "cells": [
  {
   "cell_type": "code",
   "execution_count": 1,
   "metadata": {},
   "outputs": [],
   "source": [
    "import requests\n",
    "from bs4 import BeautifulSoup"
   ]
  },
  {
   "cell_type": "code",
   "execution_count": 2,
   "metadata": {},
   "outputs": [],
   "source": [
    "def getURL(url):\n",
    "    html = requests.get(url) \n",
    "    dom = BeautifulSoup(html.text,\"lxml\")\n",
    "    #links = dom.find_all() #css selector는 구글에서만 실행\n",
    "    return dom"
   ]
  },
  {
   "cell_type": "code",
   "execution_count": 3,
   "metadata": {},
   "outputs": [],
   "source": [
    "url = \"http://openapi.airkorea.or.kr/openapi/services/rest/ArpltnInforInqireSvc/getMsrstnAcctoRltmMesureDnsty?serviceKey=0xfE7KsqCRvly8WqAN7j%2BP3UOwr1c2n%2BO4R3yKGwmOHzgCJ7LccKci0zdNmZbQUQbt3edT3CKrl4%2BG83Xhx25A%3D%3D&numOfRows=10&pageSize=10&pageNo=1&startPage=1&stationName=%EC%A2%85%EB%A1%9C%EA%B5%AC&dataTerm=DAILY&ver=1.3\""
   ]
  },
  {
   "cell_type": "code",
   "execution_count": 4,
   "metadata": {},
   "outputs": [],
   "source": [
    "dom = getURL(url)"
   ]
  },
  {
   "cell_type": "code",
   "execution_count": 5,
   "metadata": {
    "scrolled": true
   },
   "outputs": [
    {
     "data": {
      "text/plain": [
       "bs4.BeautifulSoup"
      ]
     },
     "execution_count": 5,
     "metadata": {},
     "output_type": "execute_result"
    }
   ],
   "source": [
    "type(dom)"
   ]
  },
  {
   "cell_type": "code",
   "execution_count": 6,
   "metadata": {},
   "outputs": [
    {
     "name": "stdout",
     "output_type": "stream",
     "text": [
      "[1, '2018-07-17', '24:00', '도시대기', '0.004', '0.2', '0.002', '0.023', '27', '30', '25', '27', '79', '2', '1', '1', '1', '1', '1', '2', '1', '2']\n",
      "[2, '2018-07-17', '23:00', '도시대기', '0.005', '0.3', '0.002', '0.024', '28', '31', '28', '28', '82', '2', '1', '1', '1', '1', '2', '2', '1', '2']\n",
      "[3, '2018-07-17', '22:00', '도시대기', '0.006', '0.2', '0.003', '0.024', '25', '31', '23', '27', '79', '2', '1', '1', '1', '1', '2', '2', '1', '2']\n",
      "[4, '2018-07-17', '21:00', '도시대기', '0.005', '0.3', '0.006', '0.024', '-', '31', '30', '27', '79', '2', '1', '1', '1', '1', '2', '2', '-', 2]\n",
      "[5, '2018-07-17', '20:00', '도시대기', '0.004', '0.4', '0.013', '0.024', '28', '32', '27', '27', '79', '2', '1', '1', '1', '1', '2', '2', '1', '2']\n",
      "[6, '2018-07-17', '19:00', '도시대기', '0.004', '0.3', '0.020', '0.017', '27', '34', '22', '27', '79', '2', '1', '1', '1', '1', '2', '2', '1', '2']\n",
      "[7, '2018-07-17', '18:00', '도시대기', '0.004', '0.3', '0.019', '0.014', '27', '35', '25', '28', '82', '2', '1', '1', '1', '1', '2', '2', '1', '2']\n",
      "[8, '2018-07-17', '17:00', '도시대기', '0.006', '0.2', '0.020', '0.014', '37', '37', '34', '28', '82', '2', '1', '1', '1', '1', '2', '2', '2', '2']\n",
      "[9, '2018-07-17', '16:00', '도시대기', '0.008', '0.3', '0.028', '0.017', '38', '37', '36', '27', '79', '2', '1', '1', '1', '1', '2', '2', '2', '3']\n",
      "[10, '2018-07-17', '15:00', '도시대기', '0.008', '0.3', '0.036', '0.019', '42', '36', '37', '26', '77', '2', '1', '1', '2', '1', '2', '2', '2', '3']\n"
     ]
    }
   ],
   "source": [
    "id = 0\n",
    "for i in dom.find_all(\"item\"):\n",
    "    id += 1\n",
    "    data = i.text.split()\n",
    "    data.insert(0, id)\n",
    "    if len(data) == 21:\n",
    "        data[20] = \"-\"\n",
    "        data.insert(21,2)\n",
    "    print(data)"
   ]
  },
  {
   "cell_type": "code",
   "execution_count": 7,
   "metadata": {},
   "outputs": [],
   "source": [
    "import sqlite3"
   ]
  },
  {
   "cell_type": "code",
   "execution_count": 8,
   "metadata": {},
   "outputs": [],
   "source": [
    "conn = sqlite3.connect(\"test.db\")"
   ]
  },
  {
   "cell_type": "code",
   "execution_count": 9,
   "metadata": {},
   "outputs": [],
   "source": [
    "cur = conn.cursor()"
   ]
  },
  {
   "cell_type": "code",
   "execution_count": 10,
   "metadata": {},
   "outputs": [
    {
     "data": {
      "text/plain": [
       "<sqlite3.Cursor at 0x110c09880>"
      ]
     },
     "execution_count": 10,
     "metadata": {},
     "output_type": "execute_result"
    }
   ],
   "source": [
    "cur.executescript(\n",
    "\"\"\"\n",
    "    create table cityAir(\n",
    "        id int ptimary key, \n",
    "        date text,\n",
    "        time text,\n",
    "        mangname text,\n",
    "        so2value int, \n",
    "        covalue int, \n",
    "        o3value int, \n",
    "        no2value int, \n",
    "        pm10value int, \n",
    "        pm10value24 int, \n",
    "        pm25value int, \n",
    "        pm25value24 int, \n",
    "        khaivalue int, \n",
    "        khaigrade int, \n",
    "        so2grade int, \n",
    "        cograde int, \n",
    "        o3grade int, \n",
    "        no2grade int, \n",
    "        pm10grade int, \n",
    "        pm25grade int, \n",
    "        pm10grade1h int,  \n",
    "        pm25grade1h int\n",
    "    );\n",
    "\"\"\") "
   ]
  },
  {
   "cell_type": "code",
   "execution_count": 11,
   "metadata": {},
   "outputs": [],
   "source": [
    "id = 0\n",
    "for i in dom.find_all(\"item\"):\n",
    "    id += 1\n",
    "    data = i.text.split()\n",
    "    data.insert(0, id)\n",
    "    if len(data) == 21:\n",
    "        data[20] = \"-\"\n",
    "        data.insert(21,2)\n",
    "    conn.execute(\"insert into cityAir (id, date, time, mangname, so2value, covalue, o3value, no2value, pm10value, pm10value24, pm25value, pm25value24, khaivalue, khaigrade, so2grade, cograde, o3grade, no2grade, pm10grade, pm25grade, pm10grade1h, pm25grade1h) values(?, ?, ?, ?, ?, ?, ?, ?, ?, ?, ?, ?, ?, ?, ?, ?, ?, ?, ?, ?, ?, ?)\",data)   "
   ]
  },
  {
   "cell_type": "code",
   "execution_count": 14,
   "metadata": {
    "scrolled": false
   },
   "outputs": [
    {
     "data": {
      "text/plain": [
       "<sqlite3.Cursor at 0x110c09880>"
      ]
     },
     "execution_count": 14,
     "metadata": {},
     "output_type": "execute_result"
    }
   ],
   "source": [
    "cur.execute(\"select * from cityAir\") #named style"
   ]
  },
  {
   "cell_type": "code",
   "execution_count": 12,
   "metadata": {},
   "outputs": [],
   "source": [
    "conn.commit()"
   ]
  },
  {
   "cell_type": "code",
   "execution_count": 15,
   "metadata": {
    "scrolled": false
   },
   "outputs": [
    {
     "name": "stdout",
     "output_type": "stream",
     "text": [
      "[(1, '2018-07-17', '24:00', '도시대기', 0.004, 0.2, 0.002, 0.023, 27, 30, 25, 27, 79, 2, 1, 1, 1, 1, 1, 2, 1, 2), (2, '2018-07-17', '23:00', '도시대기', 0.005, 0.3, 0.002, 0.024, 28, 31, 28, 28, 82, 2, 1, 1, 1, 1, 2, 2, 1, 2), (3, '2018-07-17', '22:00', '도시대기', 0.006, 0.2, 0.003, 0.024, 25, 31, 23, 27, 79, 2, 1, 1, 1, 1, 2, 2, 1, 2), (4, '2018-07-17', '21:00', '도시대기', 0.005, 0.3, 0.006, 0.024, '-', 31, 30, 27, 79, 2, 1, 1, 1, 1, 2, 2, '-', 2), (5, '2018-07-17', '20:00', '도시대기', 0.004, 0.4, 0.013, 0.024, 28, 32, 27, 27, 79, 2, 1, 1, 1, 1, 2, 2, 1, 2), (6, '2018-07-17', '19:00', '도시대기', 0.004, 0.3, 0.02, 0.017, 27, 34, 22, 27, 79, 2, 1, 1, 1, 1, 2, 2, 1, 2), (7, '2018-07-17', '18:00', '도시대기', 0.004, 0.3, 0.019, 0.014, 27, 35, 25, 28, 82, 2, 1, 1, 1, 1, 2, 2, 1, 2), (8, '2018-07-17', '17:00', '도시대기', 0.006, 0.2, 0.02, 0.014, 37, 37, 34, 28, 82, 2, 1, 1, 1, 1, 2, 2, 2, 2), (9, '2018-07-17', '16:00', '도시대기', 0.008, 0.3, 0.028, 0.017, 38, 37, 36, 27, 79, 2, 1, 1, 1, 1, 2, 2, 2, 3), (10, '2018-07-17', '15:00', '도시대기', 0.008, 0.3, 0.036, 0.019, 42, 36, 37, 26, 77, 2, 1, 1, 2, 1, 2, 2, 2, 3)]\n"
     ]
    }
   ],
   "source": [
    "print(cur.fetchall())"
   ]
  },
  {
   "cell_type": "code",
   "execution_count": null,
   "metadata": {},
   "outputs": [],
   "source": []
  }
 ],
 "metadata": {
  "kernelspec": {
   "display_name": "Python 3",
   "language": "python",
   "name": "python3"
  },
  "language_info": {
   "codemirror_mode": {
    "name": "ipython",
    "version": 3
   },
   "file_extension": ".py",
   "mimetype": "text/x-python",
   "name": "python",
   "nbconvert_exporter": "python",
   "pygments_lexer": "ipython3",
   "version": "3.6.5"
  }
 },
 "nbformat": 4,
 "nbformat_minor": 2
}
