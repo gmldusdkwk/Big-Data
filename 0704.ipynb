{
 "cells": [
  {
   "cell_type": "markdown",
   "metadata": {},
   "source": [
    "# Exercise 61: Average"
   ]
  },
  {
   "cell_type": "code",
   "execution_count": 16,
   "metadata": {},
   "outputs": [],
   "source": [
    "def Average():\n",
    "    flag = True\n",
    "    ans = 0\n",
    "    i = 0\n",
    "    while(flag):\n",
    "        a = int(input())\n",
    "        i += 1\n",
    "        if(a == 0):\n",
    "            break\n",
    "        ans += a\n",
    "    ans = ans/i\n",
    "    print(ans)"
   ]
  },
  {
   "cell_type": "code",
   "execution_count": 17,
   "metadata": {},
   "outputs": [
    {
     "name": "stdout",
     "output_type": "stream",
     "text": [
      "1\n",
      "2\n",
      "3\n",
      "0\n",
      "1.5\n"
     ]
    }
   ],
   "source": [
    "Average()"
   ]
  },
  {
   "cell_type": "markdown",
   "metadata": {},
   "source": [
    "# Exercise 63: Temperature Conversion Table"
   ]
  },
  {
   "cell_type": "code",
   "execution_count": 129,
   "metadata": {},
   "outputs": [],
   "source": [
    "def Conversion():\n",
    "    for i in range(101):\n",
    "        print(i,end=\" \")\n",
    "        print(i*9/5 + 32)\n",
    "        i += 10"
   ]
  },
  {
   "cell_type": "code",
   "execution_count": 130,
   "metadata": {},
   "outputs": [
    {
     "name": "stdout",
     "output_type": "stream",
     "text": [
      "0 32.0\n",
      "1 33.8\n",
      "2 35.6\n",
      "3 37.4\n",
      "4 39.2\n",
      "5 41.0\n",
      "6 42.8\n",
      "7 44.6\n",
      "8 46.4\n",
      "9 48.2\n",
      "10 50.0\n",
      "11 51.8\n",
      "12 53.6\n",
      "13 55.4\n",
      "14 57.2\n",
      "15 59.0\n",
      "16 60.8\n",
      "17 62.6\n",
      "18 64.4\n",
      "19 66.2\n",
      "20 68.0\n",
      "21 69.8\n",
      "22 71.6\n",
      "23 73.4\n",
      "24 75.2\n",
      "25 77.0\n",
      "26 78.8\n",
      "27 80.6\n",
      "28 82.4\n",
      "29 84.2\n",
      "30 86.0\n",
      "31 87.8\n",
      "32 89.6\n",
      "33 91.4\n",
      "34 93.2\n",
      "35 95.0\n",
      "36 96.8\n",
      "37 98.6\n",
      "38 100.4\n",
      "39 102.2\n",
      "40 104.0\n",
      "41 105.8\n",
      "42 107.6\n",
      "43 109.4\n",
      "44 111.2\n",
      "45 113.0\n",
      "46 114.8\n",
      "47 116.6\n",
      "48 118.4\n",
      "49 120.2\n",
      "50 122.0\n",
      "51 123.8\n",
      "52 125.6\n",
      "53 127.4\n",
      "54 129.2\n",
      "55 131.0\n",
      "56 132.8\n",
      "57 134.6\n",
      "58 136.4\n",
      "59 138.2\n",
      "60 140.0\n",
      "61 141.8\n",
      "62 143.6\n",
      "63 145.4\n",
      "64 147.2\n",
      "65 149.0\n",
      "66 150.8\n",
      "67 152.6\n",
      "68 154.4\n",
      "69 156.2\n",
      "70 158.0\n",
      "71 159.8\n",
      "72 161.6\n",
      "73 163.4\n",
      "74 165.2\n",
      "75 167.0\n",
      "76 168.8\n",
      "77 170.6\n",
      "78 172.4\n",
      "79 174.2\n",
      "80 176.0\n",
      "81 177.8\n",
      "82 179.6\n",
      "83 181.4\n",
      "84 183.2\n",
      "85 185.0\n",
      "86 186.8\n",
      "87 188.6\n",
      "88 190.4\n",
      "89 192.2\n",
      "90 194.0\n",
      "91 195.8\n",
      "92 197.6\n",
      "93 199.4\n",
      "94 201.2\n",
      "95 203.0\n",
      "96 204.8\n",
      "97 206.6\n",
      "98 208.4\n",
      "99 210.2\n",
      "100 212.0\n"
     ]
    }
   ],
   "source": [
    "Conversion()"
   ]
  },
  {
   "cell_type": "markdown",
   "metadata": {},
   "source": [
    "# Exercise 66: Compute a Grade Point Average"
   ]
  },
  {
   "cell_type": "code",
   "execution_count": 137,
   "metadata": {},
   "outputs": [],
   "source": [
    "def Compute_Grade():\n",
    "    result = 0\n",
    "    i = 0\n",
    "    while(True):\n",
    "        a = input()\n",
    "        if(a == ' '):\n",
    "            break\n",
    "        i += 1\n",
    "        if(a == 'A+' or a == 'A'):\n",
    "            result += 4.0\n",
    "        elif(a == 'A-'):\n",
    "            result += 3.7\n",
    "        elif(a == 'B+'):\n",
    "            result += 3.3\n",
    "        elif(a == 'B'):\n",
    "            result += 3.0\n",
    "        elif(a == 'B-'):\n",
    "            result += 2.7\n",
    "        elif(a == 'C+'):\n",
    "            result += 2.3\n",
    "        elif(a == 'C'):\n",
    "            result += 2.0   \n",
    "        elif(a == 'C-'):\n",
    "            result += 1.7\n",
    "        elif(a == 'D+'):\n",
    "            result += 1.3\n",
    "        elif(a == 'D'):\n",
    "            result += 1.\n",
    "        elif(a == 'F'):\n",
    "            result += 0\n",
    "        else:\n",
    "            continue\n",
    "    print(result/i)"
   ]
  },
  {
   "cell_type": "code",
   "execution_count": 138,
   "metadata": {},
   "outputs": [
    {
     "name": "stdout",
     "output_type": "stream",
     "text": [
      "A\n",
      "C+\n",
      "B\n",
      " \n",
      "3.1\n"
     ]
    }
   ],
   "source": [
    "Compute_Grade()"
   ]
  },
  {
   "cell_type": "markdown",
   "metadata": {},
   "source": [
    "# Exercise 67: Admission Price"
   ]
  },
  {
   "cell_type": "code",
   "execution_count": 19,
   "metadata": {},
   "outputs": [],
   "source": [
    "def Admission_Price():\n",
    "    ans = 0\n",
    "    while(True):\n",
    "        a = int(input())\n",
    "        if(a == 0):\n",
    "            break\n",
    "        if(a <=2 ):\n",
    "            continue\n",
    "        elif(3 <= a and a <= 12):\n",
    "            ans += 14\n",
    "        elif(65 <= a):\n",
    "            ans += 18\n",
    "        else:\n",
    "            ans += 23\n",
    "    print(ans)"
   ]
  },
  {
   "cell_type": "code",
   "execution_count": 20,
   "metadata": {
    "scrolled": false
   },
   "outputs": [
    {
     "name": "stdout",
     "output_type": "stream",
     "text": [
      "3\n",
      "6\n",
      "20\n",
      "66\n",
      "0\n",
      "69\n"
     ]
    }
   ],
   "source": [
    "Admission_Price()"
   ]
  },
  {
   "cell_type": "markdown",
   "metadata": {},
   "source": [
    "# Exercise 72: Is a String a Palindrome?\n",
    "1. mid 값을 정한다. \n",
    " - 글자수가 짝수 -> 4/2 = 2 그냥 그대로 하면 된다.\n",
    " - 홀수 -> 몫만 챙겨야 한다. \n",
    "2. 문자열의 앞부터 그리고 문자열의 뒤부터 확인해야 한다. \n",
    " - 짝수: 미드 값 포함\n",
    " - 홀수: 미드 값 제외 "
   ]
  },
  {
   "cell_type": "code",
   "execution_count": 41,
   "metadata": {},
   "outputs": [],
   "source": [
    "def Is_a_String_Palidrome(a):\n",
    "    #print(len(a))\n",
    "    if len(a) % 2 == 0:\n",
    "        mid = len(a)//2\n",
    "        #print(mid)\n",
    "        for i in range(mid):\n",
    "            if a[i] != a[-(i+1)]:\n",
    "                return False\n",
    "    else:\n",
    "        mid = len(a)//2\n",
    "        for i in range(mid):\n",
    "            if a[i] != a[-(i+1)]:\n",
    "                return False\n",
    "    return True"
   ]
  },
  {
   "cell_type": "code",
   "execution_count": 42,
   "metadata": {},
   "outputs": [
    {
     "data": {
      "text/plain": [
       "True"
      ]
     },
     "execution_count": 42,
     "metadata": {},
     "output_type": "execute_result"
    }
   ],
   "source": [
    "Is_a_String_Palidrome('civic')"
   ]
  },
  {
   "cell_type": "markdown",
   "metadata": {},
   "source": [
    "# Exercise 74: Multiplication Table"
   ]
  },
  {
   "cell_type": "code",
   "execution_count": 58,
   "metadata": {},
   "outputs": [],
   "source": [
    "def Multiplecation_Table():\n",
    "    for i in range(11):\n",
    "        for j in range(11):\n",
    "            if (i == 0):\n",
    "                if (j == 0):\n",
    "                    print(\"  \",end=\"\")\n",
    "                else:\n",
    "                    print(j,end = \"  \")\n",
    "            elif(j == 0):\n",
    "                print(i,end = \" \")\n",
    "            else:\n",
    "                print(i*j,end = \"  \")\n",
    "        print()"
   ]
  },
  {
   "cell_type": "code",
   "execution_count": 59,
   "metadata": {
    "scrolled": false
   },
   "outputs": [
    {
     "name": "stdout",
     "output_type": "stream",
     "text": [
      "  1  2  3  4  5  6  7  8  9  10  \n",
      "1 1  2  3  4  5  6  7  8  9  10  \n",
      "2 2  4  6  8  10  12  14  16  18  20  \n",
      "3 3  6  9  12  15  18  21  24  27  30  \n",
      "4 4  8  12  16  20  24  28  32  36  40  \n",
      "5 5  10  15  20  25  30  35  40  45  50  \n",
      "6 6  12  18  24  30  36  42  48  54  60  \n",
      "7 7  14  21  28  35  42  49  56  63  70  \n",
      "8 8  16  24  32  40  48  56  64  72  80  \n",
      "9 9  18  27  36  45  54  63  72  81  90  \n",
      "10 10  20  30  40  50  60  70  80  90  100  \n"
     ]
    }
   ],
   "source": [
    "Multiplecation_Table()"
   ]
  },
  {
   "cell_type": "markdown",
   "metadata": {},
   "source": [
    "# Exercise 77: Binary to Decimal"
   ]
  },
  {
   "cell_type": "code",
   "execution_count": 119,
   "metadata": {},
   "outputs": [],
   "source": [
    "def B_to_D(a):\n",
    "    ans = 0;\n",
    "    for i in range(len(a)):\n",
    "        mul = 1;\n",
    "        for j in range(len(a) - i - 1):\n",
    "            mul *= 2\n",
    "        ans += int(a[i]) * mul\n",
    "    print(ans)"
   ]
  },
  {
   "cell_type": "code",
   "execution_count": 121,
   "metadata": {},
   "outputs": [
    {
     "name": "stdout",
     "output_type": "stream",
     "text": [
      "7\n"
     ]
    }
   ],
   "source": [
    "B_to_D('111')"
   ]
  },
  {
   "cell_type": "markdown",
   "metadata": {},
   "source": [
    "# Exercise 75: Greatest Common Divisor\n",
    "1. string을 받으면 \n",
    "2. 길이 만큼 for문을 돌려서 각 자리 수의 *2씩을 하면 된다."
   ]
  },
  {
   "cell_type": "code",
   "execution_count": 144,
   "metadata": {},
   "outputs": [],
   "source": [
    "def Greate_Division(n,m):\n",
    "    if n > m:\n",
    "        d = n\n",
    "    else:\n",
    "        d = m\n",
    "    for i in range(d):\n",
    "        if(n%d == 0 and m%d == 0):\n",
    "            print(d)\n",
    "            return;\n",
    "        d -= 1\n",
    "    print(1)"
   ]
  },
  {
   "cell_type": "code",
   "execution_count": 147,
   "metadata": {},
   "outputs": [
    {
     "name": "stdout",
     "output_type": "stream",
     "text": [
      "3\n"
     ]
    }
   ],
   "source": [
    "Greate_Division(15,3)"
   ]
  },
  {
   "cell_type": "markdown",
   "metadata": {},
   "source": [
    "# Exercise 78: Decimal to Binary\n",
    "1. string convert\n",
    "2. 10/2 = 5 0 5/2 = 2 and 1 2/2 = 1 and 0 1/2 = 0 and 1 -> 1 0 1 0"
   ]
  },
  {
   "cell_type": "code",
   "execution_count": 124,
   "metadata": {},
   "outputs": [],
   "source": [
    "def D_to_B(a):\n",
    "    result = str()\n",
    "    division = a\n",
    "    while(division != 0):\n",
    "        result = str(division%2) + result\n",
    "        division = division//2\n",
    "    print(result)"
   ]
  },
  {
   "cell_type": "code",
   "execution_count": 148,
   "metadata": {},
   "outputs": [
    {
     "name": "stdout",
     "output_type": "stream",
     "text": [
      "1010\n"
     ]
    }
   ],
   "source": [
    "D_to_B(10)"
   ]
  }
 ],
 "metadata": {
  "kernelspec": {
   "display_name": "Python 3",
   "language": "python",
   "name": "python3"
  },
  "language_info": {
   "codemirror_mode": {
    "name": "ipython",
    "version": 3
   },
   "file_extension": ".py",
   "mimetype": "text/x-python",
   "name": "python",
   "nbconvert_exporter": "python",
   "pygments_lexer": "ipython3",
   "version": "3.6.5"
  }
 },
 "nbformat": 4,
 "nbformat_minor": 2
}
