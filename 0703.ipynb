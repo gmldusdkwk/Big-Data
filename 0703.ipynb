{
 "cells": [
  {
   "cell_type": "markdown",
   "metadata": {},
   "source": [
    "# 전공자반_임희연"
   ]
  },
  {
   "cell_type": "markdown",
   "metadata": {},
   "source": [
    "# 105: reverse Order "
   ]
  },
  {
   "cell_type": "code",
   "execution_count": 19,
   "metadata": {},
   "outputs": [],
   "source": [
    "def Reverse_List():\n",
    "    flag = True\n",
    "    b = []\n",
    "    while(flag):\n",
    "        a = int(input())\n",
    "        if(a == 0):\n",
    "            break\n",
    "        b.append(a)\n",
    "    b.reverse()\n",
    "    print(b)"
   ]
  },
  {
   "cell_type": "code",
   "execution_count": 20,
   "metadata": {},
   "outputs": [
    {
     "data": {
      "text/plain": [
       "[1, 2, 3, 4]"
      ]
     },
     "execution_count": 20,
     "metadata": {},
     "output_type": "execute_result"
    }
   ],
   "source": [
    "Reverse_List()"
   ]
  },
  {
   "cell_type": "markdown",
   "metadata": {},
   "source": [
    "# 107: Avoiding duplicate "
   ]
  },
  {
   "cell_type": "code",
   "execution_count": 52,
   "metadata": {},
   "outputs": [],
   "source": [
    "def Avoiding_Duplicate():\n",
    "    b = list()\n",
    "    while(True):\n",
    "        a = input()\n",
    "        if a == ' ':\n",
    "            break\n",
    "        b.append(a)\n",
    "        #print(b)\n",
    "        for i in range(len(b)-1):\n",
    "            if len(b) == 1:\n",
    "                break\n",
    "            if b[i] == a:\n",
    "                #print(True)\n",
    "                b.pop(len(b)-1)     \n",
    "    print(b)"
   ]
  },
  {
   "cell_type": "code",
   "execution_count": 53,
   "metadata": {
    "scrolled": false
   },
   "outputs": [
    {
     "name": "stdout",
     "output_type": "stream",
     "text": [
      "first\n",
      "second\n",
      "third\n",
      "first\n",
      "second\n",
      " \n",
      "['first', 'second', 'third']\n"
     ]
    }
   ],
   "source": [
    "Avoiding_Duplicate()"
   ]
  },
  {
   "cell_type": "markdown",
   "metadata": {},
   "source": [
    "# 108: Negatives_Zeros_and_Positives"
   ]
  },
  {
   "cell_type": "code",
   "execution_count": 5,
   "metadata": {},
   "outputs": [],
   "source": [
    "def Negatives_Zeros_and_Positives():\n",
    "    flag = True\n",
    "    d = list()\n",
    "    while(flag):\n",
    "        a = input()\n",
    "        if(a == ' '):\n",
    "            break   \n",
    "        try:\n",
    "            a = int(a)\n",
    "        except:\n",
    "            continue\n",
    "        d.append(a) \n",
    "        d.sort()\n",
    "    print(d)"
   ]
  },
  {
   "cell_type": "code",
   "execution_count": 6,
   "metadata": {},
   "outputs": [
    {
     "name": "stdout",
     "output_type": "stream",
     "text": [
      "-4\n",
      "2\n",
      "1\n",
      "6\n",
      "4\n",
      "3\n",
      " \n",
      "[-4, 1, 2, 3, 4, 6]\n"
     ]
    }
   ],
   "source": [
    "Negatives_Zeros_and_Positives()"
   ]
  },
  {
   "cell_type": "markdown",
   "metadata": {},
   "source": [
    "# 110: Perfect Number "
   ]
  },
  {
   "cell_type": "markdown",
   "metadata": {},
   "source": [
    "- 10000개의 숫자를 for를 돌리니 결과 값이 안 나옵니다. "
   ]
  },
  {
   "cell_type": "code",
   "execution_count": 76,
   "metadata": {},
   "outputs": [],
   "source": [
    "def Perfect_Number():\n",
    "    ans = 0\n",
    "    d = list()\n",
    "    for j in range(1,28):\n",
    "        for i in range(1,j):\n",
    "            if(j%i == 0):\n",
    "                ans += i\n",
    "        if(ans == j):\n",
    "            d.append(j)\n",
    "            print(d)\n",
    "    print(d)    "
   ]
  },
  {
   "cell_type": "code",
   "execution_count": 77,
   "metadata": {
    "scrolled": false
   },
   "outputs": [
    {
     "name": "stdout",
     "output_type": "stream",
     "text": [
      "[]\n"
     ]
    }
   ],
   "source": [
    "Perfect_Number()"
   ]
  },
  {
   "cell_type": "markdown",
   "metadata": {},
   "source": [
    "# 113: Formatting a List"
   ]
  },
  {
   "cell_type": "code",
   "execution_count": 70,
   "metadata": {},
   "outputs": [],
   "source": [
    "def Formatting_List():\n",
    "    b = list()\n",
    "    for i in range(4):\n",
    "        a = input()\n",
    "        if(a == ' '):\n",
    "            break\n",
    "        b.append(a)\n",
    "    #print(b)\n",
    "    i = 0\n",
    "    c = str()\n",
    "    for i in range(len(b) - 1):\n",
    "        c += b[i]\n",
    "        c +=', '\n",
    "    c += 'and '\n",
    "    c += b[i + 1]\n",
    "    print(c)"
   ]
  },
  {
   "cell_type": "code",
   "execution_count": 71,
   "metadata": {
    "scrolled": true
   },
   "outputs": [
    {
     "name": "stdout",
     "output_type": "stream",
     "text": [
      "banans\n",
      "apples\n",
      "oranges\n",
      "pineapple\n",
      "banans, apples, oranges, and pineapple\n"
     ]
    }
   ],
   "source": [
    "Formatting_List()"
   ]
  },
  {
   "cell_type": "markdown",
   "metadata": {},
   "source": [
    "# 114: Random Rottery Numbers"
   ]
  },
  {
   "cell_type": "code",
   "execution_count": 252,
   "metadata": {},
   "outputs": [],
   "source": [
    "def Random_Lottery_Numbers():\n",
    "    import random\n",
    "    flag = True\n",
    "    a = set()\n",
    "    while(True):\n",
    "        b = random.randrange(1,49)\n",
    "        a.add(b)\n",
    "        if(len(a) == 6):\n",
    "            break\n",
    "    print(a)"
   ]
  },
  {
   "cell_type": "code",
   "execution_count": 253,
   "metadata": {},
   "outputs": [
    {
     "name": "stdout",
     "output_type": "stream",
     "text": [
      "{35, 39, 42, 13, 47, 16}\n"
     ]
    }
   ],
   "source": [
    "Random_Lottery_Numbers()"
   ]
  },
  {
   "cell_type": "markdown",
   "metadata": {},
   "source": [
    "# 134: Unique Character\n",
    " 1. 문자열을 입력한다.\n",
    " 2. 받은 문자열을 하나씩 문자를 확인하면서 set에 있는지 확인한다."
   ]
  },
  {
   "cell_type": "code",
   "execution_count": 130,
   "metadata": {},
   "outputs": [],
   "source": [
    "def Unique_Charaters(d):\n",
    "    a = set()\n",
    "    for i in range(len(d)):\n",
    "       # if d[i] == ' ':\n",
    "        #    continue\n",
    "        if len(a) == 0:\n",
    "            a.update(d[i])\n",
    "        for j in range(len(a)):            \n",
    "            if d[i] == a:\n",
    "                break\n",
    "            a.update(d[i])\n",
    "    print(len(a))"
   ]
  },
  {
   "cell_type": "code",
   "execution_count": 131,
   "metadata": {},
   "outputs": [
    {
     "name": "stdout",
     "output_type": "stream",
     "text": [
      "10\n"
     ]
    }
   ],
   "source": [
    "Unique_Charaters('Hello, World!')"
   ]
  },
  {
   "cell_type": "markdown",
   "metadata": {},
   "source": [
    "# 135: Anargrams"
   ]
  },
  {
   "cell_type": "code",
   "execution_count": 151,
   "metadata": {},
   "outputs": [],
   "source": [
    "def Anargrams(a,b):\n",
    "    c = set()\n",
    "    d = set()\n",
    "    i = 0\n",
    "    j = 0\n",
    "    for i in range(len(a)):\n",
    "        c.update(a[i])\n",
    "    for j in range(len(b)):\n",
    "        d.update(a[j])\n",
    "    return c == d"
   ]
  },
  {
   "cell_type": "code",
   "execution_count": 152,
   "metadata": {
    "scrolled": true
   },
   "outputs": [
    {
     "data": {
      "text/plain": [
       "True"
      ]
     },
     "execution_count": 152,
     "metadata": {},
     "output_type": "execute_result"
    }
   ],
   "source": [
    "Anargrams('evil','live')"
   ]
  }
 ],
 "metadata": {
  "kernelspec": {
   "display_name": "Python 3",
   "language": "python",
   "name": "python3"
  },
  "language_info": {
   "codemirror_mode": {
    "name": "ipython",
    "version": 3
   },
   "file_extension": ".py",
   "mimetype": "text/x-python",
   "name": "python",
   "nbconvert_exporter": "python",
   "pygments_lexer": "ipython3",
   "version": "3.6.5"
  }
 },
 "nbformat": 4,
 "nbformat_minor": 2
}
