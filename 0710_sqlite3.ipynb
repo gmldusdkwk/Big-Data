{
 "cells": [
  {
   "cell_type": "markdown",
   "metadata": {},
   "source": [
    "- cursor: fetch\n",
    "- connect: db와 connect"
   ]
  },
  {
   "cell_type": "code",
   "execution_count": 1,
   "metadata": {},
   "outputs": [],
   "source": [
    "import sqlite3"
   ]
  },
  {
   "cell_type": "code",
   "execution_count": 2,
   "metadata": {},
   "outputs": [],
   "source": [
    "conn = sqlite3.connect('existing_db.db')"
   ]
  },
  {
   "cell_type": "code",
   "execution_count": 3,
   "metadata": {},
   "outputs": [],
   "source": [
    "cur = conn.cursor()"
   ]
  },
  {
   "cell_type": "code",
   "execution_count": 17,
   "metadata": {},
   "outputs": [
    {
     "data": {
      "text/plain": [
       "<sqlite3.Cursor at 0x105aa97a0>"
      ]
     },
     "execution_count": 17,
     "metadata": {},
     "output_type": "execute_result"
    }
   ],
   "source": [
    "cur.executescript(\n",
    "\"\"\"\n",
    "    drop table artist;\n",
    "    drop table genre;\n",
    "    drop table albums;\n",
    "    drop table track;\n",
    "    create table artist (\n",
    "        id INTEGER PRIMARY KEY AUTOINCREMENT,\n",
    "        name text\n",
    "    );\n",
    "    create table genre (\n",
    "        id INTEGER PRIMARY KEY AUTOINCREMENT,\n",
    "        name text\n",
    "    );\n",
    "    create table albums (\n",
    "        id INTEGER PRIMARY KEY AUTOINCREMENT,\n",
    "        title text,\n",
    "        artist_id integer\n",
    "    );\n",
    "    create table track (\n",
    "        id INTEGER PRIMARY KEY AUTOINCREMENT,\n",
    "        title text,\n",
    "        length integer,\n",
    "        rating integer,\n",
    "        count integer,\n",
    "        album_id integer,\n",
    "        genre_id integer\n",
    "    );\n",
    "    insert into artist (name) values('Led Zepplin'); \n",
    "    insert into artist (name) values('AC/DC');\n",
    "    \n",
    "    insert into genre (name) values('Rock');\n",
    "    insert into genre (name) values('Metal');\n",
    "   \n",
    "\"\"\")"
   ]
  },
  {
   "cell_type": "code",
   "execution_count": 23,
   "metadata": {},
   "outputs": [],
   "source": [
    "conn.commit()\n",
    "artist = cur.fetchall()\n"
   ]
  },
  {
   "cell_type": "code",
   "execution_count": 24,
   "metadata": {},
   "outputs": [
    {
     "data": {
      "text/plain": [
       "<sqlite3.Cursor at 0x105aa97a0>"
      ]
     },
     "execution_count": 24,
     "metadata": {},
     "output_type": "execute_result"
    }
   ],
   "source": [
    "cur.executescript(\n",
    "\"\"\" \n",
    "    insert into albums (title, artist_id) values ('Who Made Who', 2);\n",
    "    insert into albums (title, artist_id) values ('IV', 1);\n",
    "    \n",
    "    insert into track (title, rating, length, count, album_id, genre_id) values ('Black Dog', 5, 297, 0,2,1);\n",
    "    insert into track (title, rating, length, count, album_id, genre_id) values ('Stair Way', 5, 482, 0,2,1);\n",
    "    insert into track (title, rating, length, count, album_id, genre_id) values ('About to Rock', 5, 313, 0,1,2);\n",
    "    insert into track (title, rating, length, count, album_id, genre_id) values ('Who Made Who', 5, 207, 0,1,2);\n",
    "\"\"\")"
   ]
  },
  {
   "cell_type": "code",
   "execution_count": 25,
   "metadata": {},
   "outputs": [
    {
     "data": {
      "text/plain": [
       "<sqlite3.Cursor at 0x105aa97a0>"
      ]
     },
     "execution_count": 25,
     "metadata": {},
     "output_type": "execute_result"
    }
   ],
   "source": [
    "cur.execute(\"select * from track\")"
   ]
  },
  {
   "cell_type": "code",
   "execution_count": 26,
   "metadata": {},
   "outputs": [
    {
     "name": "stdout",
     "output_type": "stream",
     "text": [
      "[(1, 'Black Dog', 297, 5, 0, 2, 1), (2, 'Stair Way', 482, 5, 0, 2, 1), (3, 'About to Rock', 313, 5, 0, 1, 2), (4, 'Who Made Who', 207, 5, 0, 1, 2)]\n"
     ]
    }
   ],
   "source": [
    "print(cur.fetchall())"
   ]
  },
  {
   "cell_type": "markdown",
   "metadata": {},
   "source": [
    "# Join\n",
    "- where절을 써도 되지만 join을 쓰는 것을 추천한다.\n",
    "- where절을 쓰는 것이 편리하다."
   ]
  },
  {
   "cell_type": "code",
   "execution_count": 36,
   "metadata": {},
   "outputs": [
    {
     "data": {
      "text/plain": [
       "<sqlite3.Cursor at 0x105aa97a0>"
      ]
     },
     "execution_count": 36,
     "metadata": {},
     "output_type": "execute_result"
    }
   ],
   "source": [
    "cur.execute(\n",
    "\"\"\"\n",
    "    select albums.title, artist.name from albums join artist on albums.artist_id = artist.id\n",
    "\"\"\")"
   ]
  },
  {
   "cell_type": "code",
   "execution_count": 37,
   "metadata": {},
   "outputs": [
    {
     "name": "stdout",
     "output_type": "stream",
     "text": [
      "[('Who Made Who', 'AC/DC'), ('IV', 'Led Zepplin')]\n"
     ]
    }
   ],
   "source": [
    "print(cur.fetchall())"
   ]
  },
  {
   "cell_type": "code",
   "execution_count": 38,
   "metadata": {},
   "outputs": [
    {
     "data": {
      "text/plain": [
       "<sqlite3.Cursor at 0x105aa97a0>"
      ]
     },
     "execution_count": 38,
     "metadata": {},
     "output_type": "execute_result"
    }
   ],
   "source": [
    "cur.execute(\n",
    "\"\"\"\n",
    "    select track.title, genre.name from track join genre on track.genre_id = genre.id \n",
    "\"\"\")"
   ]
  },
  {
   "cell_type": "code",
   "execution_count": 39,
   "metadata": {},
   "outputs": [
    {
     "name": "stdout",
     "output_type": "stream",
     "text": [
      "[('Black Dog', 'Rock'), ('Stair Way', 'Rock'), ('About to Rock', 'Metal'), ('Who Made Who', 'Metal')]\n"
     ]
    }
   ],
   "source": [
    "print(cur.fetchall())"
   ]
  },
  {
   "cell_type": "code",
   "execution_count": 41,
   "metadata": {},
   "outputs": [
    {
     "data": {
      "text/plain": [
       "<sqlite3.Cursor at 0x105aa97a0>"
      ]
     },
     "execution_count": 41,
     "metadata": {},
     "output_type": "execute_result"
    }
   ],
   "source": [
    "cur.execute(\"select albums.title, track.title from track join albums on track.album_id = albums.id\")"
   ]
  },
  {
   "cell_type": "code",
   "execution_count": 42,
   "metadata": {},
   "outputs": [
    {
     "name": "stdout",
     "output_type": "stream",
     "text": [
      "[('IV', 'Black Dog'), ('IV', 'Stair Way'), ('Who Made Who', 'About to Rock'), ('Who Made Who', 'Who Made Who')]\n"
     ]
    }
   ],
   "source": [
    "print(cur.fetchall())"
   ]
  },
  {
   "cell_type": "code",
   "execution_count": 47,
   "metadata": {},
   "outputs": [
    {
     "data": {
      "text/plain": [
       "<sqlite3.Cursor at 0x105aa97a0>"
      ]
     },
     "execution_count": 47,
     "metadata": {},
     "output_type": "execute_result"
    }
   ],
   "source": [
    "cur.execute(\n",
    "\"\"\"\n",
    "    select track.title, artist.name, albums.title, genre.name from track \n",
    "    join artist join albums join genre \n",
    "    on track.album_id = albums.id\n",
    "    and track.genre_id = genre.id\n",
    "    and albums.artist_id = artist.id\n",
    "\"\"\")"
   ]
  },
  {
   "cell_type": "markdown",
   "metadata": {},
   "source": [
    "# Cross Join"
   ]
  },
  {
   "cell_type": "code",
   "execution_count": 48,
   "metadata": {},
   "outputs": [
    {
     "name": "stdout",
     "output_type": "stream",
     "text": [
      "(1, 'Led Zepplin', 1, 'Who Made Who', 2)\n",
      "(1, 'Led Zepplin', 2, 'IV', 1)\n",
      "(2, 'AC/DC', 1, 'Who Made Who', 2)\n",
      "(2, 'AC/DC', 2, 'IV', 1)\n"
     ]
    }
   ],
   "source": [
    "cur.execute(\"select * from artist, albums\")\n",
    "cur.execute(\"select * from artist join albums\")\n",
    "for row in cur.fetchall():\n",
    "    print(row)"
   ]
  },
  {
   "cell_type": "markdown",
   "metadata": {},
   "source": [
    "# Inner Join\n",
    "- selecet + (선택 column)\n",
    "- on + (condition)"
   ]
  },
  {
   "cell_type": "code",
   "execution_count": 51,
   "metadata": {},
   "outputs": [
    {
     "data": {
      "text/plain": [
       "<sqlite3.Cursor at 0x105aa97a0>"
      ]
     },
     "execution_count": 51,
     "metadata": {},
     "output_type": "execute_result"
    }
   ],
   "source": [
    "cur.execute(\"select artist.name, albums.title from artist join albums on artist.id = albums.artist_id\")"
   ]
  },
  {
   "cell_type": "code",
   "execution_count": 52,
   "metadata": {},
   "outputs": [
    {
     "name": "stdout",
     "output_type": "stream",
     "text": [
      "('AC/DC', 'Who Made Who')\n",
      "('Led Zepplin', 'IV')\n"
     ]
    }
   ],
   "source": [
    "for row in cur.fetchall():\n",
    "    print(row)"
   ]
  },
  {
   "cell_type": "code",
   "execution_count": 58,
   "metadata": {},
   "outputs": [
    {
     "name": "stdout",
     "output_type": "stream",
     "text": [
      "('Black Dog', 'IV', 'Rock', 'Led Zepplin')\n",
      "('Stair Way', 'IV', 'Rock', 'Led Zepplin')\n",
      "('About to Rock', 'Who Made Who', 'Metal', 'AC/DC')\n",
      "('Who Made Who', 'Who Made Who', 'Metal', 'AC/DC')\n"
     ]
    }
   ],
   "source": [
    "cur.execute(\n",
    "    \"\"\"\n",
    "    select track.title, albums.title, genre.name, artist.name\n",
    "    from track join albums join genre join artist\n",
    "    on track.album_id = albums.id\n",
    "    and track.genre_id = genre.id\n",
    "    and albums.artist_id = artist.id\n",
    "    \"\"\")\n",
    "for row in cur.fetchall():\n",
    "    print(row)"
   ]
  },
  {
   "cell_type": "markdown",
   "metadata": {},
   "source": [
    "# Dump(Backup)\n",
    "- create dump file: __iterdump__\n",
    "- open and read\n",
    "- dump.db -> backup"
   ]
  },
  {
   "cell_type": "code",
   "execution_count": 60,
   "metadata": {},
   "outputs": [],
   "source": [
    "with open('test.dump','w') as f:\n",
    "    for line in conn.iterdump():\n",
    "        f.write('%s\\n'%line)"
   ]
  },
  {
   "cell_type": "code",
   "execution_count": 61,
   "metadata": {},
   "outputs": [],
   "source": [
    "data = None\n",
    "with open(\"test.dump\",\"r\") as f:\n",
    "    data = f.read()"
   ]
  },
  {
   "cell_type": "code",
   "execution_count": 62,
   "metadata": {},
   "outputs": [
    {
     "data": {
      "text/plain": [
       "'BEGIN TRANSACTION;\\nCREATE TABLE albums (\\n        id INTEGER PRIMARY KEY AUTOINCREMENT,\\n        title text,\\n        artist_id integer\\n    );\\nINSERT INTO \"albums\" VALUES(1,\\'Who Made Who\\',2);\\nINSERT INTO \"albums\" VALUES(2,\\'IV\\',1);\\nCREATE TABLE artist (\\n        id INTEGER PRIMARY KEY AUTOINCREMENT,\\n        name text\\n    );\\nINSERT INTO \"artist\" VALUES(1,\\'Led Zepplin\\');\\nINSERT INTO \"artist\" VALUES(2,\\'AC/DC\\');\\nCREATE TABLE genre (\\n        id INTEGER PRIMARY KEY AUTOINCREMENT,\\n        name text\\n    );\\nINSERT INTO \"genre\" VALUES(1,\\'Rock\\');\\nINSERT INTO \"genre\" VALUES(2,\\'Metal\\');\\nDELETE FROM \"sqlite_sequence\";\\nINSERT INTO \"sqlite_sequence\" VALUES(\\'artist\\',2);\\nINSERT INTO \"sqlite_sequence\" VALUES(\\'genre\\',2);\\nINSERT INTO \"sqlite_sequence\" VALUES(\\'albums\\',2);\\nINSERT INTO \"sqlite_sequence\" VALUES(\\'track\\',4);\\nCREATE TABLE track (\\n        id INTEGER PRIMARY KEY AUTOINCREMENT,\\n        title text,\\n        length integer,\\n        rating integer,\\n        count integer,\\n        album_id integer,\\n        genre_id integer\\n    );\\nINSERT INTO \"track\" VALUES(1,\\'Black Dog\\',297,5,0,2,1);\\nINSERT INTO \"track\" VALUES(2,\\'Stair Way\\',482,5,0,2,1);\\nINSERT INTO \"track\" VALUES(3,\\'About to Rock\\',313,5,0,1,2);\\nINSERT INTO \"track\" VALUES(4,\\'Who Made Who\\',207,5,0,1,2);\\nCOMMIT;\\n'"
      ]
     },
     "execution_count": 62,
     "metadata": {},
     "output_type": "execute_result"
    }
   ],
   "source": [
    "data"
   ]
  },
  {
   "cell_type": "code",
   "execution_count": 67,
   "metadata": {},
   "outputs": [
    {
     "data": {
      "text/plain": [
       "str"
      ]
     },
     "execution_count": 67,
     "metadata": {},
     "output_type": "execute_result"
    }
   ],
   "source": [
    "type(data) #string 이기 때문에 편집기로 열 수 있다."
   ]
  },
  {
   "cell_type": "code",
   "execution_count": 63,
   "metadata": {},
   "outputs": [],
   "source": [
    "conn = sqlite3.connect(\"dump.db\")"
   ]
  },
  {
   "cell_type": "code",
   "execution_count": 64,
   "metadata": {},
   "outputs": [],
   "source": [
    "cur = conn.cursor()"
   ]
  },
  {
   "cell_type": "code",
   "execution_count": 65,
   "metadata": {},
   "outputs": [
    {
     "data": {
      "text/plain": [
       "<sqlite3.Cursor at 0x105b5ad50>"
      ]
     },
     "execution_count": 65,
     "metadata": {},
     "output_type": "execute_result"
    }
   ],
   "source": [
    "cur.executescript(data)"
   ]
  },
  {
   "cell_type": "code",
   "execution_count": 72,
   "metadata": {},
   "outputs": [
    {
     "data": {
      "text/plain": [
       "<sqlite3.Cursor at 0x105b5ad50>"
      ]
     },
     "execution_count": 72,
     "metadata": {},
     "output_type": "execute_result"
    }
   ],
   "source": [
    "cur.execute(\"insert into track (title) values ('아무거나')\")"
   ]
  },
  {
   "cell_type": "code",
   "execution_count": 73,
   "metadata": {},
   "outputs": [
    {
     "data": {
      "text/plain": [
       "<sqlite3.Cursor at 0x105b5ad50>"
      ]
     },
     "execution_count": 73,
     "metadata": {},
     "output_type": "execute_result"
    }
   ],
   "source": [
    "cur.execute(\"select * from track\")"
   ]
  },
  {
   "cell_type": "code",
   "execution_count": 74,
   "metadata": {},
   "outputs": [
    {
     "name": "stdout",
     "output_type": "stream",
     "text": [
      "[(1, 'Black Dog', 297, 5, 0, 2, 1), (2, 'Stair Way', 482, 5, 0, 2, 1), (3, 'About to Rock', 313, 5, 0, 1, 2), (4, 'Who Made Who', 207, 5, 0, 1, 2), (5, '아무거나', None, None, None, None, None), (6, '아무거나', None, None, None, None, None)]\n"
     ]
    }
   ],
   "source": [
    "print(cur.fetchall())"
   ]
  },
  {
   "cell_type": "markdown",
   "metadata": {},
   "source": [
    "# Left Join\n",
    "- from 기준 \n",
    "- right이 없어도 상관없음 "
   ]
  },
  {
   "cell_type": "code",
   "execution_count": 75,
   "metadata": {},
   "outputs": [
    {
     "data": {
      "text/plain": [
       "<sqlite3.Cursor at 0x105b5ad50>"
      ]
     },
     "execution_count": 75,
     "metadata": {},
     "output_type": "execute_result"
    }
   ],
   "source": [
    "cur.execute(\"select * from track left join albums on albums.id = track.album_id\")"
   ]
  },
  {
   "cell_type": "code",
   "execution_count": 76,
   "metadata": {},
   "outputs": [
    {
     "name": "stdout",
     "output_type": "stream",
     "text": [
      "(1, 'Black Dog', 297, 5, 0, 2, 1, 2, 'IV', 1)\n",
      "(2, 'Stair Way', 482, 5, 0, 2, 1, 2, 'IV', 1)\n",
      "(3, 'About to Rock', 313, 5, 0, 1, 2, 1, 'Who Made Who', 2)\n",
      "(4, 'Who Made Who', 207, 5, 0, 1, 2, 1, 'Who Made Who', 2)\n",
      "(5, '아무거나', None, None, None, None, None, None, None, None)\n",
      "(6, '아무거나', None, None, None, None, None, None, None, None)\n"
     ]
    }
   ],
   "source": [
    "for row in cur.fetchall():\n",
    "    print(row)"
   ]
  },
  {
   "cell_type": "code",
   "execution_count": 77,
   "metadata": {},
   "outputs": [
    {
     "data": {
      "text/plain": [
       "<sqlite3.Cursor at 0x105b5ad50>"
      ]
     },
     "execution_count": 77,
     "metadata": {},
     "output_type": "execute_result"
    }
   ],
   "source": [
    "cur.execute(\"select * from albums left join track on albums.id = track.album_id\")"
   ]
  },
  {
   "cell_type": "code",
   "execution_count": 78,
   "metadata": {},
   "outputs": [
    {
     "name": "stdout",
     "output_type": "stream",
     "text": [
      "(1, 'Who Made Who', 2, 3, 'About to Rock', 313, 5, 0, 1, 2)\n",
      "(1, 'Who Made Who', 2, 4, 'Who Made Who', 207, 5, 0, 1, 2)\n",
      "(2, 'IV', 1, 1, 'Black Dog', 297, 5, 0, 2, 1)\n",
      "(2, 'IV', 1, 2, 'Stair Way', 482, 5, 0, 2, 1)\n"
     ]
    }
   ],
   "source": [
    "for row in cur.fetchall():\n",
    "    print(row)"
   ]
  },
  {
   "cell_type": "code",
   "execution_count": null,
   "metadata": {},
   "outputs": [],
   "source": []
  }
 ],
 "metadata": {
  "kernelspec": {
   "display_name": "Python 3",
   "language": "python",
   "name": "python3"
  },
  "language_info": {
   "codemirror_mode": {
    "name": "ipython",
    "version": 3
   },
   "file_extension": ".py",
   "mimetype": "text/x-python",
   "name": "python",
   "nbconvert_exporter": "python",
   "pygments_lexer": "ipython3",
   "version": "3.6.5"
  }
 },
 "nbformat": 4,
 "nbformat_minor": 2
}
