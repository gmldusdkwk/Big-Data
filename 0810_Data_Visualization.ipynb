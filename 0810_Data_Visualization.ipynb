{
 "cells": [
  {
   "cell_type": "markdown",
   "metadata": {},
   "source": [
    "# Visualization\n",
    "***\n",
    "1. Word Cloud\n",
    "2. Network\n",
    "3. Word Stream\n",
    "4. Scientific Visualization\n",
    "    1. Molecular\n",
    "    2. Climate Visualization\n",
    "    3. Medical Data \n",
    "5. AR, VR\n",
    "6. Cimputer Aided Design(CAD)\n",
    "    - Architectural Design\n",
    "    - Mechanical Parts Design"
   ]
  },
  {
   "cell_type": "markdown",
   "metadata": {},
   "source": [
    "# what we learn\n",
    "1. Geometry Space\n",
    "2. Algorithm Coding (Data structure)\n",
    "3. Application"
   ]
  },
  {
   "cell_type": "markdown",
   "metadata": {},
   "source": [
    "# 1. Geometry Space"
   ]
  },
  {
   "cell_type": "markdown",
   "metadata": {},
   "source": [
    "3차원 데이터를 어떻게 가시화 시킬 것인가?\n",
    "- 공간과 형상의 기하적인 정보를 수학적으로 계산하여 알고리즘을 짜고 프로그래밍을 하여 가시화를 할 수 있다."
   ]
  },
  {
   "cell_type": "markdown",
   "metadata": {},
   "source": [
    "1. Geometric Models\n",
    "2. Motion Definition - 움직임에 대한 수식, 물리적으로 힘과 중력을 계산, 일일이 데이터 값을 추가(배우의 촬영모션을 아바타 그림으로 mapping)\n",
    "3. Visualization\n",
    "4. Image and Disply"
   ]
  },
  {
   "cell_type": "markdown",
   "metadata": {},
   "source": [
    "## 3D Geometric Models\n",
    "1. x,y,d(distance, depth) - 3D로 스캔한 얼굴을 포인트로 만들고 그것을 삼각형으로 연결하여 모델링을 할 수 있다. "
   ]
  },
  {
   "cell_type": "markdown",
   "metadata": {},
   "source": [
    "외부적인 힘들을 linear transform을 통해 물체의 이동을 구해서 수학적인 계산을 한다. "
   ]
  },
  {
   "cell_type": "markdown",
   "metadata": {},
   "source": [
    "### noraml vector의 필요성\n",
    "- 방향을 알 수 있기 때문\n",
    "- x와 y의 벡터의 외적 벡터\n",
    "\n",
    "\n",
    "벡터의 normalize\n",
    "- 모든 벡터의 길이를 1로 하고 방향성의 값만을 남게 한다.\n",
    "- face normal을 계산할 수 있다."
   ]
  },
  {
   "cell_type": "markdown",
   "metadata": {},
   "source": [
    "### Vertex Normal VS Face Normal\n",
    "![](https://www.scratchapixel.com/images/upload/shading-intro/shad-face-normals3.png?)"
   ]
  },
  {
   "cell_type": "markdown",
   "metadata": {},
   "source": [
    "## vector \n",
    "1. 내적: dot product - degree \n",
    "2. 외적: cross product - face normal\n",
    "    - 값: 두 벡터로 이루어지는 평행사변형의 넓이\n",
    "    - 방향: face normal vector"
   ]
  },
  {
   "cell_type": "code",
   "execution_count": null,
   "metadata": {},
   "outputs": [],
   "source": []
  }
 ],
 "metadata": {
  "kernelspec": {
   "display_name": "Python 3",
   "language": "python",
   "name": "python3"
  },
  "language_info": {
   "codemirror_mode": {
    "name": "ipython",
    "version": 3
   },
   "file_extension": ".py",
   "mimetype": "text/x-python",
   "name": "python",
   "nbconvert_exporter": "python",
   "pygments_lexer": "ipython3",
   "version": "3.6.5"
  }
 },
 "nbformat": 4,
 "nbformat_minor": 2
}
