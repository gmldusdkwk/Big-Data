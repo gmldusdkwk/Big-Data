{
 "cells": [
  {
   "cell_type": "markdown",
   "metadata": {},
   "source": [
    "# Exercise 129: Two Dice Simulation"
   ]
  },
  {
   "cell_type": "code",
   "execution_count": 22,
   "metadata": {},
   "outputs": [],
   "source": [
    "def two_dice_simulation():\n",
    "    ans = [0,0,0,0,0,0,0,0,0,0,0]\n",
    "    from random import randint\n",
    "    for i in range(1000):\n",
    "        result1 = randint(1,6)\n",
    "        result2 = randint(1,6)\n",
    "        ans[result1 + result2 - 2] += 1\n",
    "    for i in range(11):\n",
    "        ans[i] /= 1000\n",
    "    print('Total Simulated Expected')\n",
    "    print('        percent  percent')\n",
    "    for i in range(11):\n",
    "        print(i+2,end = '        ')\n",
    "        print(round(ans[i]*100,2), end = '     ')\n",
    "        if i < 6:\n",
    "            print(round((1/6)*(1/6)*(i+1)*100,2))\n",
    "        elif i == 6:\n",
    "            print(round((1/6)*(1/6)*5*100,2))\n",
    "        elif i == 7:\n",
    "            print(round((1/6)*(1/6)*4*100,2))\n",
    "        elif i == 8:\n",
    "            print(round((1/6)*(1/6)*3*100,2))\n",
    "        elif i == 9:\n",
    "            print(round((1/6)*(1/6)*2*100,2))\n",
    "        else:\n",
    "            print(round((1/6)*(1/6)*1*100,2))\n",
    "            "
   ]
  },
  {
   "cell_type": "code",
   "execution_count": 23,
   "metadata": {},
   "outputs": [
    {
     "name": "stdout",
     "output_type": "stream",
     "text": [
      "Total Simulated Expected\n",
      "        percent  percent\n",
      "2        3.1     2.78\n",
      "3        4.9     5.56\n",
      "4        8.2     8.33\n",
      "5        10.0     11.11\n",
      "6        15.1     13.89\n",
      "7        16.2     16.67\n",
      "8        14.7     13.89\n",
      "9        11.1     11.11\n",
      "10        7.1     8.33\n",
      "11        7.2     5.56\n",
      "12        2.4     2.78\n"
     ]
    }
   ],
   "source": [
    "two_dice_simulation()"
   ]
  },
  {
   "cell_type": "markdown",
   "metadata": {},
   "source": [
    "# Exercise 130: Text Messaging"
   ]
  },
  {
   "cell_type": "code",
   "execution_count": 24,
   "metadata": {},
   "outputs": [],
   "source": [
    "key = {1:['.',',','?','!',':'],2:['A','B','C'],3:['D','E','F'],\n",
    "          4:['G','H','I'],5:['J','J','L'],6:['M','N','O'],\n",
    "       7:['P','Q','R','S'],8:['T','U','V'],9:['W','X','Y','Z'], 0:' '}"
   ]
  },
  {
   "cell_type": "code",
   "execution_count": 49,
   "metadata": {},
   "outputs": [],
   "source": [
    "def text_messaging():\n",
    "    key = {1:['.',',','?','!',':'],2:['A','B','C'],3:['D','E','F'],\n",
    "          4:['G','H','I'],5:['J','J','L'],6:['M','N','O'],\n",
    "       7:['P','Q','R','S'],8:['T','U','V'],9:['W','X','Y','Z'], 0:' '}\n",
    "    print('Write the message')\n",
    "    a = input()\n",
    "    a = a.upper()\n",
    "    #print(a)\n",
    "    for i in range(len(a)):\n",
    "        for j in range(len(key)):\n",
    "            for k in range(len(key[j])):\n",
    "                if a[i] == key[j][k]:\n",
    "                    for h in range(k + 1):\n",
    "                        print(j,end = \"\") #key의 숫자값을 print"
   ]
  },
  {
   "cell_type": "code",
   "execution_count": 52,
   "metadata": {},
   "outputs": [
    {
     "name": "stdout",
     "output_type": "stream",
     "text": [
      "Write the message\n",
      "Hello, World!\n",
      "HELLO, WORLD!\n",
      "4433555555666110966677755531111"
     ]
    }
   ],
   "source": [
    "text_messaging()"
   ]
  },
  {
   "cell_type": "code",
   "execution_count": 53,
   "metadata": {},
   "outputs": [
    {
     "data": {
      "text/plain": [
       "True"
      ]
     },
     "execution_count": 53,
     "metadata": {},
     "output_type": "execute_result"
    }
   ],
   "source": [
    "'4433555555666110966677755531111' == '4433555555666110966677755531111'"
   ]
  },
  {
   "cell_type": "markdown",
   "metadata": {},
   "source": [
    "# Exercise 131: Morse Code"
   ]
  },
  {
   "cell_type": "code",
   "execution_count": 97,
   "metadata": {},
   "outputs": [],
   "source": [
    "morseAlphabet ={\n",
    "        \"A\" : \".-\",\n",
    "        \"B\" : \"-...\",\n",
    "        \"C\" : \"-.-.\",\n",
    "        \"D\" : \"-..\",\n",
    "        \"E\" : \".\",\n",
    "        \"F\" : \"..-.\",\n",
    "        \"G\" : \"--.\",\n",
    "        \"H\" : \"....\",\n",
    "        \"I\" : \"..\",\n",
    "        \"J\" : \".---\",\n",
    "        \"K\" : \"-.-\",\n",
    "        \"L\" : \".-..\",\n",
    "        \"M\" : \"--\",\n",
    "        \"N\" : \"-.\",\n",
    "        \"O\" : \"---\",\n",
    "        \"P\" : \".--.\",\n",
    "        \"Q\" : \"--.-\",\n",
    "        \"R\" : \".-.\",\n",
    "        \"S\" : \"...\",\n",
    "        \"T\" : \"-\",\n",
    "        \"U\" : \"..-\",\n",
    "        \"V\" : \"...-\",\n",
    "        \"W\" : \".--\",\n",
    "        \"X\" : \"-..-\",\n",
    "        \"Y\" : \"-.--\",\n",
    "        \"Z\" : \"--..\",\n",
    "        }"
   ]
  },
  {
   "cell_type": "code",
   "execution_count": 98,
   "metadata": {},
   "outputs": [],
   "source": [
    "def morse_code(a):\n",
    "    a = a.upper()\n",
    "    keys = list(morseAlphabet.keys())\n",
    "    for i in range(len(a)):\n",
    "        for j in range(len(keys)):\n",
    "            if a[i] == keys[j]:\n",
    "                print(morseAlphabet.get(keys[j]),end = ' ')"
   ]
  },
  {
   "cell_type": "code",
   "execution_count": 99,
   "metadata": {
    "scrolled": true
   },
   "outputs": [
    {
     "name": "stdout",
     "output_type": "stream",
     "text": [
      ".... . .-.. .-.. --- .-- --- .-. .-.. -.. "
     ]
    }
   ],
   "source": [
    "morse_code('Hello, World!')"
   ]
  },
  {
   "cell_type": "code",
   "execution_count": 100,
   "metadata": {},
   "outputs": [
    {
     "data": {
      "text/plain": [
       "True"
      ]
     },
     "execution_count": 100,
     "metadata": {},
     "output_type": "execute_result"
    }
   ],
   "source": [
    "'.... . .-.. .-.. --- .-- --- .-. .-.. -..' == '.... . .-.. .-.. --- .-- --- .-. .-.. -..'"
   ]
  },
  {
   "cell_type": "markdown",
   "metadata": {},
   "source": [
    "# Exercise 132: Postal Codes"
   ]
  },
  {
   "cell_type": "code",
   "execution_count": 103,
   "metadata": {},
   "outputs": [],
   "source": [
    "address = {\n",
    "    \"A\":'Newfoundland',\n",
    "    \"B\":'Nova Scotia',\n",
    "    \"C\":'Prince Edward Island',\n",
    "    \"E\":'New Brunswick',\n",
    "    \"G\":'Quebec',\n",
    "    \"H\":'Quebec',\n",
    "    \"J\":'Quebec',\n",
    "    \"K\":'Ontario',\n",
    "    \"L\":'Ontario',\n",
    "    \"M\":'Ontario',\n",
    "    \"N\":'Ontario',\n",
    "    \"P\":'Ontario',\n",
    "    \"R\":'Manitoba',\n",
    "    \"S\":'Saskatchewan',\n",
    "    \"T\":'Alberta',\n",
    "    \"V\":'British Columbia',\n",
    "    \"X\":['Nunavut','Northwest Territories'],\n",
    "    \"Y\":'Yukon'\n",
    "}"
   ]
  },
  {
   "cell_type": "code",
   "execution_count": 125,
   "metadata": {},
   "outputs": [],
   "source": [
    "def postal_code():\n",
    "    print('Write the postal code')\n",
    "    a = input()\n",
    "    result = str()\n",
    "    add = list(address.keys())\n",
    "    for i in range(len(address)):\n",
    "        if a[0] == add[i]:\n",
    "            result = address.get(add[i])\n",
    "    print('The postal code is for ',end = '')\n",
    "    if a[1] == 0:\n",
    "        print('a rural address in',result)\n",
    "    else:\n",
    "        print('an urban address in',result)"
   ]
  },
  {
   "cell_type": "code",
   "execution_count": 126,
   "metadata": {},
   "outputs": [
    {
     "name": "stdout",
     "output_type": "stream",
     "text": [
      "Write the postal code\n",
      "T2N 1N4\n",
      "The postal code is for an urban address in Alberta\n"
     ]
    }
   ],
   "source": [
    "postal_code()"
   ]
  },
  {
   "cell_type": "code",
   "execution_count": 127,
   "metadata": {},
   "outputs": [
    {
     "name": "stdout",
     "output_type": "stream",
     "text": [
      "Write the postal code\n",
      "X0A 1B2\n",
      "The postal code is for an urban address in ['Nunavut', 'Northwest Territories']\n"
     ]
    }
   ],
   "source": [
    "postal_code()"
   ]
  },
  {
   "cell_type": "code",
   "execution_count": null,
   "metadata": {},
   "outputs": [],
   "source": []
  }
 ],
 "metadata": {
  "kernelspec": {
   "display_name": "Python 3",
   "language": "python",
   "name": "python3"
  },
  "language_info": {
   "codemirror_mode": {
    "name": "ipython",
    "version": 3
   },
   "file_extension": ".py",
   "mimetype": "text/x-python",
   "name": "python",
   "nbconvert_exporter": "python",
   "pygments_lexer": "ipython3",
   "version": "3.6.5"
  }
 },
 "nbformat": 4,
 "nbformat_minor": 2
}
