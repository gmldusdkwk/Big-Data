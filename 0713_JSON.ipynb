{
 "cells": [
  {
   "cell_type": "code",
   "execution_count": 2,
   "metadata": {},
   "outputs": [],
   "source": [
    "import json"
   ]
  },
  {
   "cell_type": "code",
   "execution_count": 3,
   "metadata": {},
   "outputs": [],
   "source": [
    "name = (\"kim\",\"lee\", \"park\")"
   ]
  },
  {
   "cell_type": "code",
   "execution_count": 4,
   "metadata": {},
   "outputs": [
    {
     "data": {
      "text/plain": [
       "tuple"
      ]
     },
     "execution_count": 4,
     "metadata": {},
     "output_type": "execute_result"
    }
   ],
   "source": [
    "type(name)"
   ]
  },
  {
   "cell_type": "code",
   "execution_count": 5,
   "metadata": {},
   "outputs": [],
   "source": [
    "age = [28, 32, 25]"
   ]
  },
  {
   "cell_type": "code",
   "execution_count": 6,
   "metadata": {},
   "outputs": [
    {
     "data": {
      "text/plain": [
       "list"
      ]
     },
     "execution_count": 6,
     "metadata": {},
     "output_type": "execute_result"
    }
   ],
   "source": [
    "type(age)"
   ]
  },
  {
   "cell_type": "code",
   "execution_count": 8,
   "metadata": {},
   "outputs": [],
   "source": [
    "person = {\"name\":\"kim\", \"age\":\"28\",\"car\":False}"
   ]
  },
  {
   "cell_type": "code",
   "execution_count": 9,
   "metadata": {},
   "outputs": [
    {
     "data": {
      "text/plain": [
       "dict"
      ]
     },
     "execution_count": 9,
     "metadata": {},
     "output_type": "execute_result"
    }
   ],
   "source": [
    "type(person)"
   ]
  },
  {
   "cell_type": "code",
   "execution_count": 10,
   "metadata": {},
   "outputs": [],
   "source": [
    "nameStr = json.dumps(name)"
   ]
  },
  {
   "cell_type": "code",
   "execution_count": 11,
   "metadata": {},
   "outputs": [
    {
     "data": {
      "text/plain": [
       "'[\"kim\", \"lee\", \"park\"]'"
      ]
     },
     "execution_count": 11,
     "metadata": {},
     "output_type": "execute_result"
    }
   ],
   "source": [
    "nameStr"
   ]
  },
  {
   "cell_type": "code",
   "execution_count": 12,
   "metadata": {},
   "outputs": [
    {
     "data": {
      "text/plain": [
       "str"
      ]
     },
     "execution_count": 12,
     "metadata": {},
     "output_type": "execute_result"
    }
   ],
   "source": [
    "type(nameStr)"
   ]
  },
  {
   "cell_type": "code",
   "execution_count": 13,
   "metadata": {},
   "outputs": [],
   "source": [
    "personStr = json.dumps(person, indent=\"    \")"
   ]
  },
  {
   "cell_type": "code",
   "execution_count": 15,
   "metadata": {},
   "outputs": [
    {
     "name": "stdout",
     "output_type": "stream",
     "text": [
      "{\n",
      "    \"name\": \"kim\",\n",
      "    \"age\": \"28\",\n",
      "    \"car\": false\n",
      "}\n"
     ]
    }
   ],
   "source": [
    "print(personStr)"
   ]
  },
  {
   "cell_type": "code",
   "execution_count": 17,
   "metadata": {},
   "outputs": [
    {
     "data": {
      "text/plain": [
       "str"
      ]
     },
     "execution_count": 17,
     "metadata": {},
     "output_type": "execute_result"
    }
   ],
   "source": [
    "type(personStr)"
   ]
  },
  {
   "cell_type": "code",
   "execution_count": 18,
   "metadata": {},
   "outputs": [],
   "source": [
    "korean = (\"김\",\"이\",\"박\")"
   ]
  },
  {
   "cell_type": "code",
   "execution_count": 19,
   "metadata": {},
   "outputs": [],
   "source": [
    "koreanStr = json.dumps(korean)"
   ]
  },
  {
   "cell_type": "code",
   "execution_count": 20,
   "metadata": {},
   "outputs": [
    {
     "name": "stdout",
     "output_type": "stream",
     "text": [
      "[\"\\uae40\", \"\\uc774\", \"\\ubc15\"]\n"
     ]
    }
   ],
   "source": [
    "print(koreanStr)"
   ]
  },
  {
   "cell_type": "code",
   "execution_count": 21,
   "metadata": {},
   "outputs": [],
   "source": [
    "koreanStr = json.dumps(korean,ensure_ascii=False) #한글처리 "
   ]
  },
  {
   "cell_type": "code",
   "execution_count": 22,
   "metadata": {},
   "outputs": [
    {
     "name": "stdout",
     "output_type": "stream",
     "text": [
      "[\"김\", \"이\", \"박\"]\n"
     ]
    }
   ],
   "source": [
    "print(koreanStr)"
   ]
  },
  {
   "cell_type": "code",
   "execution_count": 23,
   "metadata": {},
   "outputs": [],
   "source": [
    "personObj = json.loads(personStr) #convert to python object dict"
   ]
  },
  {
   "cell_type": "code",
   "execution_count": 24,
   "metadata": {},
   "outputs": [
    {
     "data": {
      "text/plain": [
       "dict"
      ]
     },
     "execution_count": 24,
     "metadata": {},
     "output_type": "execute_result"
    }
   ],
   "source": [
    "type(personObj)"
   ]
  },
  {
   "cell_type": "code",
   "execution_count": 25,
   "metadata": {},
   "outputs": [
    {
     "data": {
      "text/plain": [
       "{'name': 'kim', 'age': '28', 'car': False}"
      ]
     },
     "execution_count": 25,
     "metadata": {},
     "output_type": "execute_result"
    }
   ],
   "source": [
    "personObj"
   ]
  },
  {
   "cell_type": "code",
   "execution_count": 26,
   "metadata": {},
   "outputs": [
    {
     "data": {
      "text/plain": [
       "True"
      ]
     },
     "execution_count": 26,
     "metadata": {},
     "output_type": "execute_result"
    }
   ],
   "source": [
    "person == personObj"
   ]
  },
  {
   "cell_type": "code",
   "execution_count": 35,
   "metadata": {},
   "outputs": [],
   "source": [
    "personObj[\"car\"] = [\"레이\",\"모닝\"]"
   ]
  },
  {
   "cell_type": "code",
   "execution_count": 36,
   "metadata": {},
   "outputs": [
    {
     "data": {
      "text/plain": [
       "{'name': 'kim', 'age': '28', 'car': ['레이', '모닝']}"
      ]
     },
     "execution_count": 36,
     "metadata": {},
     "output_type": "execute_result"
    }
   ],
   "source": [
    "personObj"
   ]
  },
  {
   "cell_type": "code",
   "execution_count": 29,
   "metadata": {},
   "outputs": [],
   "source": [
    "with open(\"test.json\",\"w\") as fp:\n",
    "    json.dump(personObj, fp)"
   ]
  },
  {
   "cell_type": "code",
   "execution_count": 30,
   "metadata": {},
   "outputs": [],
   "source": [
    "with open(\"test.json\",\"r\") as fp:\n",
    "    loadObj = json.load(fp)"
   ]
  },
  {
   "cell_type": "code",
   "execution_count": 33,
   "metadata": {},
   "outputs": [
    {
     "data": {
      "text/plain": [
       "{'name': 'kim', 'age': '28', 'car': ['레이', '모닝']}"
      ]
     },
     "execution_count": 33,
     "metadata": {},
     "output_type": "execute_result"
    }
   ],
   "source": [
    "loadObj"
   ]
  },
  {
   "cell_type": "code",
   "execution_count": 37,
   "metadata": {},
   "outputs": [
    {
     "data": {
      "text/plain": [
       "True"
      ]
     },
     "execution_count": 37,
     "metadata": {},
     "output_type": "execute_result"
    }
   ],
   "source": [
    "personObj == loadObj"
   ]
  },
  {
   "cell_type": "markdown",
   "metadata": {},
   "source": [
    "# JSON Parsing"
   ]
  },
  {
   "cell_type": "code",
   "execution_count": 48,
   "metadata": {},
   "outputs": [],
   "source": [
    "import urllib.request"
   ]
  },
  {
   "cell_type": "code",
   "execution_count": 49,
   "metadata": {},
   "outputs": [],
   "source": [
    "resp = urllib.request.urlopen(\"https://jsonplaceholder.typicode.com/posts/1\")"
   ]
  },
  {
   "cell_type": "code",
   "execution_count": 50,
   "metadata": {},
   "outputs": [],
   "source": [
    "text = resp.read()"
   ]
  },
  {
   "cell_type": "code",
   "execution_count": 51,
   "metadata": {},
   "outputs": [
    {
     "data": {
      "text/plain": [
       "bytes"
      ]
     },
     "execution_count": 51,
     "metadata": {},
     "output_type": "execute_result"
    }
   ],
   "source": [
    "type(text)"
   ]
  },
  {
   "cell_type": "code",
   "execution_count": 52,
   "metadata": {},
   "outputs": [
    {
     "data": {
      "text/plain": [
       "'{\\n  \"userId\": 1,\\n  \"id\": 1,\\n  \"title\": \"sunt aut facere repellat provident occaecati excepturi optio reprehenderit\",\\n  \"body\": \"quia et suscipit\\\\nsuscipit recusandae consequuntur expedita et cum\\\\nreprehenderit molestiae ut ut quas totam\\\\nnostrum rerum est autem sunt rem eveniet architecto\"\\n}'"
      ]
     },
     "execution_count": 52,
     "metadata": {},
     "output_type": "execute_result"
    }
   ],
   "source": [
    "textStr = text.decode('utf-8')\n",
    "textStr"
   ]
  },
  {
   "cell_type": "code",
   "execution_count": 54,
   "metadata": {},
   "outputs": [],
   "source": [
    "respObj = json.loads(textStr)"
   ]
  },
  {
   "cell_type": "code",
   "execution_count": 55,
   "metadata": {},
   "outputs": [
    {
     "name": "stdout",
     "output_type": "stream",
     "text": [
      "{'userId': 1, 'id': 1, 'title': 'sunt aut facere repellat provident occaecati excepturi optio reprehenderit', 'body': 'quia et suscipit\\nsuscipit recusandae consequuntur expedita et cum\\nreprehenderit molestiae ut ut quas totam\\nnostrum rerum est autem sunt rem eveniet architecto'}\n"
     ]
    }
   ],
   "source": [
    "print(respObj)"
   ]
  },
  {
   "cell_type": "code",
   "execution_count": 56,
   "metadata": {},
   "outputs": [
    {
     "data": {
      "text/plain": [
       "'sunt aut facere repellat provident occaecati excepturi optio reprehenderit'"
      ]
     },
     "execution_count": 56,
     "metadata": {},
     "output_type": "execute_result"
    }
   ],
   "source": [
    "respObj[\"title\"]"
   ]
  },
  {
   "cell_type": "code",
   "execution_count": 60,
   "metadata": {},
   "outputs": [
    {
     "name": "stdout",
     "output_type": "stream",
     "text": [
      "userId 1\n",
      "<class 'int'>\n",
      "id 1\n",
      "<class 'int'>\n",
      "title sunt aut facere repellat provident occaecati excepturi optio reprehenderit\n",
      "<class 'str'>\n",
      "body quia et suscipit\n",
      "suscipit recusandae consequuntur expedita et cum\n",
      "reprehenderit molestiae ut ut quas totam\n",
      "nostrum rerum est autem sunt rem eveniet architecto\n",
      "<class 'str'>\n"
     ]
    }
   ],
   "source": [
    "for (k,v) in respObj.items():\n",
    "    print(k,v)\n",
    "    print(type(v))"
   ]
  },
  {
   "cell_type": "markdown",
   "metadata": {},
   "source": [
    "http://openapi.airkorea.or.kr/openapi/services/rest/ArpltnInforInqireSvc/getCtprvnRltmMesureDnsty?serviceKey=0xfE7KsqCRvly8WqAN7j%2BP3UOwr1c2n%2BO4R3yKGwmOHzgCJ7LccKci0zdNmZbQUQbt3edT3CKrl4%2BG83Xhx25A%3D%3D&numOfRows=10&pageSize=10&pageNo=1&startPage=1&sidoName=%EC%9D%B8%EC%B2%9C&ver=1.3&_returnType=json \n",
    "- 마지막에 &_returnType=json으로 하면 json결과 나온다. "
   ]
  },
  {
   "cell_type": "code",
   "execution_count": null,
   "metadata": {},
   "outputs": [],
   "source": [
    "http://openapi.airkorea.or.kr/openapi/services/rest/ArpltnInforInqireSvc/getCtprvnRltmMesureDnsty?\n",
    "    serviceKey=0xfE7KsqCRvly8WqAN7j%2BP3UOwr1c2n%2BO4R3yKGwmOHzgCJ7LccKci0zdNmZbQUQbt3edT3CKrl4%2BG83Xhx25A%3D%3D\n",
    "    &numOfRows=10\n",
    "    &pageSize=10\n",
    "    &pageNo=1\n",
    "    &startPage=1\n",
    "    &sidoName=%EC%9D%B8%EC%B2%9C\n",
    "    &ver=1.3\n",
    "    &_returnType=json"
   ]
  },
  {
   "cell_type": "code",
   "execution_count": 66,
   "metadata": {},
   "outputs": [],
   "source": [
    "params = {\"serviceKey\":\"0xfE7KsqCRvly8WqAN7j%2BP3UOwr1c2n%2BO4R3yKGwmOHzgCJ7LccKci0zdNmZbQUQbt3edT3CKrl4%2BG83Xhx25A%3D%3D\",\n",
    "          \"numOfRows\":10,\n",
    "          \"pageNo\":1,\n",
    "          \"sidoName\":None,\n",
    "          \"ver\":1.3,\n",
    "          \"_returnType\":\"json\"}"
   ]
  },
  {
   "cell_type": "code",
   "execution_count": 67,
   "metadata": {},
   "outputs": [
    {
     "data": {
      "text/plain": [
       "{'serviceKey': '0xfE7KsqCRvly8WqAN7j%2BP3UOwr1c2n%2BO4R3yKGwmOHzgCJ7LccKci0zdNmZbQUQbt3edT3CKrl4%2BG83Xhx25A%3D%3D',\n",
       " 'numOfRows': 10,\n",
       " 'pageNo': 1,\n",
       " 'sidoName': None,\n",
       " 'ver': 1.3,\n",
       " '_returnType': 'json'}"
      ]
     },
     "execution_count": 67,
     "metadata": {},
     "output_type": "execute_result"
    }
   ],
   "source": [
    "params"
   ]
  },
  {
   "cell_type": "code",
   "execution_count": 68,
   "metadata": {},
   "outputs": [],
   "source": [
    "params[\"sidoName\"] = \"경기\""
   ]
  },
  {
   "cell_type": "code",
   "execution_count": 69,
   "metadata": {},
   "outputs": [
    {
     "data": {
      "text/plain": [
       "{'serviceKey': '0xfE7KsqCRvly8WqAN7j%2BP3UOwr1c2n%2BO4R3yKGwmOHzgCJ7LccKci0zdNmZbQUQbt3edT3CKrl4%2BG83Xhx25A%3D%3D',\n",
       " 'numOfRows': 10,\n",
       " 'pageNo': 1,\n",
       " 'sidoName': '경기',\n",
       " 'ver': 1.3,\n",
       " '_returnType': 'json'}"
      ]
     },
     "execution_count": 69,
     "metadata": {},
     "output_type": "execute_result"
    }
   ],
   "source": [
    "params"
   ]
  },
  {
   "cell_type": "code",
   "execution_count": 106,
   "metadata": {},
   "outputs": [],
   "source": [
    "url = \"http://openapi.airkorea.or.kr/openapi/services/rest/ArpltnInforInqireSvc/getCtprvnRltmMesureDnsty\""
   ]
  },
  {
   "cell_type": "code",
   "execution_count": 107,
   "metadata": {},
   "outputs": [],
   "source": [
    "from urllib import parse"
   ]
  },
  {
   "cell_type": "code",
   "execution_count": 108,
   "metadata": {},
   "outputs": [],
   "source": [
    "params[\"serviceKey\"] = urllib.parse.unquote(params[\"serviceKey\"]) \n",
    "#바이트 타입을 스트링으로 변환 후 한번에 바이트 타입으로 변환할 것이다. "
   ]
  },
  {
   "cell_type": "code",
   "execution_count": 109,
   "metadata": {},
   "outputs": [],
   "source": [
    "paramURL = parse.urlencode(params) #알아서 url 생성"
   ]
  },
  {
   "cell_type": "code",
   "execution_count": 110,
   "metadata": {},
   "outputs": [
    {
     "data": {
      "text/plain": [
       "'serviceKey=0xfE7KsqCRvly8WqAN7j%2BP3UOwr1c2n%2BO4R3yKGwmOHzgCJ7LccKci0zdNmZbQUQbt3edT3CKrl4%2BG83Xhx25A%3D%3D&numOfRows=10&pageNo=1&sidoName=%EA%B2%BD%EA%B8%B0&ver=1.3&_returnType=json'"
      ]
     },
     "execution_count": 110,
     "metadata": {},
     "output_type": "execute_result"
    }
   ],
   "source": [
    "paramURL"
   ]
  },
  {
   "cell_type": "code",
   "execution_count": 111,
   "metadata": {},
   "outputs": [
    {
     "data": {
      "text/plain": [
       "str"
      ]
     },
     "execution_count": 111,
     "metadata": {},
     "output_type": "execute_result"
    }
   ],
   "source": [
    "type(paramURL)"
   ]
  },
  {
   "cell_type": "code",
   "execution_count": 112,
   "metadata": {},
   "outputs": [],
   "source": [
    "paramBytes = paramURL.encode(\"utf-8\")"
   ]
  },
  {
   "cell_type": "code",
   "execution_count": 113,
   "metadata": {},
   "outputs": [
    {
     "data": {
      "text/plain": [
       "bytes"
      ]
     },
     "execution_count": 113,
     "metadata": {},
     "output_type": "execute_result"
    }
   ],
   "source": [
    "type(paramBytes)"
   ]
  },
  {
   "cell_type": "code",
   "execution_count": 114,
   "metadata": {},
   "outputs": [
    {
     "data": {
      "text/plain": [
       "b'serviceKey=0xfE7KsqCRvly8WqAN7j%2BP3UOwr1c2n%2BO4R3yKGwmOHzgCJ7LccKci0zdNmZbQUQbt3edT3CKrl4%2BG83Xhx25A%3D%3D&numOfRows=10&pageNo=1&sidoName=%EA%B2%BD%EA%B8%B0&ver=1.3&_returnType=json'"
      ]
     },
     "execution_count": 114,
     "metadata": {},
     "output_type": "execute_result"
    }
   ],
   "source": [
    "paramBytes"
   ]
  },
  {
   "cell_type": "code",
   "execution_count": 115,
   "metadata": {},
   "outputs": [],
   "source": [
    "req = urllib.request.Request(url,data=paramBytes)"
   ]
  },
  {
   "cell_type": "code",
   "execution_count": 116,
   "metadata": {},
   "outputs": [],
   "source": [
    "res = urllib.request.urlopen(req) #response"
   ]
  },
  {
   "cell_type": "code",
   "execution_count": 117,
   "metadata": {},
   "outputs": [],
   "source": [
    "result = res.read()"
   ]
  },
  {
   "cell_type": "code",
   "execution_count": 118,
   "metadata": {},
   "outputs": [
    {
     "data": {
      "text/plain": [
       "b'{\"list\":[{\"_returnType\":\"json\",\"coGrade\":\"1\",\"coValue\":\"0.4\",\"dataTerm\":\"\",\"dataTime\":\"2018-07-13 15:00\",\"khaiGrade\":\"2\",\"khaiValue\":\"54\",\"mangName\":\"\\xeb\\x8f\\x84\\xec\\x8b\\x9c\\xeb\\x8c\\x80\\xea\\xb8\\xb0\",\"no2Grade\":\"1\",\"no2Value\":\"0.005\",\"numOfRows\":\"10\",\"o3Grade\":\"2\",\"o3Value\":\"0.035\",\"pageNo\":\"1\",\"pm10Grade\":\"1\",\"pm10Grade1h\":\"1\",\"pm10Value\":\"13\",\"pm10Value24\":\"19\",\"pm25Grade\":\"1\",\"pm25Grade1h\":\"1\",\"pm25Value\":\"9\",\"pm25Value24\":\"9\",\"resultCode\":\"\",\"resultMsg\":\"\",\"rnum\":0,\"serviceKey\":\"\",\"sidoName\":\"\",\"so2Grade\":\"1\",\"so2Value\":\"0.002\",\"stationCode\":\"\",\"stationName\":\"\\xec\\x8b\\xa0\\xed\\x92\\x8d\\xeb\\x8f\\x99\",\"totalCount\":\"\",\"ver\":\"\"},{\"_returnType\":\"json\",\"coGrade\":\"\",\"coValue\":\"-\",\"dataTerm\":\"\",\"dataTime\":\"2018-07-13 15:00\",\"khaiGrade\":\"\",\"khaiValue\":\"-\",\"mangName\":\"\\xeb\\x8f\\x84\\xec\\x8b\\x9c\\xeb\\x8c\\x80\\xea\\xb8\\xb0\",\"no2Grade\":\"\",\"no2Value\":\"-\",\"numOfRows\":\"10\",\"o3Grade\":\"\",\"o3Value\":\"-\",\"pageNo\":\"1\",\"pm10Grade\":\"1\",\"pm10Grade1h\":\"1\",\"pm10Value\":\"24\",\"pm10Value24\":\"21\",\"pm25Grade\":\"1\",\"pm25Grade1h\":\"1\",\"pm25Value\":\"14\",\"pm25Value24\":\"13\",\"resultCode\":\"\",\"resultMsg\":\"\",\"rnum\":0,\"serviceKey\":\"\",\"sidoName\":\"\",\"so2Grade\":\"\",\"so2Value\":\"-\",\"stationCode\":\"\",\"stationName\":\"\\xec\\x9d\\xb8\\xea\\xb3\\x84\\xeb\\x8f\\x99\",\"totalCount\":\"\",\"ver\":\"\"},{\"_returnType\":\"json\",\"coGrade\":\"1\",\"coValue\":\"0.5\",\"dataTerm\":\"\",\"dataTime\":\"2018-07-13 15:00\",\"khaiGrade\":\"2\",\"khaiValue\":\"61\",\"mangName\":\"\\xeb\\x8f\\x84\\xec\\x8b\\x9c\\xeb\\x8c\\x80\\xea\\xb8\\xb0\",\"no2Grade\":\"1\",\"no2Value\":\"0.011\",\"numOfRows\":\"10\",\"o3Grade\":\"2\",\"o3Value\":\"0.040\",\"pageNo\":\"1\",\"pm10Grade\":\"2\",\"pm10Grade1h\":\"2\",\"pm10Value\":\"32\",\"pm10Value24\":\"31\",\"pm25Grade\":\"2\",\"pm25Grade1h\":\"2\",\"pm25Value\":\"18\",\"pm25Value24\":\"20\",\"resultCode\":\"\",\"resultMsg\":\"\",\"rnum\":0,\"serviceKey\":\"\",\"sidoName\":\"\",\"so2Grade\":\"1\",\"so2Value\":\"0.003\",\"stationCode\":\"\",\"stationName\":\"\\xea\\xb4\\x91\\xea\\xb5\\x90\\xeb\\x8f\\x99\",\"totalCount\":\"\",\"ver\":\"\"},{\"_returnType\":\"json\",\"coGrade\":\"1\",\"coValue\":\"0.6\",\"dataTerm\":\"\",\"dataTime\":\"2018-07-13 15:00\",\"khaiGrade\":\"\",\"khaiValue\":\"-\",\"mangName\":\"\\xeb\\x8f\\x84\\xec\\x8b\\x9c\\xeb\\x8c\\x80\\xea\\xb8\\xb0\",\"no2Grade\":\"1\",\"no2Value\":\"0.009\",\"numOfRows\":\"10\",\"o3Grade\":\"1\",\"o3Value\":\"0.030\",\"pageNo\":\"1\",\"pm10Grade\":\"1\",\"pm10Grade1h\":\"1\",\"pm10Value\":\"15\",\"pm10Value24\":\"16\",\"pm25Grade\":\"\",\"pm25Grade1h\":\"\",\"pm25Value\":\"-\",\"pm25Value24\":\"-\",\"resultCode\":\"\",\"resultMsg\":\"\",\"rnum\":0,\"serviceKey\":\"\",\"sidoName\":\"\",\"so2Grade\":\"1\",\"so2Value\":\"0.003\",\"stationCode\":\"\",\"stationName\":\"\\xec\\x98\\x81\\xed\\x86\\xb5\\xeb\\x8f\\x99\",\"totalCount\":\"\",\"ver\":\"\"},{\"_returnType\":\"json\",\"coGrade\":\"1\",\"coValue\":\"0.2\",\"dataTerm\":\"\",\"dataTime\":\"2018-07-13 15:00\",\"khaiGrade\":\"1\",\"khaiValue\":\"48\",\"mangName\":\"\\xeb\\x8f\\x84\\xec\\x8b\\x9c\\xeb\\x8c\\x80\\xea\\xb8\\xb0\",\"no2Grade\":\"1\",\"no2Value\":\"0.004\",\"numOfRows\":\"10\",\"o3Grade\":\"1\",\"o3Value\":\"0.029\",\"pageNo\":\"1\",\"pm10Grade\":\"1\",\"pm10Grade1h\":\"1\",\"pm10Value\":\"5\",\"pm10Value24\":\"11\",\"pm25Grade\":\"1\",\"pm25Grade1h\":\"1\",\"pm25Value\":\"2\",\"pm25Value24\":\"5\",\"resultCode\":\"\",\"resultMsg\":\"\",\"rnum\":0,\"serviceKey\":\"\",\"sidoName\":\"\",\"so2Grade\":\"1\",\"so2Value\":\"0.003\",\"stationCode\":\"\",\"stationName\":\"\\xec\\xb2\\x9c\\xec\\xb2\\x9c\\xeb\\x8f\\x99\",\"totalCount\":\"\",\"ver\":\"\"},{\"_returnType\":\"json\",\"coGrade\":\"1\",\"coValue\":\"0.6\",\"dataTerm\":\"\",\"dataTime\":\"2018-07-13 15:00\",\"khaiGrade\":\"1\",\"khaiValue\":\"50\",\"mangName\":\"\\xeb\\x8f\\x84\\xeb\\xa1\\x9c\\xeb\\xb3\\x80\\xeb\\x8c\\x80\\xea\\xb8\\xb0\",\"no2Grade\":\"1\",\"no2Value\":\"0.030\",\"numOfRows\":\"10\",\"o3Grade\":\"1\",\"o3Value\":\"0.015\",\"pageNo\":\"1\",\"pm10Grade\":\"1\",\"pm10Grade1h\":\"2\",\"pm10Value\":\"32\",\"pm10Value24\":\"25\",\"pm25Grade\":\"1\",\"pm25Grade1h\":\"1\",\"pm25Value\":\"12\",\"pm25Value24\":\"12\",\"resultCode\":\"\",\"resultMsg\":\"\",\"rnum\":0,\"serviceKey\":\"\",\"sidoName\":\"\",\"so2Grade\":\"1\",\"so2Value\":\"0.003\",\"stationCode\":\"\",\"stationName\":\"\\xea\\xb2\\xbd\\xec\\x88\\x98\\xeb\\x8c\\x80\\xeb\\xa1\\x9c(\\xeb\\x8f\\x99\\xec\\x88\\x98\\xec\\x9b\\x90)\",\"totalCount\":\"\",\"ver\":\"\"},{\"_returnType\":\"json\",\"coGrade\":\"1\",\"coValue\":\"0.2\",\"dataTerm\":\"\",\"dataTime\":\"2018-07-13 15:00\",\"khaiGrade\":\"1\",\"khaiValue\":\"40\",\"mangName\":\"\\xeb\\x8f\\x84\\xec\\x8b\\x9c\\xeb\\x8c\\x80\\xea\\xb8\\xb0\",\"no2Grade\":\"1\",\"no2Value\":\"0.012\",\"numOfRows\":\"10\",\"o3Grade\":\"1\",\"o3Value\":\"0.024\",\"pageNo\":\"1\",\"pm10Grade\":\"1\",\"pm10Grade1h\":\"1\",\"pm10Value\":\"11\",\"pm10Value24\":\"16\",\"pm25Grade\":\"1\",\"pm25Grade1h\":\"1\",\"pm25Value\":\"2\",\"pm25Value24\":\"9\",\"resultCode\":\"\",\"resultMsg\":\"\",\"rnum\":0,\"serviceKey\":\"\",\"sidoName\":\"\",\"so2Grade\":\"1\",\"so2Value\":\"0.003\",\"stationCode\":\"\",\"stationName\":\"\\xea\\xb3\\xa0\\xec\\x83\\x89\\xeb\\x8f\\x99\",\"totalCount\":\"\",\"ver\":\"\"},{\"_returnType\":\"json\",\"coGrade\":\"1\",\"coValue\":\"0.5\",\"dataTerm\":\"\",\"dataTime\":\"2018-07-13 15:00\",\"khaiGrade\":\"\",\"khaiValue\":\"-\",\"mangName\":\"\\xeb\\x8f\\x84\\xeb\\xa1\\x9c\\xeb\\xb3\\x80\\xeb\\x8c\\x80\\xea\\xb8\\xb0\",\"no2Grade\":\"1\",\"no2Value\":\"0.021\",\"numOfRows\":\"10\",\"o3Grade\":\"\",\"o3Value\":\"-\",\"pageNo\":\"1\",\"pm10Grade\":\"1\",\"pm10Grade1h\":\"1\",\"pm10Value\":\"24\",\"pm10Value24\":\"23\",\"pm25Grade\":\"\",\"pm25Grade1h\":\"\",\"pm25Value\":\"-\",\"pm25Value24\":\"-\",\"resultCode\":\"\",\"resultMsg\":\"\",\"rnum\":0,\"serviceKey\":\"\",\"sidoName\":\"\",\"so2Grade\":\"1\",\"so2Value\":\"0.005\",\"stationCode\":\"\",\"stationName\":\"\\xeb\\x8c\\x80\\xec\\x99\\x95\\xed\\x8c\\x90\\xea\\xb5\\x90\\xeb\\xa1\\x9c(\\xeb\\xb0\\xb1\\xed\\x98\\x84\\xeb\\x8f\\x99)\",\"totalCount\":\"\",\"ver\":\"\"},{\"_returnType\":\"json\",\"coGrade\":\"1\",\"coValue\":\"0.3\",\"dataTerm\":\"\",\"dataTime\":\"2018-07-13 15:00\",\"khaiGrade\":\"2\",\"khaiValue\":\"60\",\"mangName\":\"\\xeb\\x8f\\x84\\xec\\x8b\\x9c\\xeb\\x8c\\x80\\xea\\xb8\\xb0\",\"no2Grade\":\"1\",\"no2Value\":\"0.011\",\"numOfRows\":\"10\",\"o3Grade\":\"2\",\"o3Value\":\"0.042\",\"pageNo\":\"1\",\"pm10Grade\":\"1\",\"pm10Grade1h\":\"2\",\"pm10Value\":\"31\",\"pm10Value24\":\"22\",\"pm25Grade\":\"1\",\"pm25Grade1h\":\"1\",\"pm25Value\":\"9\",\"pm25Value24\":\"10\",\"resultCode\":\"\",\"resultMsg\":\"\",\"rnum\":0,\"serviceKey\":\"\",\"sidoName\":\"\",\"so2Grade\":\"1\",\"so2Value\":\"0.003\",\"stationCode\":\"\",\"stationName\":\"\\xeb\\x8b\\xa8\\xeb\\x8c\\x80\\xeb\\x8f\\x99\",\"totalCount\":\"\",\"ver\":\"\"},{\"_returnType\":\"json\",\"coGrade\":\"1\",\"coValue\":\"0.2\",\"dataTerm\":\"\",\"dataTime\":\"2018-07-13 15:00\",\"khaiGrade\":\"2\",\"khaiValue\":\"54\",\"mangName\":\"\\xeb\\x8f\\x84\\xec\\x8b\\x9c\\xeb\\x8c\\x80\\xea\\xb8\\xb0\",\"no2Grade\":\"1\",\"no2Value\":\"0.010\",\"numOfRows\":\"10\",\"o3Grade\":\"2\",\"o3Value\":\"0.035\",\"pageNo\":\"1\",\"pm10Grade\":\"1\",\"pm10Grade1h\":\"1\",\"pm10Value\":\"21\",\"pm10Value24\":\"19\",\"pm25Grade\":\"1\",\"pm25Grade1h\":\"2\",\"pm25Value\":\"20\",\"pm25Value24\":\"11\",\"resultCode\":\"\",\"resultMsg\":\"\",\"rnum\":0,\"serviceKey\":\"\",\"sidoName\":\"\",\"so2Grade\":\"1\",\"so2Value\":\"0.002\",\"stationCode\":\"\",\"stationName\":\"\\xec\\x88\\x98\\xeb\\x82\\xb4\\xeb\\x8f\\x99\",\"totalCount\":\"\",\"ver\":\"\"}],\"parm\":{\"_returnType\":\"json\",\"coGrade\":\"\",\"coValue\":\"\",\"dataTerm\":\"\",\"dataTime\":\"\",\"khaiGrade\":\"\",\"khaiValue\":\"\",\"mangName\":\"\",\"no2Grade\":\"\",\"no2Value\":\"\",\"numOfRows\":\"10\",\"o3Grade\":\"\",\"o3Value\":\"\",\"pageNo\":\"1\",\"pm10Grade\":\"\",\"pm10Grade1h\":\"\",\"pm10Value\":\"\",\"pm10Value24\":\"\",\"pm25Grade\":\"\",\"pm25Grade1h\":\"\",\"pm25Value\":\"\",\"pm25Value24\":\"\",\"resultCode\":\"\",\"resultMsg\":\"\",\"rnum\":0,\"serviceKey\":\"0xfE7KsqCRvly8WqAN7j+P3UOwr1c2n+O4R3yKGwmOHzgCJ7LccKci0zdNmZbQUQbt3edT3CKrl4+G83Xhx25A==\",\"sidoName\":\"\\xea\\xb2\\xbd\\xea\\xb8\\xb0\",\"so2Grade\":\"\",\"so2Value\":\"\",\"stationCode\":\"\",\"stationName\":\"\",\"totalCount\":\"\",\"ver\":\"1.3\"},\"ArpltnInforInqireSvcVo\":{\"_returnType\":\"json\",\"coGrade\":\"\",\"coValue\":\"\",\"dataTerm\":\"\",\"dataTime\":\"\",\"khaiGrade\":\"\",\"khaiValue\":\"\",\"mangName\":\"\",\"no2Grade\":\"\",\"no2Value\":\"\",\"numOfRows\":\"10\",\"o3Grade\":\"\",\"o3Value\":\"\",\"pageNo\":\"1\",\"pm10Grade\":\"\",\"pm10Grade1h\":\"\",\"pm10Value\":\"\",\"pm10Value24\":\"\",\"pm25Grade\":\"\",\"pm25Grade1h\":\"\",\"pm25Value\":\"\",\"pm25Value24\":\"\",\"resultCode\":\"\",\"resultMsg\":\"\",\"rnum\":0,\"serviceKey\":\"0xfE7KsqCRvly8WqAN7j+P3UOwr1c2n+O4R3yKGwmOHzgCJ7LccKci0zdNmZbQUQbt3edT3CKrl4+G83Xhx25A==\",\"sidoName\":\"\\xea\\xb2\\xbd\\xea\\xb8\\xb0\",\"so2Grade\":\"\",\"so2Value\":\"\",\"stationCode\":\"\",\"stationName\":\"\",\"totalCount\":\"\",\"ver\":\"1.3\"},\"totalCount\":86}'"
      ]
     },
     "execution_count": 118,
     "metadata": {},
     "output_type": "execute_result"
    }
   ],
   "source": [
    "result"
   ]
  },
  {
   "cell_type": "markdown",
   "metadata": {},
   "source": [
    "###### 서비스 키가 다르다.\n",
    "- 원래의 서비스 키는 바이트 형식인데 그것을 다시 또 바이트로 변환하였기 때문"
   ]
  },
  {
   "cell_type": "code",
   "execution_count": 119,
   "metadata": {},
   "outputs": [
    {
     "data": {
      "text/plain": [
       "False"
      ]
     },
     "execution_count": 119,
     "metadata": {},
     "output_type": "execute_result"
    }
   ],
   "source": [
    "params[\"serviceKey\"] == \"0xfE7KsqCRvly8WqAN7j%2BP3UOwr1c2n%2BO4R3yKGwmOHzgCJ7LccKci0zdNmZbQUQbt3edT3CKrl4%2BG83Xhx25A%3D%3D\""
   ]
  },
  {
   "cell_type": "code",
   "execution_count": 120,
   "metadata": {},
   "outputs": [
    {
     "data": {
      "text/plain": [
       "bytes"
      ]
     },
     "execution_count": 120,
     "metadata": {},
     "output_type": "execute_result"
    }
   ],
   "source": [
    "type(result)"
   ]
  },
  {
   "cell_type": "code",
   "execution_count": 121,
   "metadata": {},
   "outputs": [],
   "source": [
    "resultStr = result.decode(\"utf-8\")"
   ]
  },
  {
   "cell_type": "code",
   "execution_count": 123,
   "metadata": {},
   "outputs": [
    {
     "data": {
      "text/plain": [
       "str"
      ]
     },
     "execution_count": 123,
     "metadata": {},
     "output_type": "execute_result"
    }
   ],
   "source": [
    "type(resultStr)"
   ]
  },
  {
   "cell_type": "code",
   "execution_count": 124,
   "metadata": {},
   "outputs": [],
   "source": [
    "resultObj = json.loads(resultStr)"
   ]
  },
  {
   "cell_type": "code",
   "execution_count": 125,
   "metadata": {},
   "outputs": [
    {
     "data": {
      "text/plain": [
       "[{'_returnType': 'json',\n",
       "  'coGrade': '1',\n",
       "  'coValue': '0.4',\n",
       "  'dataTerm': '',\n",
       "  'dataTime': '2018-07-13 15:00',\n",
       "  'khaiGrade': '2',\n",
       "  'khaiValue': '54',\n",
       "  'mangName': '도시대기',\n",
       "  'no2Grade': '1',\n",
       "  'no2Value': '0.005',\n",
       "  'numOfRows': '10',\n",
       "  'o3Grade': '2',\n",
       "  'o3Value': '0.035',\n",
       "  'pageNo': '1',\n",
       "  'pm10Grade': '1',\n",
       "  'pm10Grade1h': '1',\n",
       "  'pm10Value': '13',\n",
       "  'pm10Value24': '19',\n",
       "  'pm25Grade': '1',\n",
       "  'pm25Grade1h': '1',\n",
       "  'pm25Value': '9',\n",
       "  'pm25Value24': '9',\n",
       "  'resultCode': '',\n",
       "  'resultMsg': '',\n",
       "  'rnum': 0,\n",
       "  'serviceKey': '',\n",
       "  'sidoName': '',\n",
       "  'so2Grade': '1',\n",
       "  'so2Value': '0.002',\n",
       "  'stationCode': '',\n",
       "  'stationName': '신풍동',\n",
       "  'totalCount': '',\n",
       "  'ver': ''},\n",
       " {'_returnType': 'json',\n",
       "  'coGrade': '',\n",
       "  'coValue': '-',\n",
       "  'dataTerm': '',\n",
       "  'dataTime': '2018-07-13 15:00',\n",
       "  'khaiGrade': '',\n",
       "  'khaiValue': '-',\n",
       "  'mangName': '도시대기',\n",
       "  'no2Grade': '',\n",
       "  'no2Value': '-',\n",
       "  'numOfRows': '10',\n",
       "  'o3Grade': '',\n",
       "  'o3Value': '-',\n",
       "  'pageNo': '1',\n",
       "  'pm10Grade': '1',\n",
       "  'pm10Grade1h': '1',\n",
       "  'pm10Value': '24',\n",
       "  'pm10Value24': '21',\n",
       "  'pm25Grade': '1',\n",
       "  'pm25Grade1h': '1',\n",
       "  'pm25Value': '14',\n",
       "  'pm25Value24': '13',\n",
       "  'resultCode': '',\n",
       "  'resultMsg': '',\n",
       "  'rnum': 0,\n",
       "  'serviceKey': '',\n",
       "  'sidoName': '',\n",
       "  'so2Grade': '',\n",
       "  'so2Value': '-',\n",
       "  'stationCode': '',\n",
       "  'stationName': '인계동',\n",
       "  'totalCount': '',\n",
       "  'ver': ''},\n",
       " {'_returnType': 'json',\n",
       "  'coGrade': '1',\n",
       "  'coValue': '0.5',\n",
       "  'dataTerm': '',\n",
       "  'dataTime': '2018-07-13 15:00',\n",
       "  'khaiGrade': '2',\n",
       "  'khaiValue': '61',\n",
       "  'mangName': '도시대기',\n",
       "  'no2Grade': '1',\n",
       "  'no2Value': '0.011',\n",
       "  'numOfRows': '10',\n",
       "  'o3Grade': '2',\n",
       "  'o3Value': '0.040',\n",
       "  'pageNo': '1',\n",
       "  'pm10Grade': '2',\n",
       "  'pm10Grade1h': '2',\n",
       "  'pm10Value': '32',\n",
       "  'pm10Value24': '31',\n",
       "  'pm25Grade': '2',\n",
       "  'pm25Grade1h': '2',\n",
       "  'pm25Value': '18',\n",
       "  'pm25Value24': '20',\n",
       "  'resultCode': '',\n",
       "  'resultMsg': '',\n",
       "  'rnum': 0,\n",
       "  'serviceKey': '',\n",
       "  'sidoName': '',\n",
       "  'so2Grade': '1',\n",
       "  'so2Value': '0.003',\n",
       "  'stationCode': '',\n",
       "  'stationName': '광교동',\n",
       "  'totalCount': '',\n",
       "  'ver': ''},\n",
       " {'_returnType': 'json',\n",
       "  'coGrade': '1',\n",
       "  'coValue': '0.6',\n",
       "  'dataTerm': '',\n",
       "  'dataTime': '2018-07-13 15:00',\n",
       "  'khaiGrade': '',\n",
       "  'khaiValue': '-',\n",
       "  'mangName': '도시대기',\n",
       "  'no2Grade': '1',\n",
       "  'no2Value': '0.009',\n",
       "  'numOfRows': '10',\n",
       "  'o3Grade': '1',\n",
       "  'o3Value': '0.030',\n",
       "  'pageNo': '1',\n",
       "  'pm10Grade': '1',\n",
       "  'pm10Grade1h': '1',\n",
       "  'pm10Value': '15',\n",
       "  'pm10Value24': '16',\n",
       "  'pm25Grade': '',\n",
       "  'pm25Grade1h': '',\n",
       "  'pm25Value': '-',\n",
       "  'pm25Value24': '-',\n",
       "  'resultCode': '',\n",
       "  'resultMsg': '',\n",
       "  'rnum': 0,\n",
       "  'serviceKey': '',\n",
       "  'sidoName': '',\n",
       "  'so2Grade': '1',\n",
       "  'so2Value': '0.003',\n",
       "  'stationCode': '',\n",
       "  'stationName': '영통동',\n",
       "  'totalCount': '',\n",
       "  'ver': ''},\n",
       " {'_returnType': 'json',\n",
       "  'coGrade': '1',\n",
       "  'coValue': '0.2',\n",
       "  'dataTerm': '',\n",
       "  'dataTime': '2018-07-13 15:00',\n",
       "  'khaiGrade': '1',\n",
       "  'khaiValue': '48',\n",
       "  'mangName': '도시대기',\n",
       "  'no2Grade': '1',\n",
       "  'no2Value': '0.004',\n",
       "  'numOfRows': '10',\n",
       "  'o3Grade': '1',\n",
       "  'o3Value': '0.029',\n",
       "  'pageNo': '1',\n",
       "  'pm10Grade': '1',\n",
       "  'pm10Grade1h': '1',\n",
       "  'pm10Value': '5',\n",
       "  'pm10Value24': '11',\n",
       "  'pm25Grade': '1',\n",
       "  'pm25Grade1h': '1',\n",
       "  'pm25Value': '2',\n",
       "  'pm25Value24': '5',\n",
       "  'resultCode': '',\n",
       "  'resultMsg': '',\n",
       "  'rnum': 0,\n",
       "  'serviceKey': '',\n",
       "  'sidoName': '',\n",
       "  'so2Grade': '1',\n",
       "  'so2Value': '0.003',\n",
       "  'stationCode': '',\n",
       "  'stationName': '천천동',\n",
       "  'totalCount': '',\n",
       "  'ver': ''},\n",
       " {'_returnType': 'json',\n",
       "  'coGrade': '1',\n",
       "  'coValue': '0.6',\n",
       "  'dataTerm': '',\n",
       "  'dataTime': '2018-07-13 15:00',\n",
       "  'khaiGrade': '1',\n",
       "  'khaiValue': '50',\n",
       "  'mangName': '도로변대기',\n",
       "  'no2Grade': '1',\n",
       "  'no2Value': '0.030',\n",
       "  'numOfRows': '10',\n",
       "  'o3Grade': '1',\n",
       "  'o3Value': '0.015',\n",
       "  'pageNo': '1',\n",
       "  'pm10Grade': '1',\n",
       "  'pm10Grade1h': '2',\n",
       "  'pm10Value': '32',\n",
       "  'pm10Value24': '25',\n",
       "  'pm25Grade': '1',\n",
       "  'pm25Grade1h': '1',\n",
       "  'pm25Value': '12',\n",
       "  'pm25Value24': '12',\n",
       "  'resultCode': '',\n",
       "  'resultMsg': '',\n",
       "  'rnum': 0,\n",
       "  'serviceKey': '',\n",
       "  'sidoName': '',\n",
       "  'so2Grade': '1',\n",
       "  'so2Value': '0.003',\n",
       "  'stationCode': '',\n",
       "  'stationName': '경수대로(동수원)',\n",
       "  'totalCount': '',\n",
       "  'ver': ''},\n",
       " {'_returnType': 'json',\n",
       "  'coGrade': '1',\n",
       "  'coValue': '0.2',\n",
       "  'dataTerm': '',\n",
       "  'dataTime': '2018-07-13 15:00',\n",
       "  'khaiGrade': '1',\n",
       "  'khaiValue': '40',\n",
       "  'mangName': '도시대기',\n",
       "  'no2Grade': '1',\n",
       "  'no2Value': '0.012',\n",
       "  'numOfRows': '10',\n",
       "  'o3Grade': '1',\n",
       "  'o3Value': '0.024',\n",
       "  'pageNo': '1',\n",
       "  'pm10Grade': '1',\n",
       "  'pm10Grade1h': '1',\n",
       "  'pm10Value': '11',\n",
       "  'pm10Value24': '16',\n",
       "  'pm25Grade': '1',\n",
       "  'pm25Grade1h': '1',\n",
       "  'pm25Value': '2',\n",
       "  'pm25Value24': '9',\n",
       "  'resultCode': '',\n",
       "  'resultMsg': '',\n",
       "  'rnum': 0,\n",
       "  'serviceKey': '',\n",
       "  'sidoName': '',\n",
       "  'so2Grade': '1',\n",
       "  'so2Value': '0.003',\n",
       "  'stationCode': '',\n",
       "  'stationName': '고색동',\n",
       "  'totalCount': '',\n",
       "  'ver': ''},\n",
       " {'_returnType': 'json',\n",
       "  'coGrade': '1',\n",
       "  'coValue': '0.5',\n",
       "  'dataTerm': '',\n",
       "  'dataTime': '2018-07-13 15:00',\n",
       "  'khaiGrade': '',\n",
       "  'khaiValue': '-',\n",
       "  'mangName': '도로변대기',\n",
       "  'no2Grade': '1',\n",
       "  'no2Value': '0.021',\n",
       "  'numOfRows': '10',\n",
       "  'o3Grade': '',\n",
       "  'o3Value': '-',\n",
       "  'pageNo': '1',\n",
       "  'pm10Grade': '1',\n",
       "  'pm10Grade1h': '1',\n",
       "  'pm10Value': '24',\n",
       "  'pm10Value24': '23',\n",
       "  'pm25Grade': '',\n",
       "  'pm25Grade1h': '',\n",
       "  'pm25Value': '-',\n",
       "  'pm25Value24': '-',\n",
       "  'resultCode': '',\n",
       "  'resultMsg': '',\n",
       "  'rnum': 0,\n",
       "  'serviceKey': '',\n",
       "  'sidoName': '',\n",
       "  'so2Grade': '1',\n",
       "  'so2Value': '0.005',\n",
       "  'stationCode': '',\n",
       "  'stationName': '대왕판교로(백현동)',\n",
       "  'totalCount': '',\n",
       "  'ver': ''},\n",
       " {'_returnType': 'json',\n",
       "  'coGrade': '1',\n",
       "  'coValue': '0.3',\n",
       "  'dataTerm': '',\n",
       "  'dataTime': '2018-07-13 15:00',\n",
       "  'khaiGrade': '2',\n",
       "  'khaiValue': '60',\n",
       "  'mangName': '도시대기',\n",
       "  'no2Grade': '1',\n",
       "  'no2Value': '0.011',\n",
       "  'numOfRows': '10',\n",
       "  'o3Grade': '2',\n",
       "  'o3Value': '0.042',\n",
       "  'pageNo': '1',\n",
       "  'pm10Grade': '1',\n",
       "  'pm10Grade1h': '2',\n",
       "  'pm10Value': '31',\n",
       "  'pm10Value24': '22',\n",
       "  'pm25Grade': '1',\n",
       "  'pm25Grade1h': '1',\n",
       "  'pm25Value': '9',\n",
       "  'pm25Value24': '10',\n",
       "  'resultCode': '',\n",
       "  'resultMsg': '',\n",
       "  'rnum': 0,\n",
       "  'serviceKey': '',\n",
       "  'sidoName': '',\n",
       "  'so2Grade': '1',\n",
       "  'so2Value': '0.003',\n",
       "  'stationCode': '',\n",
       "  'stationName': '단대동',\n",
       "  'totalCount': '',\n",
       "  'ver': ''},\n",
       " {'_returnType': 'json',\n",
       "  'coGrade': '1',\n",
       "  'coValue': '0.2',\n",
       "  'dataTerm': '',\n",
       "  'dataTime': '2018-07-13 15:00',\n",
       "  'khaiGrade': '2',\n",
       "  'khaiValue': '54',\n",
       "  'mangName': '도시대기',\n",
       "  'no2Grade': '1',\n",
       "  'no2Value': '0.010',\n",
       "  'numOfRows': '10',\n",
       "  'o3Grade': '2',\n",
       "  'o3Value': '0.035',\n",
       "  'pageNo': '1',\n",
       "  'pm10Grade': '1',\n",
       "  'pm10Grade1h': '1',\n",
       "  'pm10Value': '21',\n",
       "  'pm10Value24': '19',\n",
       "  'pm25Grade': '1',\n",
       "  'pm25Grade1h': '2',\n",
       "  'pm25Value': '20',\n",
       "  'pm25Value24': '11',\n",
       "  'resultCode': '',\n",
       "  'resultMsg': '',\n",
       "  'rnum': 0,\n",
       "  'serviceKey': '',\n",
       "  'sidoName': '',\n",
       "  'so2Grade': '1',\n",
       "  'so2Value': '0.002',\n",
       "  'stationCode': '',\n",
       "  'stationName': '수내동',\n",
       "  'totalCount': '',\n",
       "  'ver': ''}]"
      ]
     },
     "execution_count": 125,
     "metadata": {},
     "output_type": "execute_result"
    }
   ],
   "source": [
    "resultObj[\"list\"]"
   ]
  },
  {
   "cell_type": "code",
   "execution_count": 126,
   "metadata": {},
   "outputs": [
    {
     "name": "stdout",
     "output_type": "stream",
     "text": [
      "list [{'_returnType': 'json', 'coGrade': '1', 'coValue': '0.4', 'dataTerm': '', 'dataTime': '2018-07-13 15:00', 'khaiGrade': '2', 'khaiValue': '54', 'mangName': '도시대기', 'no2Grade': '1', 'no2Value': '0.005', 'numOfRows': '10', 'o3Grade': '2', 'o3Value': '0.035', 'pageNo': '1', 'pm10Grade': '1', 'pm10Grade1h': '1', 'pm10Value': '13', 'pm10Value24': '19', 'pm25Grade': '1', 'pm25Grade1h': '1', 'pm25Value': '9', 'pm25Value24': '9', 'resultCode': '', 'resultMsg': '', 'rnum': 0, 'serviceKey': '', 'sidoName': '', 'so2Grade': '1', 'so2Value': '0.002', 'stationCode': '', 'stationName': '신풍동', 'totalCount': '', 'ver': ''}, {'_returnType': 'json', 'coGrade': '', 'coValue': '-', 'dataTerm': '', 'dataTime': '2018-07-13 15:00', 'khaiGrade': '', 'khaiValue': '-', 'mangName': '도시대기', 'no2Grade': '', 'no2Value': '-', 'numOfRows': '10', 'o3Grade': '', 'o3Value': '-', 'pageNo': '1', 'pm10Grade': '1', 'pm10Grade1h': '1', 'pm10Value': '24', 'pm10Value24': '21', 'pm25Grade': '1', 'pm25Grade1h': '1', 'pm25Value': '14', 'pm25Value24': '13', 'resultCode': '', 'resultMsg': '', 'rnum': 0, 'serviceKey': '', 'sidoName': '', 'so2Grade': '', 'so2Value': '-', 'stationCode': '', 'stationName': '인계동', 'totalCount': '', 'ver': ''}, {'_returnType': 'json', 'coGrade': '1', 'coValue': '0.5', 'dataTerm': '', 'dataTime': '2018-07-13 15:00', 'khaiGrade': '2', 'khaiValue': '61', 'mangName': '도시대기', 'no2Grade': '1', 'no2Value': '0.011', 'numOfRows': '10', 'o3Grade': '2', 'o3Value': '0.040', 'pageNo': '1', 'pm10Grade': '2', 'pm10Grade1h': '2', 'pm10Value': '32', 'pm10Value24': '31', 'pm25Grade': '2', 'pm25Grade1h': '2', 'pm25Value': '18', 'pm25Value24': '20', 'resultCode': '', 'resultMsg': '', 'rnum': 0, 'serviceKey': '', 'sidoName': '', 'so2Grade': '1', 'so2Value': '0.003', 'stationCode': '', 'stationName': '광교동', 'totalCount': '', 'ver': ''}, {'_returnType': 'json', 'coGrade': '1', 'coValue': '0.6', 'dataTerm': '', 'dataTime': '2018-07-13 15:00', 'khaiGrade': '', 'khaiValue': '-', 'mangName': '도시대기', 'no2Grade': '1', 'no2Value': '0.009', 'numOfRows': '10', 'o3Grade': '1', 'o3Value': '0.030', 'pageNo': '1', 'pm10Grade': '1', 'pm10Grade1h': '1', 'pm10Value': '15', 'pm10Value24': '16', 'pm25Grade': '', 'pm25Grade1h': '', 'pm25Value': '-', 'pm25Value24': '-', 'resultCode': '', 'resultMsg': '', 'rnum': 0, 'serviceKey': '', 'sidoName': '', 'so2Grade': '1', 'so2Value': '0.003', 'stationCode': '', 'stationName': '영통동', 'totalCount': '', 'ver': ''}, {'_returnType': 'json', 'coGrade': '1', 'coValue': '0.2', 'dataTerm': '', 'dataTime': '2018-07-13 15:00', 'khaiGrade': '1', 'khaiValue': '48', 'mangName': '도시대기', 'no2Grade': '1', 'no2Value': '0.004', 'numOfRows': '10', 'o3Grade': '1', 'o3Value': '0.029', 'pageNo': '1', 'pm10Grade': '1', 'pm10Grade1h': '1', 'pm10Value': '5', 'pm10Value24': '11', 'pm25Grade': '1', 'pm25Grade1h': '1', 'pm25Value': '2', 'pm25Value24': '5', 'resultCode': '', 'resultMsg': '', 'rnum': 0, 'serviceKey': '', 'sidoName': '', 'so2Grade': '1', 'so2Value': '0.003', 'stationCode': '', 'stationName': '천천동', 'totalCount': '', 'ver': ''}, {'_returnType': 'json', 'coGrade': '1', 'coValue': '0.6', 'dataTerm': '', 'dataTime': '2018-07-13 15:00', 'khaiGrade': '1', 'khaiValue': '50', 'mangName': '도로변대기', 'no2Grade': '1', 'no2Value': '0.030', 'numOfRows': '10', 'o3Grade': '1', 'o3Value': '0.015', 'pageNo': '1', 'pm10Grade': '1', 'pm10Grade1h': '2', 'pm10Value': '32', 'pm10Value24': '25', 'pm25Grade': '1', 'pm25Grade1h': '1', 'pm25Value': '12', 'pm25Value24': '12', 'resultCode': '', 'resultMsg': '', 'rnum': 0, 'serviceKey': '', 'sidoName': '', 'so2Grade': '1', 'so2Value': '0.003', 'stationCode': '', 'stationName': '경수대로(동수원)', 'totalCount': '', 'ver': ''}, {'_returnType': 'json', 'coGrade': '1', 'coValue': '0.2', 'dataTerm': '', 'dataTime': '2018-07-13 15:00', 'khaiGrade': '1', 'khaiValue': '40', 'mangName': '도시대기', 'no2Grade': '1', 'no2Value': '0.012', 'numOfRows': '10', 'o3Grade': '1', 'o3Value': '0.024', 'pageNo': '1', 'pm10Grade': '1', 'pm10Grade1h': '1', 'pm10Value': '11', 'pm10Value24': '16', 'pm25Grade': '1', 'pm25Grade1h': '1', 'pm25Value': '2', 'pm25Value24': '9', 'resultCode': '', 'resultMsg': '', 'rnum': 0, 'serviceKey': '', 'sidoName': '', 'so2Grade': '1', 'so2Value': '0.003', 'stationCode': '', 'stationName': '고색동', 'totalCount': '', 'ver': ''}, {'_returnType': 'json', 'coGrade': '1', 'coValue': '0.5', 'dataTerm': '', 'dataTime': '2018-07-13 15:00', 'khaiGrade': '', 'khaiValue': '-', 'mangName': '도로변대기', 'no2Grade': '1', 'no2Value': '0.021', 'numOfRows': '10', 'o3Grade': '', 'o3Value': '-', 'pageNo': '1', 'pm10Grade': '1', 'pm10Grade1h': '1', 'pm10Value': '24', 'pm10Value24': '23', 'pm25Grade': '', 'pm25Grade1h': '', 'pm25Value': '-', 'pm25Value24': '-', 'resultCode': '', 'resultMsg': '', 'rnum': 0, 'serviceKey': '', 'sidoName': '', 'so2Grade': '1', 'so2Value': '0.005', 'stationCode': '', 'stationName': '대왕판교로(백현동)', 'totalCount': '', 'ver': ''}, {'_returnType': 'json', 'coGrade': '1', 'coValue': '0.3', 'dataTerm': '', 'dataTime': '2018-07-13 15:00', 'khaiGrade': '2', 'khaiValue': '60', 'mangName': '도시대기', 'no2Grade': '1', 'no2Value': '0.011', 'numOfRows': '10', 'o3Grade': '2', 'o3Value': '0.042', 'pageNo': '1', 'pm10Grade': '1', 'pm10Grade1h': '2', 'pm10Value': '31', 'pm10Value24': '22', 'pm25Grade': '1', 'pm25Grade1h': '1', 'pm25Value': '9', 'pm25Value24': '10', 'resultCode': '', 'resultMsg': '', 'rnum': 0, 'serviceKey': '', 'sidoName': '', 'so2Grade': '1', 'so2Value': '0.003', 'stationCode': '', 'stationName': '단대동', 'totalCount': '', 'ver': ''}, {'_returnType': 'json', 'coGrade': '1', 'coValue': '0.2', 'dataTerm': '', 'dataTime': '2018-07-13 15:00', 'khaiGrade': '2', 'khaiValue': '54', 'mangName': '도시대기', 'no2Grade': '1', 'no2Value': '0.010', 'numOfRows': '10', 'o3Grade': '2', 'o3Value': '0.035', 'pageNo': '1', 'pm10Grade': '1', 'pm10Grade1h': '1', 'pm10Value': '21', 'pm10Value24': '19', 'pm25Grade': '1', 'pm25Grade1h': '2', 'pm25Value': '20', 'pm25Value24': '11', 'resultCode': '', 'resultMsg': '', 'rnum': 0, 'serviceKey': '', 'sidoName': '', 'so2Grade': '1', 'so2Value': '0.002', 'stationCode': '', 'stationName': '수내동', 'totalCount': '', 'ver': ''}]\n",
      "parm {'_returnType': 'json', 'coGrade': '', 'coValue': '', 'dataTerm': '', 'dataTime': '', 'khaiGrade': '', 'khaiValue': '', 'mangName': '', 'no2Grade': '', 'no2Value': '', 'numOfRows': '10', 'o3Grade': '', 'o3Value': '', 'pageNo': '1', 'pm10Grade': '', 'pm10Grade1h': '', 'pm10Value': '', 'pm10Value24': '', 'pm25Grade': '', 'pm25Grade1h': '', 'pm25Value': '', 'pm25Value24': '', 'resultCode': '', 'resultMsg': '', 'rnum': 0, 'serviceKey': '0xfE7KsqCRvly8WqAN7j+P3UOwr1c2n+O4R3yKGwmOHzgCJ7LccKci0zdNmZbQUQbt3edT3CKrl4+G83Xhx25A==', 'sidoName': '경기', 'so2Grade': '', 'so2Value': '', 'stationCode': '', 'stationName': '', 'totalCount': '', 'ver': '1.3'}\n",
      "ArpltnInforInqireSvcVo {'_returnType': 'json', 'coGrade': '', 'coValue': '', 'dataTerm': '', 'dataTime': '', 'khaiGrade': '', 'khaiValue': '', 'mangName': '', 'no2Grade': '', 'no2Value': '', 'numOfRows': '10', 'o3Grade': '', 'o3Value': '', 'pageNo': '1', 'pm10Grade': '', 'pm10Grade1h': '', 'pm10Value': '', 'pm10Value24': '', 'pm25Grade': '', 'pm25Grade1h': '', 'pm25Value': '', 'pm25Value24': '', 'resultCode': '', 'resultMsg': '', 'rnum': 0, 'serviceKey': '0xfE7KsqCRvly8WqAN7j+P3UOwr1c2n+O4R3yKGwmOHzgCJ7LccKci0zdNmZbQUQbt3edT3CKrl4+G83Xhx25A==', 'sidoName': '경기', 'so2Grade': '', 'so2Value': '', 'stationCode': '', 'stationName': '', 'totalCount': '', 'ver': '1.3'}\n",
      "totalCount 86\n"
     ]
    }
   ],
   "source": [
    "for (k,v) in resultObj.items():\n",
    "    print(k,v)"
   ]
  },
  {
   "cell_type": "markdown",
   "metadata": {},
   "source": [
    "### 실습"
   ]
  },
  {
   "cell_type": "markdown",
   "metadata": {},
   "source": [
    "#### 과정\n",
    "1. 파라미터 생성 params\n",
    "* 시도이름 설정 sidoName\n",
    "* 파라미터 전 url을 설정 url\n",
    "* 파라미터와 연결 \n",
    " 1. 서비스키가 이미 바이트 이므로 이를 스트링으로 변환 urllib.parse.unquote\n",
    " 2. 파라미터와 서비스키가 저장된 파라미터 리스트를 url로 변환 parse.urlencode\n",
    " 3. url을 바이트로 변환 paramURL.encode(\"utf-8\")\n",
    "* 리퀘스트 urllib.request.Request(url,data=paramBytes)\n",
    "6. 대답을 받는다. urllib.request.urlopen(req)\n",
    "7. 읽는다. res.read()\n",
    "* 바이트로 되어있는 것을 디코드해서 스트링으로 변환 result.decode(\"utf-8\")\n",
    "* json 파일로 변환 json.loads(resultStr)\n",
    "\n",
    "__웹에서는 모든 파일이 바이트로 연결된다.__"
   ]
  },
  {
   "cell_type": "code",
   "execution_count": 128,
   "metadata": {},
   "outputs": [],
   "source": [
    "params = {\"serviceKey\":\"0xfE7KsqCRvly8WqAN7j%2BP3UOwr1c2n%2BO4R3yKGwmOHzgCJ7LccKci0zdNmZbQUQbt3edT3CKrl4%2BG83Xhx25A%3D%3D\",\n",
    "          \"numOfRows\":10,\n",
    "          \"pageNo\":1,\n",
    "          \"sidoName\":None,\n",
    "          \"searchCondition\":\"DAILY\",\n",
    "          \"ver\":1.3,\n",
    "          \"_returnType\":\"json\"}"
   ]
  },
  {
   "cell_type": "code",
   "execution_count": 129,
   "metadata": {},
   "outputs": [],
   "source": [
    "params[\"sidoName\"] = \"서울\""
   ]
  },
  {
   "cell_type": "code",
   "execution_count": 130,
   "metadata": {},
   "outputs": [],
   "source": [
    "url = \"http://openapi.airkorea.or.kr/openapi/services/rest/ArpltnInforInqireSvc/getCtprvnMesureSidoLIst\""
   ]
  },
  {
   "cell_type": "code",
   "execution_count": 131,
   "metadata": {},
   "outputs": [],
   "source": [
    "from urllib import parse\n",
    "params[\"serviceKey\"] = urllib.parse.unquote(params[\"serviceKey\"]) \n",
    "paramURL = parse.urlencode(params) #알아서 url 생성\n",
    "paramBytes = paramURL.encode(\"utf-8\")\n",
    "req = urllib.request.Request(url,data=paramBytes)\n",
    "res = urllib.request.urlopen(req) #response\n",
    "result = res.read()\n",
    "resultStr = result.decode(\"utf-8\")\n",
    "resultObj = json.loads(resultStr)"
   ]
  },
  {
   "cell_type": "code",
   "execution_count": 132,
   "metadata": {},
   "outputs": [
    {
     "data": {
      "text/plain": [
       "{'list': [{'_returnType': 'json',\n",
       "   'cityName': '강남구',\n",
       "   'cityNameEng': 'Gangnam-gu',\n",
       "   'coValue': '0.3',\n",
       "   'dataGubun': '',\n",
       "   'dataTime': '2018-07-13 15:00',\n",
       "   'districtCode': '02',\n",
       "   'districtNumSeq': '001',\n",
       "   'itemCode': '',\n",
       "   'khaiValue': '',\n",
       "   'no2Value': '0.016',\n",
       "   'numOfRows': '10',\n",
       "   'o3Value': '0.022',\n",
       "   'pageNo': '1',\n",
       "   'pm10Value': '15',\n",
       "   'pm25Value': '8',\n",
       "   'resultCode': '',\n",
       "   'resultMsg': '',\n",
       "   'searchCondition': '',\n",
       "   'serviceKey': '',\n",
       "   'sidoName': '서울',\n",
       "   'so2Value': '0.005',\n",
       "   'totalCount': ''},\n",
       "  {'_returnType': 'json',\n",
       "   'cityName': '강동구',\n",
       "   'cityNameEng': 'Gangdong-gu',\n",
       "   'coValue': '0.3',\n",
       "   'dataGubun': '',\n",
       "   'dataTime': '2018-07-13 15:00',\n",
       "   'districtCode': '02',\n",
       "   'districtNumSeq': '002',\n",
       "   'itemCode': '',\n",
       "   'khaiValue': '',\n",
       "   'no2Value': '0.014',\n",
       "   'numOfRows': '10',\n",
       "   'o3Value': '0.021',\n",
       "   'pageNo': '1',\n",
       "   'pm10Value': '17',\n",
       "   'pm25Value': '12',\n",
       "   'resultCode': '',\n",
       "   'resultMsg': '',\n",
       "   'searchCondition': '',\n",
       "   'serviceKey': '',\n",
       "   'sidoName': '서울',\n",
       "   'so2Value': '0.004',\n",
       "   'totalCount': ''},\n",
       "  {'_returnType': 'json',\n",
       "   'cityName': '강북구',\n",
       "   'cityNameEng': 'Gangbuk-gu',\n",
       "   'coValue': '0.2',\n",
       "   'dataGubun': '',\n",
       "   'dataTime': '2018-07-13 15:00',\n",
       "   'districtCode': '02',\n",
       "   'districtNumSeq': '003',\n",
       "   'itemCode': '',\n",
       "   'khaiValue': '',\n",
       "   'no2Value': '0.010',\n",
       "   'numOfRows': '10',\n",
       "   'o3Value': '0.028',\n",
       "   'pageNo': '1',\n",
       "   'pm10Value': '19',\n",
       "   'pm25Value': '13',\n",
       "   'resultCode': '',\n",
       "   'resultMsg': '',\n",
       "   'searchCondition': '',\n",
       "   'serviceKey': '',\n",
       "   'sidoName': '서울',\n",
       "   'so2Value': '0.003',\n",
       "   'totalCount': ''},\n",
       "  {'_returnType': 'json',\n",
       "   'cityName': '강서구',\n",
       "   'cityNameEng': 'Gangseo-gu',\n",
       "   'coValue': '0.2',\n",
       "   'dataGubun': '',\n",
       "   'dataTime': '2018-07-13 15:00',\n",
       "   'districtCode': '02',\n",
       "   'districtNumSeq': '004',\n",
       "   'itemCode': '',\n",
       "   'khaiValue': '',\n",
       "   'no2Value': '0.014',\n",
       "   'numOfRows': '10',\n",
       "   'o3Value': '0.025',\n",
       "   'pageNo': '1',\n",
       "   'pm10Value': '19',\n",
       "   'pm25Value': '7',\n",
       "   'resultCode': '',\n",
       "   'resultMsg': '',\n",
       "   'searchCondition': '',\n",
       "   'serviceKey': '',\n",
       "   'sidoName': '서울',\n",
       "   'so2Value': '0.002',\n",
       "   'totalCount': ''},\n",
       "  {'_returnType': 'json',\n",
       "   'cityName': '관악구',\n",
       "   'cityNameEng': 'Gwanak-gu',\n",
       "   'coValue': '0.2',\n",
       "   'dataGubun': '',\n",
       "   'dataTime': '2018-07-13 15:00',\n",
       "   'districtCode': '02',\n",
       "   'districtNumSeq': '005',\n",
       "   'itemCode': '',\n",
       "   'khaiValue': '',\n",
       "   'no2Value': '0.011',\n",
       "   'numOfRows': '10',\n",
       "   'o3Value': '0.037',\n",
       "   'pageNo': '1',\n",
       "   'pm10Value': '20',\n",
       "   'pm25Value': '9',\n",
       "   'resultCode': '',\n",
       "   'resultMsg': '',\n",
       "   'searchCondition': '',\n",
       "   'serviceKey': '',\n",
       "   'sidoName': '서울',\n",
       "   'so2Value': '0.003',\n",
       "   'totalCount': ''},\n",
       "  {'_returnType': 'json',\n",
       "   'cityName': '광진구',\n",
       "   'cityNameEng': 'Gwangjin-gu',\n",
       "   'coValue': '0.5',\n",
       "   'dataGubun': '',\n",
       "   'dataTime': '2018-07-13 15:00',\n",
       "   'districtCode': '02',\n",
       "   'districtNumSeq': '006',\n",
       "   'itemCode': '',\n",
       "   'khaiValue': '',\n",
       "   'no2Value': '0.010',\n",
       "   'numOfRows': '10',\n",
       "   'o3Value': '0.026',\n",
       "   'pageNo': '1',\n",
       "   'pm10Value': '16',\n",
       "   'pm25Value': '5',\n",
       "   'resultCode': '',\n",
       "   'resultMsg': '',\n",
       "   'searchCondition': '',\n",
       "   'serviceKey': '',\n",
       "   'sidoName': '서울',\n",
       "   'so2Value': '0.006',\n",
       "   'totalCount': ''},\n",
       "  {'_returnType': 'json',\n",
       "   'cityName': '구로구',\n",
       "   'cityNameEng': 'Guro-gu',\n",
       "   'coValue': '',\n",
       "   'dataGubun': '',\n",
       "   'dataTime': '2018-07-13 15:00',\n",
       "   'districtCode': '02',\n",
       "   'districtNumSeq': '007',\n",
       "   'itemCode': '',\n",
       "   'khaiValue': '',\n",
       "   'no2Value': '',\n",
       "   'numOfRows': '10',\n",
       "   'o3Value': '',\n",
       "   'pageNo': '1',\n",
       "   'pm10Value': '15',\n",
       "   'pm25Value': '8',\n",
       "   'resultCode': '',\n",
       "   'resultMsg': '',\n",
       "   'searchCondition': '',\n",
       "   'serviceKey': '',\n",
       "   'sidoName': '서울',\n",
       "   'so2Value': '',\n",
       "   'totalCount': ''},\n",
       "  {'_returnType': 'json',\n",
       "   'cityName': '금천구',\n",
       "   'cityNameEng': 'Geumcheon-gu',\n",
       "   'coValue': '0.2',\n",
       "   'dataGubun': '',\n",
       "   'dataTime': '2018-07-13 15:00',\n",
       "   'districtCode': '02',\n",
       "   'districtNumSeq': '008',\n",
       "   'itemCode': '',\n",
       "   'khaiValue': '',\n",
       "   'no2Value': '0.014',\n",
       "   'numOfRows': '10',\n",
       "   'o3Value': '0.036',\n",
       "   'pageNo': '1',\n",
       "   'pm10Value': '20',\n",
       "   'pm25Value': '15',\n",
       "   'resultCode': '',\n",
       "   'resultMsg': '',\n",
       "   'searchCondition': '',\n",
       "   'serviceKey': '',\n",
       "   'sidoName': '서울',\n",
       "   'so2Value': '0.004',\n",
       "   'totalCount': ''},\n",
       "  {'_returnType': 'json',\n",
       "   'cityName': '노원구',\n",
       "   'cityNameEng': 'Nowon-gu',\n",
       "   'coValue': '0.3',\n",
       "   'dataGubun': '',\n",
       "   'dataTime': '2018-07-13 15:00',\n",
       "   'districtCode': '02',\n",
       "   'districtNumSeq': '009',\n",
       "   'itemCode': '',\n",
       "   'khaiValue': '',\n",
       "   'no2Value': '0.011',\n",
       "   'numOfRows': '10',\n",
       "   'o3Value': '0.026',\n",
       "   'pageNo': '1',\n",
       "   'pm10Value': '22',\n",
       "   'pm25Value': '16',\n",
       "   'resultCode': '',\n",
       "   'resultMsg': '',\n",
       "   'searchCondition': '',\n",
       "   'serviceKey': '',\n",
       "   'sidoName': '서울',\n",
       "   'so2Value': '0.005',\n",
       "   'totalCount': ''},\n",
       "  {'_returnType': 'json',\n",
       "   'cityName': '도봉구',\n",
       "   'cityNameEng': 'Dobong-gu',\n",
       "   'coValue': '0.6',\n",
       "   'dataGubun': '',\n",
       "   'dataTime': '2018-07-13 15:00',\n",
       "   'districtCode': '02',\n",
       "   'districtNumSeq': '010',\n",
       "   'itemCode': '',\n",
       "   'khaiValue': '',\n",
       "   'no2Value': '0.011',\n",
       "   'numOfRows': '10',\n",
       "   'o3Value': '0.027',\n",
       "   'pageNo': '1',\n",
       "   'pm10Value': '21',\n",
       "   'pm25Value': '12',\n",
       "   'resultCode': '',\n",
       "   'resultMsg': '',\n",
       "   'searchCondition': '',\n",
       "   'serviceKey': '',\n",
       "   'sidoName': '서울',\n",
       "   'so2Value': '0.004',\n",
       "   'totalCount': ''}],\n",
       " 'parm': {'_returnType': 'json',\n",
       "  'cityName': '',\n",
       "  'cityNameEng': '',\n",
       "  'coValue': '',\n",
       "  'dataGubun': '',\n",
       "  'dataTime': '',\n",
       "  'districtCode': '',\n",
       "  'districtNumSeq': '',\n",
       "  'itemCode': '',\n",
       "  'khaiValue': '',\n",
       "  'no2Value': '',\n",
       "  'numOfRows': '10',\n",
       "  'o3Value': '',\n",
       "  'pageNo': '1',\n",
       "  'pm10Value': '',\n",
       "  'pm25Value': '',\n",
       "  'resultCode': '',\n",
       "  'resultMsg': '',\n",
       "  'searchCondition': 'DAILY',\n",
       "  'serviceKey': '0xfE7KsqCRvly8WqAN7j+P3UOwr1c2n+O4R3yKGwmOHzgCJ7LccKci0zdNmZbQUQbt3edT3CKrl4+G83Xhx25A==',\n",
       "  'sidoName': '서울',\n",
       "  'so2Value': '',\n",
       "  'totalCount': ''},\n",
       " 'CtprvnMesureLIstVo2': {'_returnType': 'json',\n",
       "  'cityName': '',\n",
       "  'cityNameEng': '',\n",
       "  'coValue': '',\n",
       "  'dataGubun': '',\n",
       "  'dataTime': '',\n",
       "  'districtCode': '',\n",
       "  'districtNumSeq': '',\n",
       "  'itemCode': '',\n",
       "  'khaiValue': '',\n",
       "  'no2Value': '',\n",
       "  'numOfRows': '10',\n",
       "  'o3Value': '',\n",
       "  'pageNo': '1',\n",
       "  'pm10Value': '',\n",
       "  'pm25Value': '',\n",
       "  'resultCode': '',\n",
       "  'resultMsg': '',\n",
       "  'searchCondition': 'DAILY',\n",
       "  'serviceKey': '0xfE7KsqCRvly8WqAN7j+P3UOwr1c2n+O4R3yKGwmOHzgCJ7LccKci0zdNmZbQUQbt3edT3CKrl4+G83Xhx25A==',\n",
       "  'sidoName': '서울',\n",
       "  'so2Value': '',\n",
       "  'totalCount': ''},\n",
       " 'totalCount': 625}"
      ]
     },
     "execution_count": 132,
     "metadata": {},
     "output_type": "execute_result"
    }
   ],
   "source": [
    "resultObj"
   ]
  },
  {
   "cell_type": "code",
   "execution_count": null,
   "metadata": {},
   "outputs": [],
   "source": []
  }
 ],
 "metadata": {
  "kernelspec": {
   "display_name": "Python 3",
   "language": "python",
   "name": "python3"
  },
  "language_info": {
   "codemirror_mode": {
    "name": "ipython",
    "version": 3
   },
   "file_extension": ".py",
   "mimetype": "text/x-python",
   "name": "python",
   "nbconvert_exporter": "python",
   "pygments_lexer": "ipython3",
   "version": "3.6.5"
  }
 },
 "nbformat": 4,
 "nbformat_minor": 2
}
