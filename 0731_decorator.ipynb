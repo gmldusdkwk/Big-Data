{
 "cells": [
  {
   "cell_type": "markdown",
   "metadata": {},
   "source": [
    "# First Order"
   ]
  },
  {
   "cell_type": "markdown",
   "metadata": {},
   "source": [
    "- can be created at runtime\n",
    "- can be assigned to a variable\n",
    "- can be a passed as a argument to a function"
   ]
  },
  {
   "cell_type": "code",
   "execution_count": 4,
   "metadata": {},
   "outputs": [],
   "source": [
    "from IPython import InteractiveShell\n",
    "InteractiveShell.ast_node_interactivity = \"all\""
   ]
  },
  {
   "cell_type": "code",
   "execution_count": 1,
   "metadata": {
    "scrolled": true
   },
   "outputs": [
    {
     "name": "stdout",
     "output_type": "stream",
     "text": [
      "Hi I am a function\n",
      "None\n"
     ]
    }
   ],
   "source": [
    "def hello(x):\n",
    "    print(\"Hi I am a function\")\n",
    "    \n",
    "firs = hello\n",
    "print(firs(12)) # hello 의 return 값이 없으므로 print하면 None이 나온다. "
   ]
  },
  {
   "cell_type": "code",
   "execution_count": 5,
   "metadata": {},
   "outputs": [
    {
     "data": {
      "text/plain": [
       "'hello'"
      ]
     },
     "execution_count": 5,
     "metadata": {},
     "output_type": "execute_result"
    },
    {
     "data": {
      "text/plain": [
       "'hello'"
      ]
     },
     "execution_count": 5,
     "metadata": {},
     "output_type": "execute_result"
    }
   ],
   "source": [
    "hello.__name__\n",
    "firs.__name__"
   ]
  },
  {
   "cell_type": "code",
   "execution_count": 6,
   "metadata": {},
   "outputs": [
    {
     "name": "stdout",
     "output_type": "stream",
     "text": [
      "Hello I am print\n"
     ]
    }
   ],
   "source": [
    "Ankit = print\n",
    "Ankit('Hello I am print')"
   ]
  },
  {
   "cell_type": "markdown",
   "metadata": {},
   "source": [
    "---"
   ]
  },
  {
   "cell_type": "code",
   "execution_count": 7,
   "metadata": {},
   "outputs": [
    {
     "name": "stdout",
     "output_type": "stream",
     "text": [
      "Hi I am a function\n",
      "None\n"
     ]
    }
   ],
   "source": [
    "def hello(x):\n",
    "    print(\"Hi I am a function\")\n",
    "    \n",
    "firs=hello\n",
    "del hello\n",
    "print(firs(12)) # hello 와 firs는 포인터의 개념ㄴ으로 가리키는 것이므로 지워버려도 살아남는다. "
   ]
  },
  {
   "cell_type": "code",
   "execution_count": 11,
   "metadata": {},
   "outputs": [
    {
     "name": "stdout",
     "output_type": "stream",
     "text": [
      "Hi am a function\n"
     ]
    },
    {
     "ename": "TypeError",
     "evalue": "'int' object is not callable",
     "output_type": "error",
     "traceback": [
      "\u001b[0;31m---------------------------------------------------------------------------\u001b[0m",
      "\u001b[0;31mTypeError\u001b[0m                                 Traceback (most recent call last)",
      "\u001b[0;32m<ipython-input-11-25212292a7b2>\u001b[0m in \u001b[0;36m<module>\u001b[0;34m()\u001b[0m\n\u001b[1;32m      4\u001b[0m \u001b[0;34m\u001b[0m\u001b[0m\n\u001b[1;32m      5\u001b[0m \u001b[0mfirs\u001b[0m \u001b[0;34m=\u001b[0m \u001b[0mhello\u001b[0m\u001b[0;34m(\u001b[0m\u001b[0;36m1\u001b[0m\u001b[0;34m)\u001b[0m\u001b[0;34m\u001b[0m\u001b[0m\n\u001b[0;32m----> 6\u001b[0;31m \u001b[0mprint\u001b[0m\u001b[0;34m(\u001b[0m\u001b[0mfirs\u001b[0m\u001b[0;34m(\u001b[0m\u001b[0;36m12\u001b[0m\u001b[0;34m)\u001b[0m\u001b[0;34m)\u001b[0m  \u001b[0;31m#  firs 는 int 1이라는 수이다.\u001b[0m\u001b[0;34m\u001b[0m\u001b[0m\n\u001b[0m",
      "\u001b[0;31mTypeError\u001b[0m: 'int' object is not callable"
     ]
    }
   ],
   "source": [
    "def hello(x):\n",
    "    print(\"Hi am a function\")\n",
    "    return 1\n",
    "\n",
    "firs = hello(1)\n",
    "print(firs(12))  #  firs 는 int 1이라는 수이다. "
   ]
  },
  {
   "cell_type": "code",
   "execution_count": 13,
   "metadata": {},
   "outputs": [
    {
     "data": {
      "text/plain": [
       "False"
      ]
     },
     "execution_count": 13,
     "metadata": {},
     "output_type": "execute_result"
    }
   ],
   "source": [
    "callable(firs) # 함수로 실행되는지 내부적으로 확인이 가능하다."
   ]
  },
  {
   "cell_type": "code",
   "execution_count": 16,
   "metadata": {},
   "outputs": [
    {
     "name": "stdout",
     "output_type": "stream",
     "text": [
      "Hi I am a function\n",
      "Hi I am a function\n",
      "<function hello at 0x10d8981e0>\n"
     ]
    }
   ],
   "source": [
    "def hello(x):\n",
    "    print(\"Hi I am a function\")\n",
    "    return hello\n",
    "\n",
    "firs = hello(1)\n",
    "print(firs(12))"
   ]
  },
  {
   "cell_type": "code",
   "execution_count": 19,
   "metadata": {},
   "outputs": [
    {
     "name": "stdout",
     "output_type": "stream",
     "text": [
      "Hi I am a function\n",
      "Hi I am a function\n",
      "Hi I am a function\n",
      "Hi I am a function\n"
     ]
    }
   ],
   "source": [
    "firs = hello(1)(2)(3)(4)"
   ]
  },
  {
   "cell_type": "code",
   "execution_count": 20,
   "metadata": {},
   "outputs": [
    {
     "data": {
      "text/plain": [
       "<function __main__.hello(x)>"
      ]
     },
     "execution_count": 20,
     "metadata": {},
     "output_type": "execute_result"
    }
   ],
   "source": [
    "firs # 값을 넣고 함수를 실행해도 결과값이 함수가 나올 수 있다. "
   ]
  },
  {
   "cell_type": "code",
   "execution_count": 21,
   "metadata": {},
   "outputs": [],
   "source": [
    "def bye(y):\n",
    "    z=x+y\n",
    "    print(z)"
   ]
  },
  {
   "cell_type": "code",
   "execution_count": 24,
   "metadata": {},
   "outputs": [
    {
     "ename": "NameError",
     "evalue": "name 'x' is not defined",
     "output_type": "error",
     "traceback": [
      "\u001b[0;31m---------------------------------------------------------------------------\u001b[0m",
      "\u001b[0;31mNameError\u001b[0m                                 Traceback (most recent call last)",
      "\u001b[0;32m<ipython-input-24-bc29c531b53b>\u001b[0m in \u001b[0;36m<module>\u001b[0;34m()\u001b[0m\n\u001b[0;32m----> 1\u001b[0;31m \u001b[0mbye\u001b[0m\u001b[0;34m(\u001b[0m\u001b[0;36m12\u001b[0m\u001b[0;34m)\u001b[0m\u001b[0;34m\u001b[0m\u001b[0m\n\u001b[0m",
      "\u001b[0;32m<ipython-input-21-76f964d4ac4a>\u001b[0m in \u001b[0;36mbye\u001b[0;34m(y)\u001b[0m\n\u001b[1;32m      1\u001b[0m \u001b[0;32mdef\u001b[0m \u001b[0mbye\u001b[0m\u001b[0;34m(\u001b[0m\u001b[0my\u001b[0m\u001b[0;34m)\u001b[0m\u001b[0;34m:\u001b[0m\u001b[0;34m\u001b[0m\u001b[0m\n\u001b[0;32m----> 2\u001b[0;31m     \u001b[0mz\u001b[0m\u001b[0;34m=\u001b[0m\u001b[0mx\u001b[0m\u001b[0;34m+\u001b[0m\u001b[0my\u001b[0m\u001b[0;34m\u001b[0m\u001b[0m\n\u001b[0m\u001b[1;32m      3\u001b[0m     \u001b[0mprint\u001b[0m\u001b[0;34m(\u001b[0m\u001b[0mz\u001b[0m\u001b[0;34m)\u001b[0m\u001b[0;34m\u001b[0m\u001b[0m\n",
      "\u001b[0;31mNameError\u001b[0m: name 'x' is not defined"
     ]
    }
   ],
   "source": [
    "bye(12) # x -> NameError"
   ]
  },
  {
   "cell_type": "code",
   "execution_count": 31,
   "metadata": {},
   "outputs": [
    {
     "name": "stdout",
     "output_type": "stream",
     "text": [
      "hello\n",
      "This is my real func bye\n",
      "look\n"
     ]
    }
   ],
   "source": [
    "def bye():\n",
    "    print('look')\n",
    "    \n",
    "def hello(func):\n",
    "    print(\"hello\")\n",
    "    print(\"This is my real func\",func.__name__)\n",
    "    func()\n",
    "    \n",
    "hello(bye)"
   ]
  },
  {
   "cell_type": "code",
   "execution_count": 38,
   "metadata": {},
   "outputs": [
    {
     "name": "stdout",
     "output_type": "stream",
     "text": [
      "look\n",
      "hello\n",
      "oh 12\n",
      "0\n",
      "0\n",
      "0\n",
      "\n",
      "\n",
      "<function bye at 0x10d807510>\n",
      "<function hello at 0x10d898e18>\n",
      "<function byea at 0x10d898ea0>\n"
     ]
    }
   ],
   "source": [
    "def bye():\n",
    "    print('look')\n",
    "    return 0\n",
    "\n",
    "def hello():\n",
    "    print(\"hello\")\n",
    "    return 0\n",
    "\n",
    "def byea(r):\n",
    "    print(\"oh\",r)\n",
    "    return 0\n",
    "\n",
    "I = [bye(), hello(), byea(12)]\n",
    "for i in I:\n",
    "    print(i) # 전부 print를 하고 나서 return 을 한다!\n",
    "    \n",
    "print(\"\\n\")\n",
    "    \n",
    "I = [bye, hello, byea]\n",
    "for i in I:\n",
    "    print(i)"
   ]
  },
  {
   "cell_type": "markdown",
   "metadata": {},
   "source": [
    "## Closure"
   ]
  },
  {
   "cell_type": "code",
   "execution_count": 40,
   "metadata": {},
   "outputs": [
    {
     "name": "stdout",
     "output_type": "stream",
     "text": [
      "12\n",
      "2\n"
     ]
    }
   ],
   "source": [
    "def hello(x):\n",
    "    x=12\n",
    "    def bye():\n",
    "        print(x)\n",
    "        return 2\n",
    "    return bye\n",
    "\n",
    "er=hello(13)\n",
    "print(er())"
   ]
  },
  {
   "cell_type": "code",
   "execution_count": 41,
   "metadata": {},
   "outputs": [],
   "source": [
    "import math\n",
    "\n",
    "def demo_one():\n",
    "    return math.sqrt"
   ]
  },
  {
   "cell_type": "code",
   "execution_count": 47,
   "metadata": {},
   "outputs": [
    {
     "name": "stdout",
     "output_type": "stream",
     "text": [
      "ankit\n",
      "ANKIT\n"
     ]
    }
   ],
   "source": [
    "def hello(x):\n",
    "    def by():\n",
    "        print(x)\n",
    "        return x.upper()\n",
    "    return by\n",
    "\n",
    "print(hello(\"ankit\")())"
   ]
  },
  {
   "cell_type": "code",
   "execution_count": 50,
   "metadata": {},
   "outputs": [
    {
     "data": {
      "text/plain": [
       "6"
      ]
     },
     "execution_count": 50,
     "metadata": {},
     "output_type": "execute_result"
    }
   ],
   "source": [
    "def funcwrapper(y):\n",
    "    def addone(x):\n",
    "        return x+y+1\n",
    "    return addone\n",
    "result = funcwrapper(3)(2) # funcwrapper(3)은 동적으로 y+4라는 함수가 생성된다. \n",
    "result"
   ]
  },
  {
   "cell_type": "markdown",
   "metadata": {},
   "source": [
    "## using return"
   ]
  },
  {
   "cell_type": "code",
   "execution_count": 58,
   "metadata": {},
   "outputs": [
    {
     "name": "stdout",
     "output_type": "stream",
     "text": [
      "I am nested function 12\n"
     ]
    }
   ],
   "source": [
    "def demo(x):\n",
    "    def ine():\n",
    "        print(\"I am nested function\", x)\n",
    "    return ine()\n",
    "\n",
    "demo(12)"
   ]
  },
  {
   "cell_type": "markdown",
   "metadata": {},
   "source": [
    "## using closure"
   ]
  },
  {
   "cell_type": "code",
   "execution_count": 57,
   "metadata": {},
   "outputs": [
    {
     "name": "stdout",
     "output_type": "stream",
     "text": [
      "I am nested function 12\n"
     ]
    }
   ],
   "source": [
    "def demo(x):\n",
    "    def ine():\n",
    "        print(\"I am nested function\", x)\n",
    "    return ine\n",
    "\n",
    "demo(12)()"
   ]
  },
  {
   "cell_type": "code",
   "execution_count": 64,
   "metadata": {},
   "outputs": [
    {
     "name": "stdout",
     "output_type": "stream",
     "text": [
      "hk\n"
     ]
    },
    {
     "data": {
      "text/plain": [
       "<function __main__.hello.<locals>.bye(x)>"
      ]
     },
     "execution_count": 64,
     "metadata": {},
     "output_type": "execute_result"
    },
    {
     "name": "stdout",
     "output_type": "stream",
     "text": [
      "\n",
      "\n",
      "before the decorator\n",
      "hk\n",
      "after the decorator\n",
      "\n",
      "\n",
      "before the decorator\n",
      "hk\n",
      "after the decorator\n",
      "None\n"
     ]
    }
   ],
   "source": [
    "def hello(func):\n",
    "    def bye(x):\n",
    "        print(\"before the decorator\")\n",
    "        func(x)\n",
    "        print(\"after the decorator\")\n",
    "    return bye\n",
    "\n",
    "def hi(sa):\n",
    "    print(\"hk\")\n",
    "\n",
    "hi(1) # return None\n",
    "df=hello(hi)\n",
    "df\n",
    "print(\"\\n\")\n",
    "df(1)\n",
    "\n",
    "print(\"\\n\")\n",
    "\n",
    "print(hello(hi)(1))"
   ]
  },
  {
   "cell_type": "code",
   "execution_count": 65,
   "metadata": {},
   "outputs": [
    {
     "name": "stdout",
     "output_type": "stream",
     "text": [
      "before the decorator\n",
      "hk\n",
      "after the decorator\n"
     ]
    }
   ],
   "source": [
    "def hello(func):\n",
    "    def bye(x):\n",
    "        print(\"before the decorator\")\n",
    "        func(x)\n",
    "        print(\"after the decorator\")\n",
    "    return bye\n",
    "\n",
    "@hello\n",
    "def hi(sa):\n",
    "    print(\"hk\")\n",
    "    \n",
    "hi(1)"
   ]
  },
  {
   "cell_type": "code",
   "execution_count": 81,
   "metadata": {},
   "outputs": [],
   "source": [
    "def extrafun(hi):\n",
    "    def decorator(func):\n",
    "        def wrapper(x):\n",
    "            print(\"before decorating\")\n",
    "            func(x)\n",
    "            print(\"After decorating\")\n",
    "        return wrapper\n",
    "    return decorator\n",
    "\n",
    "def newfunc(c):\n",
    "    print(\"This is new function\")"
   ]
  },
  {
   "cell_type": "code",
   "execution_count": 82,
   "metadata": {},
   "outputs": [
    {
     "name": "stdout",
     "output_type": "stream",
     "text": [
      "before decorating\n",
      "This is new function\n",
      "After decorating\n"
     ]
    }
   ],
   "source": [
    "extrafun(1)(newfunc)(1)"
   ]
  },
  {
   "cell_type": "code",
   "execution_count": 83,
   "metadata": {},
   "outputs": [
    {
     "name": "stdout",
     "output_type": "stream",
     "text": [
      "before decorating\n",
      "This is new function\n",
      "After decorating\n"
     ]
    }
   ],
   "source": [
    "@extrafun(12)\n",
    "def newfunc(c):\n",
    "    print(\"This is new function\")\n",
    "    \n",
    "newfunc(1)"
   ]
  },
  {
   "cell_type": "code",
   "execution_count": null,
   "metadata": {},
   "outputs": [],
   "source": []
  }
 ],
 "metadata": {
  "kernelspec": {
   "display_name": "Python 3",
   "language": "python",
   "name": "python3"
  },
  "language_info": {
   "codemirror_mode": {
    "name": "ipython",
    "version": 3
   },
   "file_extension": ".py",
   "mimetype": "text/x-python",
   "name": "python",
   "nbconvert_exporter": "python",
   "pygments_lexer": "ipython3",
   "version": "3.6.5"
  }
 },
 "nbformat": 4,
 "nbformat_minor": 2
}
